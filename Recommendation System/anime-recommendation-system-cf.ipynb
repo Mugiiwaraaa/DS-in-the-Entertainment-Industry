{
 "cells": [
  {
   "cell_type": "code",
   "execution_count": 1,
   "id": "b305e044",
   "metadata": {
    "_cell_guid": "b1076dfc-b9ad-4769-8c92-a6c4dae69d19",
    "_uuid": "8f2839f25d086af736a60e9eeb907d3b93b6e0e5",
    "execution": {
     "iopub.execute_input": "2022-09-20T01:12:22.912243Z",
     "iopub.status.busy": "2022-09-20T01:12:22.911350Z",
     "iopub.status.idle": "2022-09-20T01:12:22.989773Z",
     "shell.execute_reply": "2022-09-20T01:12:22.988952Z",
     "shell.execute_reply.started": "2022-09-19T21:40:54.877773Z"
    },
    "papermill": {
     "duration": 0.150195,
     "end_time": "2022-09-20T01:12:22.989967",
     "exception": false,
     "start_time": "2022-09-20T01:12:22.839772",
     "status": "completed"
    },
    "tags": []
   },
   "outputs": [
    {
     "name": "stdout",
     "output_type": "stream",
     "text": [
      "/kaggle/input/anime-recommendation-database-2020/watching_status.csv\n",
      "/kaggle/input/anime-recommendation-database-2020/rating_complete.csv\n",
      "/kaggle/input/anime-recommendation-database-2020/animelist.csv\n",
      "/kaggle/input/anime-recommendation-database-2020/anime.csv\n",
      "/kaggle/input/anime-recommendation-database-2020/anime_with_synopsis.csv\n",
      "/kaggle/input/anime-recommendation-database-2020/html folder/instructions.txt\n",
      "/kaggle/input/anime-recommendation-database-2020/html folder/html/5/reviews_1.html\n",
      "/kaggle/input/anime-recommendation-database-2020/html folder/html/5/staff.html\n",
      "/kaggle/input/anime-recommendation-database-2020/html folder/html/5/reviews_2.html\n",
      "/kaggle/input/anime-recommendation-database-2020/html folder/html/5/pictures.html\n",
      "/kaggle/input/anime-recommendation-database-2020/html folder/html/5/stats.html\n",
      "/kaggle/input/anime-recommendation-database-2020/html folder/html/5/details.html\n",
      "/kaggle/input/anime-recommendation-database-2020/html folder/html/5/reviews_3.html\n",
      "/kaggle/input/anime-recommendation-database-2020/html folder/html/5/recomendations.html\n",
      "/kaggle/input/anime-recommendation-database-2020/html folder/html/1/reviews_9.html\n",
      "/kaggle/input/anime-recommendation-database-2020/html folder/html/1/reviews_8.html\n",
      "/kaggle/input/anime-recommendation-database-2020/html folder/html/1/reviews_16.html\n",
      "/kaggle/input/anime-recommendation-database-2020/html folder/html/1/reviews_1.html\n",
      "/kaggle/input/anime-recommendation-database-2020/html folder/html/1/reviews_18.html\n",
      "/kaggle/input/anime-recommendation-database-2020/html folder/html/1/staff.html\n",
      "/kaggle/input/anime-recommendation-database-2020/html folder/html/1/reviews_4.html\n",
      "/kaggle/input/anime-recommendation-database-2020/html folder/html/1/reviews_11.html\n",
      "/kaggle/input/anime-recommendation-database-2020/html folder/html/1/reviews_19.html\n",
      "/kaggle/input/anime-recommendation-database-2020/html folder/html/1/reviews_2.html\n",
      "/kaggle/input/anime-recommendation-database-2020/html folder/html/1/reviews_13.html\n",
      "/kaggle/input/anime-recommendation-database-2020/html folder/html/1/reviews_17.html\n",
      "/kaggle/input/anime-recommendation-database-2020/html folder/html/1/pictures.html\n",
      "/kaggle/input/anime-recommendation-database-2020/html folder/html/1/reviews_22.html\n",
      "/kaggle/input/anime-recommendation-database-2020/html folder/html/1/reviews_10.html\n",
      "/kaggle/input/anime-recommendation-database-2020/html folder/html/1/reviews_15.html\n",
      "/kaggle/input/anime-recommendation-database-2020/html folder/html/1/stats.html\n",
      "/kaggle/input/anime-recommendation-database-2020/html folder/html/1/reviews_6.html\n",
      "/kaggle/input/anime-recommendation-database-2020/html folder/html/1/details.html\n",
      "/kaggle/input/anime-recommendation-database-2020/html folder/html/1/reviews_3.html\n",
      "/kaggle/input/anime-recommendation-database-2020/html folder/html/1/reviews_5.html\n",
      "/kaggle/input/anime-recommendation-database-2020/html folder/html/1/reviews_7.html\n",
      "/kaggle/input/anime-recommendation-database-2020/html folder/html/1/reviews_14.html\n",
      "/kaggle/input/anime-recommendation-database-2020/html folder/html/1/reviews_20.html\n",
      "/kaggle/input/anime-recommendation-database-2020/html folder/html/1/reviews_21.html\n",
      "/kaggle/input/anime-recommendation-database-2020/html folder/html/1/reviews_12.html\n",
      "/kaggle/input/anime-recommendation-database-2020/html folder/html/1/recomendations.html\n"
     ]
    }
   ],
   "source": [
    "# This Python 3 environment comes with many helpful analytics libraries installed\n",
    "# It is defined by the kaggle/python Docker image: https://github.com/kaggle/docker-python\n",
    "# For example, here's several helpful packages to load\n",
    "\n",
    "import numpy as np # linear algebra\n",
    "import pandas as pd # data processing, CSV file I/O (e.g. pd.read_csv)\n",
    "\n",
    "# Input data files are available in the read-only \"../input/\" directory\n",
    "# For example, running this (by clicking run or pressing Shift+Enter) will list all files under the input directory\n",
    "\n",
    "import os\n",
    "for dirname, _, filenames in os.walk('/kaggle/input'):\n",
    "    for filename in filenames:\n",
    "        print(os.path.join(dirname, filename))\n",
    "\n",
    "# You can write up to 20GB to the current directory (/kaggle/working/) that gets preserved as output when you create a version using \"Save & Run All\" \n",
    "# You can also write temporary files to /kaggle/temp/, but they won't be saved outside of the current session"
   ]
  },
  {
   "cell_type": "markdown",
   "id": "1c14a543",
   "metadata": {
    "papermill": {
     "duration": 0.053109,
     "end_time": "2022-09-20T01:12:23.097586",
     "exception": false,
     "start_time": "2022-09-20T01:12:23.044477",
     "status": "completed"
    },
    "tags": []
   },
   "source": [
    "# Recommendation Systems \n",
    "Recommendation systems are widely used today especially in the E-commerce and the Entertainment industry. It not only allows for better marketing strategies but also creates a **win-win situation** as dedicated customers and audience want to view products that are similar to their likes. People also dont want to stay updated with current trends and dont want to miss out on them. Therefore they appreciate poular recommendations.\n",
    "\n",
    "\n",
    "## Collborative Filtering\n",
    "\n",
    "\n",
    "![](https://miro.medium.com/max/1064/1*mz9tzP1LjPBhmiWXeHyQkQ.png)\n",
    "\n",
    "- As you can see in the picture above , there are a few limitations with the content based filtering.\n",
    "- To make up for these limitations, the Collaborative Filtering Algorithm not only uses the similarities between products but also the similarities between users by analysing user behaviour to recommend similar products.\n",
    "\n",
    "Therefore We will be dividing our work into 3 different tasks:\n",
    "- **Task 1:** Find out similar anime \n",
    "- **Task 2:** Find out similar users\n",
    "- **Task 3:** Make recommendations for a random user"
   ]
  },
  {
   "cell_type": "markdown",
   "id": "5cdcd45b",
   "metadata": {
    "papermill": {
     "duration": 0.053945,
     "end_time": "2022-09-20T01:12:23.206112",
     "exception": false,
     "start_time": "2022-09-20T01:12:23.152167",
     "status": "completed"
    },
    "tags": []
   },
   "source": []
  },
  {
   "cell_type": "markdown",
   "id": "47c7d339",
   "metadata": {
    "papermill": {
     "duration": 0.054919,
     "end_time": "2022-09-20T01:12:23.314727",
     "exception": false,
     "start_time": "2022-09-20T01:12:23.259808",
     "status": "completed"
    },
    "tags": []
   },
   "source": [
    "## 1. Dependencies Required "
   ]
  },
  {
   "cell_type": "code",
   "execution_count": 2,
   "id": "f1105ce7",
   "metadata": {
    "execution": {
     "iopub.execute_input": "2022-09-20T01:12:23.430659Z",
     "iopub.status.busy": "2022-09-20T01:12:23.429634Z",
     "iopub.status.idle": "2022-09-20T01:12:35.672405Z",
     "shell.execute_reply": "2022-09-20T01:12:35.671574Z",
     "shell.execute_reply.started": "2022-09-19T21:40:55.009257Z"
    },
    "papermill": {
     "duration": 12.304646,
     "end_time": "2022-09-20T01:12:35.672576",
     "exception": false,
     "start_time": "2022-09-20T01:12:23.367930",
     "status": "completed"
    },
    "tags": []
   },
   "outputs": [
    {
     "name": "stdout",
     "output_type": "stream",
     "text": [
      "Collecting keras\r\n",
      "  Downloading keras-2.10.0-py2.py3-none-any.whl (1.7 MB)\r\n",
      "\u001b[K     |████████████████████████████████| 1.7 MB 2.1 MB/s \r\n",
      "\u001b[?25hInstalling collected packages: keras\r\n",
      "Successfully installed keras-2.10.0\r\n",
      "\u001b[33mWARNING: Running pip as the 'root' user can result in broken permissions and conflicting behaviour with the system package manager. It is recommended to use a virtual environment instead: https://pip.pypa.io/warnings/venv\u001b[0m\r\n"
     ]
    }
   ],
   "source": [
    "!pip install keras"
   ]
  },
  {
   "cell_type": "code",
   "execution_count": 3,
   "id": "84e205b4",
   "metadata": {
    "execution": {
     "iopub.execute_input": "2022-09-20T01:12:35.794642Z",
     "iopub.status.busy": "2022-09-20T01:12:35.793787Z",
     "iopub.status.idle": "2022-09-20T01:12:44.303908Z",
     "shell.execute_reply": "2022-09-20T01:12:44.303094Z",
     "shell.execute_reply.started": "2022-09-20T00:56:59.642878Z"
    },
    "papermill": {
     "duration": 8.577664,
     "end_time": "2022-09-20T01:12:44.304070",
     "exception": false,
     "start_time": "2022-09-20T01:12:35.726406",
     "status": "completed"
    },
    "tags": []
   },
   "outputs": [
    {
     "name": "stderr",
     "output_type": "stream",
     "text": [
      "2022-09-20 01:12:37.822624: W tensorflow/stream_executor/platform/default/dso_loader.cc:60] Could not load dynamic library 'libcudart.so.11.0'; dlerror: libcudart.so.11.0: cannot open shared object file: No such file or directory; LD_LIBRARY_PATH: /opt/conda/lib\n",
      "2022-09-20 01:12:37.822777: I tensorflow/stream_executor/cuda/cudart_stub.cc:29] Ignore above cudart dlerror if you do not have a GPU set up on your machine.\n"
     ]
    }
   ],
   "source": [
    "import numpy as np\n",
    "import pandas as pd \n",
    "import matplotlib.pyplot as plt\n",
    "%matplotlib inline\n",
    "from sklearn.preprocessing import MinMaxScaler\n",
    "from sklearn.model_selection import train_test_split\n",
    "import tensorflow as tf\n",
    "from tensorflow import  keras\n",
    "from tensorflow.keras import layers \n",
    "from tensorflow.keras.models import Model\n",
    "from tensorflow.keras.layers import Add, Activation, Lambda, BatchNormalization, Dropout, Input, Embedding, Dot, Reshape, Dense, Flatten\n",
    "from tensorflow.keras.callbacks import Callback, ModelCheckpoint, LearningRateScheduler, TensorBoard, EarlyStopping, ReduceLROnPlateau\n",
    "from wordcloud import WordCloud\n",
    "from collections import defaultdict\n",
    "from IPython.display import FileLink"
   ]
  },
  {
   "cell_type": "markdown",
   "id": "84f78929",
   "metadata": {
    "papermill": {
     "duration": 0.055104,
     "end_time": "2022-09-20T01:12:44.413718",
     "exception": false,
     "start_time": "2022-09-20T01:12:44.358614",
     "status": "completed"
    },
    "tags": []
   },
   "source": [
    "## 2. Loading the Dataset and Initial Preprocessing "
   ]
  },
  {
   "cell_type": "code",
   "execution_count": 4,
   "id": "9fb03d7d",
   "metadata": {
    "execution": {
     "iopub.execute_input": "2022-09-20T01:12:44.527620Z",
     "iopub.status.busy": "2022-09-20T01:12:44.526859Z",
     "iopub.status.idle": "2022-09-20T01:13:15.708615Z",
     "shell.execute_reply": "2022-09-20T01:13:15.709315Z",
     "shell.execute_reply.started": "2022-09-19T21:41:12.641145Z"
    },
    "papermill": {
     "duration": 31.242041,
     "end_time": "2022-09-20T01:13:15.709583",
     "exception": false,
     "start_time": "2022-09-20T01:12:44.467542",
     "status": "completed"
    },
    "tags": []
   },
   "outputs": [],
   "source": [
    "#Loading the datasets \n",
    "anime_df = pd.read_csv('../input/anime-recommendation-database-2020/anime.csv')\n",
    "synopsis_df = pd.read_csv('../input/anime-recommendation-database-2020/anime_with_synopsis.csv')\n",
    "rating_df = pd.read_csv('../input/anime-recommendation-database-2020/rating_complete.csv', low_memory=False)"
   ]
  },
  {
   "cell_type": "code",
   "execution_count": 5,
   "id": "92e1436d",
   "metadata": {
    "execution": {
     "iopub.execute_input": "2022-09-20T01:13:15.828604Z",
     "iopub.status.busy": "2022-09-20T01:13:15.827858Z",
     "iopub.status.idle": "2022-09-20T01:13:15.831042Z",
     "shell.execute_reply": "2022-09-20T01:13:15.831571Z",
     "shell.execute_reply.started": "2022-09-19T21:41:46.400502Z"
    },
    "papermill": {
     "duration": 0.068087,
     "end_time": "2022-09-20T01:13:15.831755",
     "exception": false,
     "start_time": "2022-09-20T01:13:15.763668",
     "status": "completed"
    },
    "tags": []
   },
   "outputs": [
    {
     "data": {
      "text/plain": [
       "((17562, 35), (16214, 5), (57633278, 3))"
      ]
     },
     "execution_count": 5,
     "metadata": {},
     "output_type": "execute_result"
    }
   ],
   "source": [
    "anime_df.shape , synopsis_df.shape , rating_df.shape"
   ]
  },
  {
   "cell_type": "markdown",
   "id": "912545d5",
   "metadata": {
    "papermill": {
     "duration": 0.052824,
     "end_time": "2022-09-20T01:13:15.937942",
     "exception": false,
     "start_time": "2022-09-20T01:13:15.885118",
     "status": "completed"
    },
    "tags": []
   },
   "source": [
    "#### Too many rows in the ratings so lets make it so that the user must have rated atleast 200 animes"
   ]
  },
  {
   "cell_type": "code",
   "execution_count": 6,
   "id": "832537a1",
   "metadata": {
    "execution": {
     "iopub.execute_input": "2022-09-20T01:13:16.052510Z",
     "iopub.status.busy": "2022-09-20T01:13:16.051820Z",
     "iopub.status.idle": "2022-09-20T01:13:16.058699Z",
     "shell.execute_reply": "2022-09-20T01:13:16.057916Z",
     "shell.execute_reply.started": "2022-09-19T21:41:46.411133Z"
    },
    "papermill": {
     "duration": 0.065774,
     "end_time": "2022-09-20T01:13:16.058861",
     "exception": false,
     "start_time": "2022-09-20T01:13:15.993087",
     "status": "completed"
    },
    "tags": []
   },
   "outputs": [
    {
     "data": {
      "text/plain": [
       "Index(['user_id', 'anime_id', 'rating'], dtype='object')"
      ]
     },
     "execution_count": 6,
     "metadata": {},
     "output_type": "execute_result"
    }
   ],
   "source": [
    "rating_df.columns"
   ]
  },
  {
   "cell_type": "code",
   "execution_count": 7,
   "id": "b4caa001",
   "metadata": {
    "execution": {
     "iopub.execute_input": "2022-09-20T01:13:16.206799Z",
     "iopub.status.busy": "2022-09-20T01:13:16.205600Z",
     "iopub.status.idle": "2022-09-20T01:13:19.248598Z",
     "shell.execute_reply": "2022-09-20T01:13:19.247687Z",
     "shell.execute_reply.started": "2022-09-19T21:41:46.424371Z"
    },
    "papermill": {
     "duration": 3.128964,
     "end_time": "2022-09-20T01:13:19.248816",
     "exception": false,
     "start_time": "2022-09-20T01:13:16.119852",
     "status": "completed"
    },
    "tags": []
   },
   "outputs": [],
   "source": [
    "ratings = rating_df['user_id'].value_counts()\n",
    "rating_df=rating_df[rating_df['user_id'].isin(ratings[ratings >= 200].index)].copy()\n"
   ]
  },
  {
   "cell_type": "code",
   "execution_count": 8,
   "id": "157869f6",
   "metadata": {
    "execution": {
     "iopub.execute_input": "2022-09-20T01:13:19.379118Z",
     "iopub.status.busy": "2022-09-20T01:13:19.378043Z",
     "iopub.status.idle": "2022-09-20T01:13:19.383951Z",
     "shell.execute_reply": "2022-09-20T01:13:19.384512Z",
     "shell.execute_reply.started": "2022-09-19T21:41:49.333388Z"
    },
    "papermill": {
     "duration": 0.071468,
     "end_time": "2022-09-20T01:13:19.384710",
     "exception": false,
     "start_time": "2022-09-20T01:13:19.313242",
     "status": "completed"
    },
    "tags": []
   },
   "outputs": [
    {
     "data": {
      "text/plain": [
       "41320341"
      ]
     },
     "execution_count": 8,
     "metadata": {},
     "output_type": "execute_result"
    }
   ],
   "source": [
    "len(rating_df)"
   ]
  },
  {
   "cell_type": "markdown",
   "id": "feea89cb",
   "metadata": {
    "papermill": {
     "duration": 0.068809,
     "end_time": "2022-09-20T01:13:19.513836",
     "exception": false,
     "start_time": "2022-09-20T01:13:19.445027",
     "status": "completed"
    },
    "tags": []
   },
   "source": [
    "### 2.1 Removing Duplicates"
   ]
  },
  {
   "cell_type": "code",
   "execution_count": 9,
   "id": "3a555072",
   "metadata": {
    "execution": {
     "iopub.execute_input": "2022-09-20T01:13:19.643340Z",
     "iopub.status.busy": "2022-09-20T01:13:19.641965Z",
     "iopub.status.idle": "2022-09-20T01:13:53.004926Z",
     "shell.execute_reply": "2022-09-20T01:13:53.005573Z",
     "shell.execute_reply.started": "2022-09-19T21:41:49.340874Z"
    },
    "papermill": {
     "duration": 33.430709,
     "end_time": "2022-09-20T01:13:53.005982",
     "exception": false,
     "start_time": "2022-09-20T01:13:19.575273",
     "status": "completed"
    },
    "tags": []
   },
   "outputs": [
    {
     "name": "stdout",
     "output_type": "stream",
     "text": [
      "0 duplicates\n"
     ]
    }
   ],
   "source": [
    "dups=rating_df.duplicated()\n",
    "\n",
    "if dups.sum()>0:\n",
    "    print(f\"{dups.sum()} duplicates \")\n",
    "    rating_df=rating_df[~dups]\n",
    "\n",
    "print(f\"{rating_df.duplicated().sum()} duplicates\")\n",
    "    "
   ]
  },
  {
   "cell_type": "markdown",
   "id": "d79570b5",
   "metadata": {
    "papermill": {
     "duration": 0.056148,
     "end_time": "2022-09-20T01:13:53.118995",
     "exception": false,
     "start_time": "2022-09-20T01:13:53.062847",
     "status": "completed"
    },
    "tags": []
   },
   "source": [
    "### 2.2 Scaling the ratings between (0-1.0)\n",
    "This is recommended for a better performance of the model."
   ]
  },
  {
   "cell_type": "code",
   "execution_count": 10,
   "id": "5f29828c",
   "metadata": {
    "execution": {
     "iopub.execute_input": "2022-09-20T01:13:53.242451Z",
     "iopub.status.busy": "2022-09-20T01:13:53.241663Z",
     "iopub.status.idle": "2022-09-20T01:13:54.141215Z",
     "shell.execute_reply": "2022-09-20T01:13:54.140469Z",
     "shell.execute_reply.started": "2022-09-19T21:42:10.855025Z"
    },
    "papermill": {
     "duration": 0.965505,
     "end_time": "2022-09-20T01:13:54.141387",
     "exception": false,
     "start_time": "2022-09-20T01:13:53.175882",
     "status": "completed"
    },
    "tags": []
   },
   "outputs": [],
   "source": [
    "scaler = MinMaxScaler()\n",
    "rating_df['rating']=scaler.fit_transform(rating_df['rating'].values.reshape(-1,1))"
   ]
  },
  {
   "cell_type": "code",
   "execution_count": 11,
   "id": "928ed842",
   "metadata": {
    "execution": {
     "iopub.execute_input": "2022-09-20T01:13:54.264672Z",
     "iopub.status.busy": "2022-09-20T01:13:54.263900Z",
     "iopub.status.idle": "2022-09-20T01:13:54.340332Z",
     "shell.execute_reply": "2022-09-20T01:13:54.339576Z",
     "shell.execute_reply.started": "2022-09-19T21:42:11.721284Z"
    },
    "papermill": {
     "duration": 0.141199,
     "end_time": "2022-09-20T01:13:54.340530",
     "exception": false,
     "start_time": "2022-09-20T01:13:54.199331",
     "status": "completed"
    },
    "tags": []
   },
   "outputs": [
    {
     "name": "stdout",
     "output_type": "stream",
     "text": [
      "Avg is : 0.7071209578367798\n"
     ]
    }
   ],
   "source": [
    "Avgrating = np.mean(rating_df['rating'])\n",
    "print('Avg is :' , Avgrating)"
   ]
  },
  {
   "cell_type": "code",
   "execution_count": 12,
   "id": "f4573c3c",
   "metadata": {
    "execution": {
     "iopub.execute_input": "2022-09-20T01:13:54.469838Z",
     "iopub.status.busy": "2022-09-20T01:13:54.467317Z",
     "iopub.status.idle": "2022-09-20T01:13:58.989794Z",
     "shell.execute_reply": "2022-09-20T01:13:58.989047Z",
     "shell.execute_reply.started": "2022-09-19T21:42:11.800773Z"
    },
    "papermill": {
     "duration": 4.591876,
     "end_time": "2022-09-20T01:13:58.989943",
     "exception": false,
     "start_time": "2022-09-20T01:13:54.398067",
     "status": "completed"
    },
    "tags": []
   },
   "outputs": [
    {
     "data": {
      "text/html": [
       "<div>\n",
       "<style scoped>\n",
       "    .dataframe tbody tr th:only-of-type {\n",
       "        vertical-align: middle;\n",
       "    }\n",
       "\n",
       "    .dataframe tbody tr th {\n",
       "        vertical-align: top;\n",
       "    }\n",
       "\n",
       "    .dataframe thead th {\n",
       "        text-align: right;\n",
       "    }\n",
       "</style>\n",
       "<table border=\"1\" class=\"dataframe\">\n",
       "  <thead>\n",
       "    <tr style=\"text-align: right;\">\n",
       "      <th>anime_id</th>\n",
       "      <th>1535</th>\n",
       "      <th>1575</th>\n",
       "      <th>2904</th>\n",
       "      <th>4224</th>\n",
       "      <th>5081</th>\n",
       "      <th>5114</th>\n",
       "      <th>6547</th>\n",
       "      <th>8074</th>\n",
       "      <th>9253</th>\n",
       "      <th>10620</th>\n",
       "      <th>11757</th>\n",
       "      <th>15809</th>\n",
       "      <th>16498</th>\n",
       "      <th>19815</th>\n",
       "      <th>20507</th>\n",
       "      <th>22319</th>\n",
       "      <th>30276</th>\n",
       "      <th>31240</th>\n",
       "      <th>31964</th>\n",
       "      <th>32281</th>\n",
       "    </tr>\n",
       "    <tr>\n",
       "      <th>user_id</th>\n",
       "      <th></th>\n",
       "      <th></th>\n",
       "      <th></th>\n",
       "      <th></th>\n",
       "      <th></th>\n",
       "      <th></th>\n",
       "      <th></th>\n",
       "      <th></th>\n",
       "      <th></th>\n",
       "      <th></th>\n",
       "      <th></th>\n",
       "      <th></th>\n",
       "      <th></th>\n",
       "      <th></th>\n",
       "      <th></th>\n",
       "      <th></th>\n",
       "      <th></th>\n",
       "      <th></th>\n",
       "      <th></th>\n",
       "      <th></th>\n",
       "    </tr>\n",
       "  </thead>\n",
       "  <tbody>\n",
       "    <tr>\n",
       "      <th>10255</th>\n",
       "      <td>0.777778</td>\n",
       "      <td>0.777778</td>\n",
       "      <td>0.888889</td>\n",
       "      <td>0.777778</td>\n",
       "      <td>0.555556</td>\n",
       "      <td>1.000000</td>\n",
       "      <td>0.666667</td>\n",
       "      <td>0.222222</td>\n",
       "      <td>1.000000</td>\n",
       "      <td>0.555556</td>\n",
       "      <td>NaN</td>\n",
       "      <td>0.666667</td>\n",
       "      <td>0.777778</td>\n",
       "      <td>0.444444</td>\n",
       "      <td>0.555556</td>\n",
       "      <td>NaN</td>\n",
       "      <td>0.333333</td>\n",
       "      <td>0.333333</td>\n",
       "      <td>0.444444</td>\n",
       "      <td>0.555556</td>\n",
       "    </tr>\n",
       "    <tr>\n",
       "      <th>64807</th>\n",
       "      <td>0.666667</td>\n",
       "      <td>1.000000</td>\n",
       "      <td>1.000000</td>\n",
       "      <td>0.666667</td>\n",
       "      <td>1.000000</td>\n",
       "      <td>0.888889</td>\n",
       "      <td>0.666667</td>\n",
       "      <td>0.888889</td>\n",
       "      <td>0.444444</td>\n",
       "      <td>0.444444</td>\n",
       "      <td>0.000000</td>\n",
       "      <td>0.555556</td>\n",
       "      <td>0.777778</td>\n",
       "      <td>0.777778</td>\n",
       "      <td>0.777778</td>\n",
       "      <td>0.222222</td>\n",
       "      <td>0.888889</td>\n",
       "      <td>0.333333</td>\n",
       "      <td>0.777778</td>\n",
       "      <td>1.000000</td>\n",
       "    </tr>\n",
       "    <tr>\n",
       "      <th>68042</th>\n",
       "      <td>1.000000</td>\n",
       "      <td>0.888889</td>\n",
       "      <td>0.777778</td>\n",
       "      <td>0.888889</td>\n",
       "      <td>1.000000</td>\n",
       "      <td>0.888889</td>\n",
       "      <td>0.666667</td>\n",
       "      <td>0.222222</td>\n",
       "      <td>0.888889</td>\n",
       "      <td>0.333333</td>\n",
       "      <td>0.333333</td>\n",
       "      <td>0.555556</td>\n",
       "      <td>0.888889</td>\n",
       "      <td>0.222222</td>\n",
       "      <td>0.111111</td>\n",
       "      <td>0.444444</td>\n",
       "      <td>0.888889</td>\n",
       "      <td>0.777778</td>\n",
       "      <td>0.777778</td>\n",
       "      <td>0.888889</td>\n",
       "    </tr>\n",
       "    <tr>\n",
       "      <th>85106</th>\n",
       "      <td>0.888889</td>\n",
       "      <td>0.888889</td>\n",
       "      <td>1.000000</td>\n",
       "      <td>0.888889</td>\n",
       "      <td>0.888889</td>\n",
       "      <td>1.000000</td>\n",
       "      <td>0.777778</td>\n",
       "      <td>0.555556</td>\n",
       "      <td>1.000000</td>\n",
       "      <td>0.666667</td>\n",
       "      <td>0.555556</td>\n",
       "      <td>0.777778</td>\n",
       "      <td>1.000000</td>\n",
       "      <td>0.888889</td>\n",
       "      <td>0.666667</td>\n",
       "      <td>0.333333</td>\n",
       "      <td>1.000000</td>\n",
       "      <td>0.777778</td>\n",
       "      <td>0.777778</td>\n",
       "      <td>1.000000</td>\n",
       "    </tr>\n",
       "    <tr>\n",
       "      <th>122341</th>\n",
       "      <td>0.222222</td>\n",
       "      <td>0.111111</td>\n",
       "      <td>0.111111</td>\n",
       "      <td>0.222222</td>\n",
       "      <td>0.222222</td>\n",
       "      <td>0.777778</td>\n",
       "      <td>0.444444</td>\n",
       "      <td>0.000000</td>\n",
       "      <td>0.666667</td>\n",
       "      <td>0.111111</td>\n",
       "      <td>0.000000</td>\n",
       "      <td>0.222222</td>\n",
       "      <td>0.000000</td>\n",
       "      <td>0.333333</td>\n",
       "      <td>0.333333</td>\n",
       "      <td>0.111111</td>\n",
       "      <td>0.555556</td>\n",
       "      <td>0.000000</td>\n",
       "      <td>0.222222</td>\n",
       "      <td>0.111111</td>\n",
       "    </tr>\n",
       "    <tr>\n",
       "      <th>162615</th>\n",
       "      <td>1.000000</td>\n",
       "      <td>1.000000</td>\n",
       "      <td>1.000000</td>\n",
       "      <td>1.000000</td>\n",
       "      <td>1.000000</td>\n",
       "      <td>1.000000</td>\n",
       "      <td>1.000000</td>\n",
       "      <td>1.000000</td>\n",
       "      <td>1.000000</td>\n",
       "      <td>1.000000</td>\n",
       "      <td>1.000000</td>\n",
       "      <td>1.000000</td>\n",
       "      <td>1.000000</td>\n",
       "      <td>1.000000</td>\n",
       "      <td>1.000000</td>\n",
       "      <td>1.000000</td>\n",
       "      <td>1.000000</td>\n",
       "      <td>1.000000</td>\n",
       "      <td>1.000000</td>\n",
       "      <td>1.000000</td>\n",
       "    </tr>\n",
       "    <tr>\n",
       "      <th>182280</th>\n",
       "      <td>0.888889</td>\n",
       "      <td>0.777778</td>\n",
       "      <td>0.555556</td>\n",
       "      <td>NaN</td>\n",
       "      <td>0.777778</td>\n",
       "      <td>1.000000</td>\n",
       "      <td>0.666667</td>\n",
       "      <td>0.666667</td>\n",
       "      <td>1.000000</td>\n",
       "      <td>NaN</td>\n",
       "      <td>NaN</td>\n",
       "      <td>0.777778</td>\n",
       "      <td>NaN</td>\n",
       "      <td>NaN</td>\n",
       "      <td>NaN</td>\n",
       "      <td>NaN</td>\n",
       "      <td>NaN</td>\n",
       "      <td>NaN</td>\n",
       "      <td>0.555556</td>\n",
       "      <td>0.777778</td>\n",
       "    </tr>\n",
       "    <tr>\n",
       "      <th>189037</th>\n",
       "      <td>0.888889</td>\n",
       "      <td>0.666667</td>\n",
       "      <td>0.666667</td>\n",
       "      <td>0.888889</td>\n",
       "      <td>0.666667</td>\n",
       "      <td>0.777778</td>\n",
       "      <td>1.000000</td>\n",
       "      <td>0.666667</td>\n",
       "      <td>1.000000</td>\n",
       "      <td>0.777778</td>\n",
       "      <td>0.666667</td>\n",
       "      <td>0.888889</td>\n",
       "      <td>0.555556</td>\n",
       "      <td>0.666667</td>\n",
       "      <td>0.666667</td>\n",
       "      <td>0.666667</td>\n",
       "      <td>0.777778</td>\n",
       "      <td>0.777778</td>\n",
       "      <td>0.666667</td>\n",
       "      <td>0.666667</td>\n",
       "    </tr>\n",
       "    <tr>\n",
       "      <th>190748</th>\n",
       "      <td>0.555556</td>\n",
       "      <td>0.222222</td>\n",
       "      <td>0.222222</td>\n",
       "      <td>0.333333</td>\n",
       "      <td>0.444444</td>\n",
       "      <td>0.777778</td>\n",
       "      <td>0.666667</td>\n",
       "      <td>0.222222</td>\n",
       "      <td>0.555556</td>\n",
       "      <td>0.333333</td>\n",
       "      <td>0.000000</td>\n",
       "      <td>0.555556</td>\n",
       "      <td>0.555556</td>\n",
       "      <td>0.222222</td>\n",
       "      <td>0.111111</td>\n",
       "      <td>NaN</td>\n",
       "      <td>0.222222</td>\n",
       "      <td>NaN</td>\n",
       "      <td>NaN</td>\n",
       "      <td>NaN</td>\n",
       "    </tr>\n",
       "    <tr>\n",
       "      <th>259790</th>\n",
       "      <td>0.777778</td>\n",
       "      <td>1.000000</td>\n",
       "      <td>0.888889</td>\n",
       "      <td>0.777778</td>\n",
       "      <td>0.555556</td>\n",
       "      <td>1.000000</td>\n",
       "      <td>0.666667</td>\n",
       "      <td>0.888889</td>\n",
       "      <td>0.666667</td>\n",
       "      <td>0.888889</td>\n",
       "      <td>0.555556</td>\n",
       "      <td>0.888889</td>\n",
       "      <td>0.888889</td>\n",
       "      <td>0.777778</td>\n",
       "      <td>0.666667</td>\n",
       "      <td>0.666667</td>\n",
       "      <td>0.888889</td>\n",
       "      <td>0.777778</td>\n",
       "      <td>0.666667</td>\n",
       "      <td>0.888889</td>\n",
       "    </tr>\n",
       "    <tr>\n",
       "      <th>276953</th>\n",
       "      <td>0.666667</td>\n",
       "      <td>0.666667</td>\n",
       "      <td>0.555556</td>\n",
       "      <td>0.666667</td>\n",
       "      <td>0.555556</td>\n",
       "      <td>NaN</td>\n",
       "      <td>0.666667</td>\n",
       "      <td>0.333333</td>\n",
       "      <td>0.444444</td>\n",
       "      <td>0.333333</td>\n",
       "      <td>NaN</td>\n",
       "      <td>NaN</td>\n",
       "      <td>0.444444</td>\n",
       "      <td>0.333333</td>\n",
       "      <td>0.555556</td>\n",
       "      <td>0.444444</td>\n",
       "      <td>0.666667</td>\n",
       "      <td>0.444444</td>\n",
       "      <td>0.666667</td>\n",
       "      <td>0.888889</td>\n",
       "    </tr>\n",
       "    <tr>\n",
       "      <th>277841</th>\n",
       "      <td>0.666667</td>\n",
       "      <td>0.777778</td>\n",
       "      <td>0.777778</td>\n",
       "      <td>0.666667</td>\n",
       "      <td>0.666667</td>\n",
       "      <td>0.666667</td>\n",
       "      <td>0.666667</td>\n",
       "      <td>0.333333</td>\n",
       "      <td>0.666667</td>\n",
       "      <td>0.555556</td>\n",
       "      <td>0.555556</td>\n",
       "      <td>0.666667</td>\n",
       "      <td>0.666667</td>\n",
       "      <td>0.555556</td>\n",
       "      <td>0.666667</td>\n",
       "      <td>0.666667</td>\n",
       "      <td>0.555556</td>\n",
       "      <td>0.666667</td>\n",
       "      <td>0.555556</td>\n",
       "      <td>0.666667</td>\n",
       "    </tr>\n",
       "    <tr>\n",
       "      <th>283786</th>\n",
       "      <td>1.000000</td>\n",
       "      <td>0.888889</td>\n",
       "      <td>0.777778</td>\n",
       "      <td>0.444444</td>\n",
       "      <td>0.888889</td>\n",
       "      <td>0.888889</td>\n",
       "      <td>0.666667</td>\n",
       "      <td>0.777778</td>\n",
       "      <td>0.888889</td>\n",
       "      <td>0.777778</td>\n",
       "      <td>0.888889</td>\n",
       "      <td>0.888889</td>\n",
       "      <td>0.888889</td>\n",
       "      <td>0.777778</td>\n",
       "      <td>0.777778</td>\n",
       "      <td>0.777778</td>\n",
       "      <td>0.888889</td>\n",
       "      <td>0.777778</td>\n",
       "      <td>0.777778</td>\n",
       "      <td>0.666667</td>\n",
       "    </tr>\n",
       "    <tr>\n",
       "      <th>291207</th>\n",
       "      <td>0.888889</td>\n",
       "      <td>0.777778</td>\n",
       "      <td>0.555556</td>\n",
       "      <td>0.666667</td>\n",
       "      <td>0.777778</td>\n",
       "      <td>0.777778</td>\n",
       "      <td>0.666667</td>\n",
       "      <td>0.666667</td>\n",
       "      <td>0.888889</td>\n",
       "      <td>0.666667</td>\n",
       "      <td>0.333333</td>\n",
       "      <td>0.777778</td>\n",
       "      <td>0.666667</td>\n",
       "      <td>0.666667</td>\n",
       "      <td>0.666667</td>\n",
       "      <td>0.555556</td>\n",
       "      <td>0.777778</td>\n",
       "      <td>0.888889</td>\n",
       "      <td>0.555556</td>\n",
       "      <td>0.777778</td>\n",
       "    </tr>\n",
       "    <tr>\n",
       "      <th>299795</th>\n",
       "      <td>0.888889</td>\n",
       "      <td>1.000000</td>\n",
       "      <td>1.000000</td>\n",
       "      <td>0.444444</td>\n",
       "      <td>0.888889</td>\n",
       "      <td>0.888889</td>\n",
       "      <td>0.777778</td>\n",
       "      <td>0.555556</td>\n",
       "      <td>1.000000</td>\n",
       "      <td>0.666667</td>\n",
       "      <td>0.666667</td>\n",
       "      <td>0.777778</td>\n",
       "      <td>0.666667</td>\n",
       "      <td>0.777778</td>\n",
       "      <td>0.666667</td>\n",
       "      <td>0.555556</td>\n",
       "      <td>0.777778</td>\n",
       "      <td>0.888889</td>\n",
       "      <td>0.555556</td>\n",
       "      <td>NaN</td>\n",
       "    </tr>\n",
       "    <tr>\n",
       "      <th>300428</th>\n",
       "      <td>0.555556</td>\n",
       "      <td>0.666667</td>\n",
       "      <td>0.666667</td>\n",
       "      <td>0.444444</td>\n",
       "      <td>0.444444</td>\n",
       "      <td>1.000000</td>\n",
       "      <td>0.666667</td>\n",
       "      <td>0.111111</td>\n",
       "      <td>0.888889</td>\n",
       "      <td>0.111111</td>\n",
       "      <td>0.222222</td>\n",
       "      <td>0.555556</td>\n",
       "      <td>0.444444</td>\n",
       "      <td>0.444444</td>\n",
       "      <td>0.444444</td>\n",
       "      <td>0.222222</td>\n",
       "      <td>0.777778</td>\n",
       "      <td>0.777778</td>\n",
       "      <td>0.555556</td>\n",
       "      <td>0.555556</td>\n",
       "    </tr>\n",
       "    <tr>\n",
       "      <th>312302</th>\n",
       "      <td>1.000000</td>\n",
       "      <td>0.888889</td>\n",
       "      <td>0.777778</td>\n",
       "      <td>0.777778</td>\n",
       "      <td>0.777778</td>\n",
       "      <td>1.000000</td>\n",
       "      <td>0.666667</td>\n",
       "      <td>0.666667</td>\n",
       "      <td>1.000000</td>\n",
       "      <td>0.666667</td>\n",
       "      <td>0.888889</td>\n",
       "      <td>0.888889</td>\n",
       "      <td>0.777778</td>\n",
       "      <td>0.777778</td>\n",
       "      <td>1.000000</td>\n",
       "      <td>0.888889</td>\n",
       "      <td>0.777778</td>\n",
       "      <td>NaN</td>\n",
       "      <td>1.000000</td>\n",
       "      <td>NaN</td>\n",
       "    </tr>\n",
       "    <tr>\n",
       "      <th>328195</th>\n",
       "      <td>0.222222</td>\n",
       "      <td>0.888889</td>\n",
       "      <td>0.888889</td>\n",
       "      <td>0.777778</td>\n",
       "      <td>0.777778</td>\n",
       "      <td>0.777778</td>\n",
       "      <td>0.666667</td>\n",
       "      <td>0.444444</td>\n",
       "      <td>0.888889</td>\n",
       "      <td>0.444444</td>\n",
       "      <td>0.666667</td>\n",
       "      <td>0.666667</td>\n",
       "      <td>0.666667</td>\n",
       "      <td>0.666667</td>\n",
       "      <td>NaN</td>\n",
       "      <td>0.666667</td>\n",
       "      <td>0.555556</td>\n",
       "      <td>0.777778</td>\n",
       "      <td>0.666667</td>\n",
       "      <td>0.555556</td>\n",
       "    </tr>\n",
       "    <tr>\n",
       "      <th>336459</th>\n",
       "      <td>0.777778</td>\n",
       "      <td>0.777778</td>\n",
       "      <td>0.777778</td>\n",
       "      <td>NaN</td>\n",
       "      <td>0.555556</td>\n",
       "      <td>0.888889</td>\n",
       "      <td>0.555556</td>\n",
       "      <td>0.888889</td>\n",
       "      <td>0.777778</td>\n",
       "      <td>0.888889</td>\n",
       "      <td>0.777778</td>\n",
       "      <td>NaN</td>\n",
       "      <td>0.777778</td>\n",
       "      <td>0.888889</td>\n",
       "      <td>0.666667</td>\n",
       "      <td>NaN</td>\n",
       "      <td>0.888889</td>\n",
       "      <td>0.666667</td>\n",
       "      <td>0.777778</td>\n",
       "      <td>NaN</td>\n",
       "    </tr>\n",
       "    <tr>\n",
       "      <th>345498</th>\n",
       "      <td>0.888889</td>\n",
       "      <td>0.888889</td>\n",
       "      <td>0.888889</td>\n",
       "      <td>0.888889</td>\n",
       "      <td>1.000000</td>\n",
       "      <td>NaN</td>\n",
       "      <td>0.777778</td>\n",
       "      <td>0.666667</td>\n",
       "      <td>0.888889</td>\n",
       "      <td>0.666667</td>\n",
       "      <td>0.555556</td>\n",
       "      <td>0.777778</td>\n",
       "      <td>NaN</td>\n",
       "      <td>0.777778</td>\n",
       "      <td>0.666667</td>\n",
       "      <td>0.555556</td>\n",
       "      <td>0.888889</td>\n",
       "      <td>0.888889</td>\n",
       "      <td>NaN</td>\n",
       "      <td>1.000000</td>\n",
       "    </tr>\n",
       "  </tbody>\n",
       "</table>\n",
       "</div>"
      ],
      "text/plain": [
       "anime_id     1535      1575      2904      4224      5081      5114   \\\n",
       "user_id                                                                \n",
       "10255     0.777778  0.777778  0.888889  0.777778  0.555556  1.000000   \n",
       "64807     0.666667  1.000000  1.000000  0.666667  1.000000  0.888889   \n",
       "68042     1.000000  0.888889  0.777778  0.888889  1.000000  0.888889   \n",
       "85106     0.888889  0.888889  1.000000  0.888889  0.888889  1.000000   \n",
       "122341    0.222222  0.111111  0.111111  0.222222  0.222222  0.777778   \n",
       "162615    1.000000  1.000000  1.000000  1.000000  1.000000  1.000000   \n",
       "182280    0.888889  0.777778  0.555556       NaN  0.777778  1.000000   \n",
       "189037    0.888889  0.666667  0.666667  0.888889  0.666667  0.777778   \n",
       "190748    0.555556  0.222222  0.222222  0.333333  0.444444  0.777778   \n",
       "259790    0.777778  1.000000  0.888889  0.777778  0.555556  1.000000   \n",
       "276953    0.666667  0.666667  0.555556  0.666667  0.555556       NaN   \n",
       "277841    0.666667  0.777778  0.777778  0.666667  0.666667  0.666667   \n",
       "283786    1.000000  0.888889  0.777778  0.444444  0.888889  0.888889   \n",
       "291207    0.888889  0.777778  0.555556  0.666667  0.777778  0.777778   \n",
       "299795    0.888889  1.000000  1.000000  0.444444  0.888889  0.888889   \n",
       "300428    0.555556  0.666667  0.666667  0.444444  0.444444  1.000000   \n",
       "312302    1.000000  0.888889  0.777778  0.777778  0.777778  1.000000   \n",
       "328195    0.222222  0.888889  0.888889  0.777778  0.777778  0.777778   \n",
       "336459    0.777778  0.777778  0.777778       NaN  0.555556  0.888889   \n",
       "345498    0.888889  0.888889  0.888889  0.888889  1.000000       NaN   \n",
       "\n",
       "anime_id     6547      8074      9253      10620     11757     15809  \\\n",
       "user_id                                                                \n",
       "10255     0.666667  0.222222  1.000000  0.555556       NaN  0.666667   \n",
       "64807     0.666667  0.888889  0.444444  0.444444  0.000000  0.555556   \n",
       "68042     0.666667  0.222222  0.888889  0.333333  0.333333  0.555556   \n",
       "85106     0.777778  0.555556  1.000000  0.666667  0.555556  0.777778   \n",
       "122341    0.444444  0.000000  0.666667  0.111111  0.000000  0.222222   \n",
       "162615    1.000000  1.000000  1.000000  1.000000  1.000000  1.000000   \n",
       "182280    0.666667  0.666667  1.000000       NaN       NaN  0.777778   \n",
       "189037    1.000000  0.666667  1.000000  0.777778  0.666667  0.888889   \n",
       "190748    0.666667  0.222222  0.555556  0.333333  0.000000  0.555556   \n",
       "259790    0.666667  0.888889  0.666667  0.888889  0.555556  0.888889   \n",
       "276953    0.666667  0.333333  0.444444  0.333333       NaN       NaN   \n",
       "277841    0.666667  0.333333  0.666667  0.555556  0.555556  0.666667   \n",
       "283786    0.666667  0.777778  0.888889  0.777778  0.888889  0.888889   \n",
       "291207    0.666667  0.666667  0.888889  0.666667  0.333333  0.777778   \n",
       "299795    0.777778  0.555556  1.000000  0.666667  0.666667  0.777778   \n",
       "300428    0.666667  0.111111  0.888889  0.111111  0.222222  0.555556   \n",
       "312302    0.666667  0.666667  1.000000  0.666667  0.888889  0.888889   \n",
       "328195    0.666667  0.444444  0.888889  0.444444  0.666667  0.666667   \n",
       "336459    0.555556  0.888889  0.777778  0.888889  0.777778       NaN   \n",
       "345498    0.777778  0.666667  0.888889  0.666667  0.555556  0.777778   \n",
       "\n",
       "anime_id     16498     19815     20507     22319     30276     31240  \\\n",
       "user_id                                                                \n",
       "10255     0.777778  0.444444  0.555556       NaN  0.333333  0.333333   \n",
       "64807     0.777778  0.777778  0.777778  0.222222  0.888889  0.333333   \n",
       "68042     0.888889  0.222222  0.111111  0.444444  0.888889  0.777778   \n",
       "85106     1.000000  0.888889  0.666667  0.333333  1.000000  0.777778   \n",
       "122341    0.000000  0.333333  0.333333  0.111111  0.555556  0.000000   \n",
       "162615    1.000000  1.000000  1.000000  1.000000  1.000000  1.000000   \n",
       "182280         NaN       NaN       NaN       NaN       NaN       NaN   \n",
       "189037    0.555556  0.666667  0.666667  0.666667  0.777778  0.777778   \n",
       "190748    0.555556  0.222222  0.111111       NaN  0.222222       NaN   \n",
       "259790    0.888889  0.777778  0.666667  0.666667  0.888889  0.777778   \n",
       "276953    0.444444  0.333333  0.555556  0.444444  0.666667  0.444444   \n",
       "277841    0.666667  0.555556  0.666667  0.666667  0.555556  0.666667   \n",
       "283786    0.888889  0.777778  0.777778  0.777778  0.888889  0.777778   \n",
       "291207    0.666667  0.666667  0.666667  0.555556  0.777778  0.888889   \n",
       "299795    0.666667  0.777778  0.666667  0.555556  0.777778  0.888889   \n",
       "300428    0.444444  0.444444  0.444444  0.222222  0.777778  0.777778   \n",
       "312302    0.777778  0.777778  1.000000  0.888889  0.777778       NaN   \n",
       "328195    0.666667  0.666667       NaN  0.666667  0.555556  0.777778   \n",
       "336459    0.777778  0.888889  0.666667       NaN  0.888889  0.666667   \n",
       "345498         NaN  0.777778  0.666667  0.555556  0.888889  0.888889   \n",
       "\n",
       "anime_id     31964     32281  \n",
       "user_id                       \n",
       "10255     0.444444  0.555556  \n",
       "64807     0.777778  1.000000  \n",
       "68042     0.777778  0.888889  \n",
       "85106     0.777778  1.000000  \n",
       "122341    0.222222  0.111111  \n",
       "162615    1.000000  1.000000  \n",
       "182280    0.555556  0.777778  \n",
       "189037    0.666667  0.666667  \n",
       "190748         NaN       NaN  \n",
       "259790    0.666667  0.888889  \n",
       "276953    0.666667  0.888889  \n",
       "277841    0.555556  0.666667  \n",
       "283786    0.777778  0.666667  \n",
       "291207    0.555556  0.777778  \n",
       "299795    0.555556       NaN  \n",
       "300428    0.555556  0.555556  \n",
       "312302    1.000000       NaN  \n",
       "328195    0.666667  0.555556  \n",
       "336459    0.777778       NaN  \n",
       "345498         NaN  1.000000  "
      ]
     },
     "execution_count": 12,
     "metadata": {},
     "output_type": "execute_result"
    }
   ],
   "source": [
    "u_rating = rating_df.groupby('user_id')['rating'].count() #Tells us how many ratings each user has given\n",
    "top_users = u_rating.dropna().sort_values(ascending=False)[:20] # gives us top 20 users with most ratings\n",
    "top_ratings = rating_df.join(top_users, rsuffix='_r' , how='inner',on='user_id') # defining the rating_df with the top 20 users\n",
    "\n",
    "u_anime = rating_df.groupby('anime_id')['rating'].count() #gives us a list of animes with their number of ratings\n",
    "most_ratings = u_anime.dropna().sort_values(ascending=False)[:20] # top 20\n",
    "top_ratings= top_ratings.join(most_ratings, rsuffix = '_r',how='inner' , on='anime_id')\n",
    "top_ratings.dropna()\n",
    "top_ratings.pivot_table(index='user_id' ,columns='anime_id',values='rating',aggfunc=np.sum)"
   ]
  },
  {
   "cell_type": "markdown",
   "id": "44210eb5",
   "metadata": {
    "papermill": {
     "duration": 0.060493,
     "end_time": "2022-09-20T01:13:59.110833",
     "exception": false,
     "start_time": "2022-09-20T01:13:59.050340",
     "status": "completed"
    },
    "tags": []
   },
   "source": [
    "I think the null values here states that some of the top users have not rated some of the top animes."
   ]
  },
  {
   "cell_type": "markdown",
   "id": "0b39c968",
   "metadata": {
    "papermill": {
     "duration": 0.059814,
     "end_time": "2022-09-20T01:13:59.229807",
     "exception": false,
     "start_time": "2022-09-20T01:13:59.169993",
     "status": "completed"
    },
    "tags": []
   },
   "source": []
  },
  {
   "cell_type": "code",
   "execution_count": 13,
   "id": "f9d1dc28",
   "metadata": {
    "execution": {
     "iopub.execute_input": "2022-09-20T01:13:59.357040Z",
     "iopub.status.busy": "2022-09-20T01:13:59.356008Z",
     "iopub.status.idle": "2022-09-20T01:14:01.501672Z",
     "shell.execute_reply": "2022-09-20T01:14:01.501003Z",
     "shell.execute_reply.started": "2022-09-19T21:42:15.862353Z"
    },
    "papermill": {
     "duration": 2.211972,
     "end_time": "2022-09-20T01:14:01.501832",
     "exception": false,
     "start_time": "2022-09-20T01:13:59.289860",
     "status": "completed"
    },
    "tags": []
   },
   "outputs": [],
   "source": [
    "user_ids = rating_df[\"user_id\"].unique().tolist() #listing unique users\n",
    "user2_encoded = {x: i for i, x in enumerate(user_ids)} # numbering each user\n",
    "encoded2_user = {i: x for i, x in enumerate(user_ids)} # assigning the user to the number\n",
    "rating_df[\"user\"] = rating_df[\"user_id\"].map(user2_encoded) # substituing the user values\n",
    "\n",
    "\n",
    "\n",
    "#Similarly for the anime\n",
    "anime_ids = rating_df['anime_id'].unique().tolist()\n",
    "anime2_encoded = {x: i for i, x in enumerate(anime_ids)}\n",
    "encoded2_anime = {i: x for i, x in enumerate(anime_ids)}\n",
    "rating_df[\"anime\"] = rating_df[\"anime_id\"].map(anime2_encoded)\n"
   ]
  },
  {
   "cell_type": "code",
   "execution_count": 14,
   "id": "e93aa850",
   "metadata": {
    "execution": {
     "iopub.execute_input": "2022-09-20T01:14:01.624092Z",
     "iopub.status.busy": "2022-09-20T01:14:01.623077Z",
     "iopub.status.idle": "2022-09-20T01:14:01.627698Z",
     "shell.execute_reply": "2022-09-20T01:14:01.626999Z",
     "shell.execute_reply.started": "2022-09-19T21:42:17.843495Z"
    },
    "papermill": {
     "duration": 0.069062,
     "end_time": "2022-09-20T01:14:01.627866",
     "exception": false,
     "start_time": "2022-09-20T01:14:01.558804",
     "status": "completed"
    },
    "tags": []
   },
   "outputs": [
    {
     "data": {
      "text/plain": [
       "(95143, 16864)"
      ]
     },
     "execution_count": 14,
     "metadata": {},
     "output_type": "execute_result"
    }
   ],
   "source": [
    "#Total number of users and anime\n",
    "n_users=len(user2_encoded)\n",
    "n_anime=len(anime2_encoded)\n",
    "n_users , n_anime"
   ]
  },
  {
   "cell_type": "code",
   "execution_count": 15,
   "id": "77be812f",
   "metadata": {
    "execution": {
     "iopub.execute_input": "2022-09-20T01:14:01.754928Z",
     "iopub.status.busy": "2022-09-20T01:14:01.753782Z",
     "iopub.status.idle": "2022-09-20T01:14:01.759374Z",
     "shell.execute_reply": "2022-09-20T01:14:01.758730Z",
     "shell.execute_reply.started": "2022-09-19T21:42:17.852017Z"
    },
    "papermill": {
     "duration": 0.073865,
     "end_time": "2022-09-20T01:14:01.759524",
     "exception": false,
     "start_time": "2022-09-20T01:14:01.685659",
     "status": "completed"
    },
    "tags": []
   },
   "outputs": [
    {
     "data": {
      "text/html": [
       "<div>\n",
       "<style scoped>\n",
       "    .dataframe tbody tr th:only-of-type {\n",
       "        vertical-align: middle;\n",
       "    }\n",
       "\n",
       "    .dataframe tbody tr th {\n",
       "        vertical-align: top;\n",
       "    }\n",
       "\n",
       "    .dataframe thead th {\n",
       "        text-align: right;\n",
       "    }\n",
       "</style>\n",
       "<table border=\"1\" class=\"dataframe\">\n",
       "  <thead>\n",
       "    <tr style=\"text-align: right;\">\n",
       "      <th></th>\n",
       "      <th>user_id</th>\n",
       "      <th>anime_id</th>\n",
       "      <th>rating</th>\n",
       "      <th>user</th>\n",
       "      <th>anime</th>\n",
       "    </tr>\n",
       "  </thead>\n",
       "  <tbody>\n",
       "    <tr>\n",
       "      <th>189</th>\n",
       "      <td>3</td>\n",
       "      <td>25835</td>\n",
       "      <td>0.777778</td>\n",
       "      <td>0</td>\n",
       "      <td>0</td>\n",
       "    </tr>\n",
       "    <tr>\n",
       "      <th>190</th>\n",
       "      <td>3</td>\n",
       "      <td>28171</td>\n",
       "      <td>0.777778</td>\n",
       "      <td>0</td>\n",
       "      <td>1</td>\n",
       "    </tr>\n",
       "    <tr>\n",
       "      <th>191</th>\n",
       "      <td>3</td>\n",
       "      <td>32282</td>\n",
       "      <td>0.777778</td>\n",
       "      <td>0</td>\n",
       "      <td>2</td>\n",
       "    </tr>\n",
       "    <tr>\n",
       "      <th>192</th>\n",
       "      <td>3</td>\n",
       "      <td>35788</td>\n",
       "      <td>0.888889</td>\n",
       "      <td>0</td>\n",
       "      <td>3</td>\n",
       "    </tr>\n",
       "    <tr>\n",
       "      <th>193</th>\n",
       "      <td>3</td>\n",
       "      <td>9253</td>\n",
       "      <td>0.888889</td>\n",
       "      <td>0</td>\n",
       "      <td>4</td>\n",
       "    </tr>\n",
       "    <tr>\n",
       "      <th>194</th>\n",
       "      <td>3</td>\n",
       "      <td>5958</td>\n",
       "      <td>0.777778</td>\n",
       "      <td>0</td>\n",
       "      <td>5</td>\n",
       "    </tr>\n",
       "    <tr>\n",
       "      <th>195</th>\n",
       "      <td>3</td>\n",
       "      <td>8407</td>\n",
       "      <td>0.777778</td>\n",
       "      <td>0</td>\n",
       "      <td>6</td>\n",
       "    </tr>\n",
       "    <tr>\n",
       "      <th>196</th>\n",
       "      <td>3</td>\n",
       "      <td>2418</td>\n",
       "      <td>0.777778</td>\n",
       "      <td>0</td>\n",
       "      <td>7</td>\n",
       "    </tr>\n",
       "    <tr>\n",
       "      <th>197</th>\n",
       "      <td>3</td>\n",
       "      <td>29786</td>\n",
       "      <td>0.666667</td>\n",
       "      <td>0</td>\n",
       "      <td>8</td>\n",
       "    </tr>\n",
       "    <tr>\n",
       "      <th>198</th>\n",
       "      <td>3</td>\n",
       "      <td>18277</td>\n",
       "      <td>0.666667</td>\n",
       "      <td>0</td>\n",
       "      <td>9</td>\n",
       "    </tr>\n",
       "  </tbody>\n",
       "</table>\n",
       "</div>"
      ],
      "text/plain": [
       "     user_id  anime_id    rating  user  anime\n",
       "189        3     25835  0.777778     0      0\n",
       "190        3     28171  0.777778     0      1\n",
       "191        3     32282  0.777778     0      2\n",
       "192        3     35788  0.888889     0      3\n",
       "193        3      9253  0.888889     0      4\n",
       "194        3      5958  0.777778     0      5\n",
       "195        3      8407  0.777778     0      6\n",
       "196        3      2418  0.777778     0      7\n",
       "197        3     29786  0.666667     0      8\n",
       "198        3     18277  0.666667     0      9"
      ]
     },
     "execution_count": 15,
     "metadata": {},
     "output_type": "execute_result"
    }
   ],
   "source": [
    "rating_df.head(10)"
   ]
  },
  {
   "cell_type": "markdown",
   "id": "36830c9b",
   "metadata": {
    "papermill": {
     "duration": 0.059107,
     "end_time": "2022-09-20T01:14:01.879322",
     "exception": false,
     "start_time": "2022-09-20T01:14:01.820215",
     "status": "completed"
    },
    "tags": []
   },
   "source": [
    "As you can see, instead of random numbers now we have organised our dataset"
   ]
  },
  {
   "cell_type": "markdown",
   "id": "28f79c0c",
   "metadata": {
    "papermill": {
     "duration": 0.058361,
     "end_time": "2022-09-20T01:14:01.996082",
     "exception": false,
     "start_time": "2022-09-20T01:14:01.937721",
     "status": "completed"
    },
    "tags": []
   },
   "source": [
    "### 2.3 Seperating the Features and Label and splitting dataset into Train and Test sets"
   ]
  },
  {
   "cell_type": "code",
   "execution_count": 16,
   "id": "aec9fcfc",
   "metadata": {
    "execution": {
     "iopub.execute_input": "2022-09-20T01:14:02.116420Z",
     "iopub.status.busy": "2022-09-20T01:14:02.115700Z",
     "iopub.status.idle": "2022-09-20T01:14:04.121221Z",
     "shell.execute_reply": "2022-09-20T01:14:04.120544Z",
     "shell.execute_reply.started": "2022-09-19T21:42:17.869592Z"
    },
    "papermill": {
     "duration": 2.068481,
     "end_time": "2022-09-20T01:14:04.121409",
     "exception": false,
     "start_time": "2022-09-20T01:14:02.052928",
     "status": "completed"
    },
    "tags": []
   },
   "outputs": [],
   "source": [
    "x= rating_df[['anime','user']].values\n",
    "y= rating_df['rating']"
   ]
  },
  {
   "cell_type": "code",
   "execution_count": 17,
   "id": "54947c9a",
   "metadata": {
    "execution": {
     "iopub.execute_input": "2022-09-20T01:14:04.249475Z",
     "iopub.status.busy": "2022-09-20T01:14:04.248674Z",
     "iopub.status.idle": "2022-09-20T01:14:38.039175Z",
     "shell.execute_reply": "2022-09-20T01:14:38.039718Z",
     "shell.execute_reply.started": "2022-09-19T21:42:19.212746Z"
    },
    "papermill": {
     "duration": 33.856414,
     "end_time": "2022-09-20T01:14:38.039923",
     "exception": false,
     "start_time": "2022-09-20T01:14:04.183509",
     "status": "completed"
    },
    "tags": []
   },
   "outputs": [],
   "source": [
    "x_train,x_test,y_train,y_test=train_test_split(x,y,test_size=0.1,stratify=y ,random_state=42)"
   ]
  },
  {
   "cell_type": "code",
   "execution_count": 18,
   "id": "374c33b7",
   "metadata": {
    "execution": {
     "iopub.execute_input": "2022-09-20T01:14:38.161527Z",
     "iopub.status.busy": "2022-09-20T01:14:38.160702Z",
     "iopub.status.idle": "2022-09-20T01:14:38.163707Z",
     "shell.execute_reply": "2022-09-20T01:14:38.164228Z",
     "shell.execute_reply.started": "2022-09-19T21:42:49.863680Z"
    },
    "papermill": {
     "duration": 0.065753,
     "end_time": "2022-09-20T01:14:38.164418",
     "exception": false,
     "start_time": "2022-09-20T01:14:38.098665",
     "status": "completed"
    },
    "tags": []
   },
   "outputs": [
    {
     "data": {
      "text/plain": [
       "((37188306, 2), (4132035, 2), (37188306,), (4132035,))"
      ]
     },
     "execution_count": 18,
     "metadata": {},
     "output_type": "execute_result"
    }
   ],
   "source": [
    "x_train.shape , x_test.shape , y_train.shape , y_test.shape"
   ]
  },
  {
   "cell_type": "code",
   "execution_count": 19,
   "id": "6796b4a6",
   "metadata": {
    "execution": {
     "iopub.execute_input": "2022-09-20T01:14:38.283758Z",
     "iopub.status.busy": "2022-09-20T01:14:38.283034Z",
     "iopub.status.idle": "2022-09-20T01:14:38.285423Z",
     "shell.execute_reply": "2022-09-20T01:14:38.286053Z",
     "shell.execute_reply.started": "2022-09-19T21:42:49.871574Z"
    },
    "papermill": {
     "duration": 0.065205,
     "end_time": "2022-09-20T01:14:38.286236",
     "exception": false,
     "start_time": "2022-09-20T01:14:38.221031",
     "status": "completed"
    },
    "tags": []
   },
   "outputs": [],
   "source": [
    "# Defining input containing both the user and anime data as inputs\n",
    "x_train_array = [x_train[:, 0], x_train[:, 1]]\n",
    "x_test_array = [x_test[:, 0], x_test[:, 1]]"
   ]
  },
  {
   "cell_type": "code",
   "execution_count": 20,
   "id": "2b5beba2",
   "metadata": {
    "execution": {
     "iopub.execute_input": "2022-09-20T01:14:38.403376Z",
     "iopub.status.busy": "2022-09-20T01:14:38.402665Z",
     "iopub.status.idle": "2022-09-20T01:14:38.409796Z",
     "shell.execute_reply": "2022-09-20T01:14:38.409209Z",
     "shell.execute_reply.started": "2022-09-19T21:42:49.884769Z"
    },
    "papermill": {
     "duration": 0.067051,
     "end_time": "2022-09-20T01:14:38.409948",
     "exception": false,
     "start_time": "2022-09-20T01:14:38.342897",
     "status": "completed"
    },
    "tags": []
   },
   "outputs": [
    {
     "data": {
      "text/plain": [
       "[array([2499,  365, 5306, ..., 4051, 1567, 5083]),\n",
       " array([81426, 50611, 52620, ..., 69403, 87002,  1440])]"
      ]
     },
     "execution_count": 20,
     "metadata": {},
     "output_type": "execute_result"
    }
   ],
   "source": [
    "x_train_array"
   ]
  },
  {
   "cell_type": "code",
   "execution_count": 21,
   "id": "17dced71",
   "metadata": {
    "execution": {
     "iopub.execute_input": "2022-09-20T01:14:38.531710Z",
     "iopub.status.busy": "2022-09-20T01:14:38.530670Z",
     "iopub.status.idle": "2022-09-20T01:14:44.625506Z",
     "shell.execute_reply": "2022-09-20T01:14:44.624852Z",
     "shell.execute_reply.started": "2022-09-19T21:42:49.898277Z"
    },
    "papermill": {
     "duration": 6.157755,
     "end_time": "2022-09-20T01:14:44.625696",
     "exception": false,
     "start_time": "2022-09-20T01:14:38.467941",
     "status": "completed"
    },
    "tags": []
   },
   "outputs": [
    {
     "name": "stderr",
     "output_type": "stream",
     "text": [
      "2022-09-20 01:14:38.543610: I tensorflow/compiler/jit/xla_cpu_device.cc:41] Not creating XLA devices, tf_xla_enable_xla_devices not set\n",
      "2022-09-20 01:14:38.552516: W tensorflow/stream_executor/platform/default/dso_loader.cc:60] Could not load dynamic library 'libcuda.so.1'; dlerror: libcuda.so.1: cannot open shared object file: No such file or directory; LD_LIBRARY_PATH: /opt/conda/lib\n",
      "2022-09-20 01:14:38.552600: W tensorflow/stream_executor/cuda/cuda_driver.cc:326] failed call to cuInit: UNKNOWN ERROR (303)\n",
      "2022-09-20 01:14:38.552679: I tensorflow/stream_executor/cuda/cuda_diagnostics.cc:156] kernel driver does not appear to be running on this host (870c0c818f4d): /proc/driver/nvidia/version does not exist\n",
      "2022-09-20 01:14:38.559900: I tensorflow/core/platform/cpu_feature_guard.cc:142] This TensorFlow binary is optimized with oneAPI Deep Neural Network Library (oneDNN) to use the following CPU instructions in performance-critical operations:  AVX2 FMA\n",
      "To enable them in other operations, rebuild TensorFlow with the appropriate compiler flags.\n",
      "2022-09-20 01:14:38.561901: I tensorflow/compiler/jit/xla_gpu_device.cc:99] Not creating XLA devices, tf_xla_enable_xla_devices not set\n",
      "2022-09-20 01:14:38.608673: I tensorflow/core/distributed_runtime/rpc/grpc_channel.cc:301] Initialize GrpcChannelCache for job worker -> {0 -> 10.0.0.2:8470}\n",
      "2022-09-20 01:14:38.608776: I tensorflow/core/distributed_runtime/rpc/grpc_channel.cc:301] Initialize GrpcChannelCache for job localhost -> {0 -> localhost:30020}\n",
      "2022-09-20 01:14:38.639622: I tensorflow/core/distributed_runtime/rpc/grpc_channel.cc:301] Initialize GrpcChannelCache for job worker -> {0 -> 10.0.0.2:8470}\n",
      "2022-09-20 01:14:38.639700: I tensorflow/core/distributed_runtime/rpc/grpc_channel.cc:301] Initialize GrpcChannelCache for job localhost -> {0 -> localhost:30020}\n",
      "2022-09-20 01:14:38.641688: I tensorflow/core/distributed_runtime/rpc/grpc_server_lib.cc:411] Started server with target: grpc://localhost:30020\n"
     ]
    },
    {
     "name": "stdout",
     "output_type": "stream",
     "text": [
      "2.4.1\n"
     ]
    }
   ],
   "source": [
    "# Intializing the TPU Accelerator \n",
    "import tensorflow as tf\n",
    "\n",
    "TPU_INIT = True\n",
    "\n",
    "tpu = tf.distribute.cluster_resolver.TPUClusterResolver.connect()\n",
    "tpu_strategy = tf.distribute.experimental.TPUStrategy(tpu)\n",
    "print(tf.__version__)"
   ]
  },
  {
   "cell_type": "markdown",
   "id": "6db9a2f6",
   "metadata": {
    "papermill": {
     "duration": 0.061656,
     "end_time": "2022-09-20T01:14:44.752578",
     "exception": false,
     "start_time": "2022-09-20T01:14:44.690922",
     "status": "completed"
    },
    "tags": []
   },
   "source": [
    "## 3.  Model Building"
   ]
  },
  {
   "cell_type": "code",
   "execution_count": 22,
   "id": "b88ca1ef",
   "metadata": {
    "execution": {
     "iopub.execute_input": "2022-09-20T01:14:44.880598Z",
     "iopub.status.busy": "2022-09-20T01:14:44.879842Z",
     "iopub.status.idle": "2022-09-20T01:14:45.574088Z",
     "shell.execute_reply": "2022-09-20T01:14:45.573476Z",
     "shell.execute_reply.started": "2022-09-19T21:42:56.104793Z"
    },
    "papermill": {
     "duration": 0.761876,
     "end_time": "2022-09-20T01:14:45.574242",
     "exception": false,
     "start_time": "2022-09-20T01:14:44.812366",
     "status": "completed"
    },
    "tags": []
   },
   "outputs": [
    {
     "name": "stdout",
     "output_type": "stream",
     "text": [
      "Model: \"model\"\n",
      "__________________________________________________________________________________________________\n",
      "Layer (type)                    Output Shape         Param #     Connected to                     \n",
      "==================================================================================================\n",
      "user (InputLayer)               [(None, 1)]          0                                            \n",
      "__________________________________________________________________________________________________\n",
      "anime (InputLayer)              [(None, 1)]          0                                            \n",
      "__________________________________________________________________________________________________\n",
      "user_embedding (Embedding)      (None, 1, 128)       12178304    user[0][0]                       \n",
      "__________________________________________________________________________________________________\n",
      "anime_embedding (Embedding)     (None, 1, 128)       2158592     anime[0][0]                      \n",
      "__________________________________________________________________________________________________\n",
      "Dot_Layer (Dot)                 (None, 1, 1)         0           user_embedding[0][0]             \n",
      "                                                                 anime_embedding[0][0]            \n",
      "__________________________________________________________________________________________________\n",
      "flatten (Flatten)               (None, 1)            0           Dot_Layer[0][0]                  \n",
      "__________________________________________________________________________________________________\n",
      "dense (Dense)                   (None, 1)            2           flatten[0][0]                    \n",
      "__________________________________________________________________________________________________\n",
      "batch_normalization (BatchNorma (None, 1)            4           dense[0][0]                      \n",
      "__________________________________________________________________________________________________\n",
      "activation (Activation)         (None, 1)            0           batch_normalization[0][0]        \n",
      "==================================================================================================\n",
      "Total params: 14,336,902\n",
      "Trainable params: 14,336,900\n",
      "Non-trainable params: 2\n",
      "__________________________________________________________________________________________________\n"
     ]
    }
   ],
   "source": [
    "#Defining the layers for the model. We embed both users and animes in to 128-dimensional vectors.\n",
    "\n",
    "def Recommender():\n",
    "    embedding_size= 128 #output dimensions\n",
    "    \n",
    "    #Defining the layer where we take user data as input \n",
    "    user = Input(name='user', shape =[1])\n",
    "    user_embedding = Embedding(name='user_embedding',\n",
    "                              input_dim = n_users,\n",
    "                              output_dim = embedding_size)(user)\n",
    "    \n",
    "    #Defining the layer where we take anime data as input\n",
    "    anime = Input(name='anime',shape =[1])\n",
    "    anime_embedding = Embedding(name='anime_embedding',\n",
    "                                input_dim = n_anime,\n",
    "                                output_dim = embedding_size)(anime)\n",
    "    \n",
    "    #Defining the layer to produce a dot product of the anime and user vectors\n",
    "    x_layer = Dot(name ='Dot_Layer',normalize = True, axes=2)([user_embedding,anime_embedding])\n",
    "    \n",
    "    #Flattening the layer to convert it into a 1-D array \n",
    "    x_layer =Flatten()(x_layer)\n",
    "    \n",
    "    #Dense layer - Hidden nn layer. Initializers define the way to set the initial random weights of Keras layers.\n",
    "    x_layer = Dense(1, kernel_initializer='he_normal')(x_layer)\n",
    "    \n",
    "    #Batch Normalization to make sure features are scaled\n",
    "    x_layer = BatchNormalization()(x_layer)\n",
    "    \n",
    "    #Defnining the activation function. Using th Sigmoid function\n",
    "    x_layer = Activation('sigmoid')(x_layer)\n",
    "    \n",
    "    model = Model(inputs = [user,anime],outputs = x_layer )\n",
    "    model.compile(loss ='binary_crossentropy', metrics=['mae','mse'], optimizer='Adam')\n",
    "    \n",
    "    return model\n",
    "\n",
    "\n",
    "if TPU_INIT:    \n",
    "    with tpu_strategy.scope():\n",
    "        model = Recommender()\n",
    "else:\n",
    "    model = Recommender()\n",
    "\n",
    "model.summary()\n",
    "    \n",
    "    \n",
    "    \n",
    "    \n",
    "    \n",
    "    \n",
    "    "
   ]
  },
  {
   "cell_type": "code",
   "execution_count": 23,
   "id": "95480179",
   "metadata": {
    "execution": {
     "iopub.execute_input": "2022-09-20T01:14:45.695889Z",
     "iopub.status.busy": "2022-09-20T01:14:45.694880Z",
     "iopub.status.idle": "2022-09-20T01:14:45.705162Z",
     "shell.execute_reply": "2022-09-20T01:14:45.704569Z",
     "shell.execute_reply.started": "2022-09-19T21:42:56.740210Z"
    },
    "papermill": {
     "duration": 0.072345,
     "end_time": "2022-09-20T01:14:45.705326",
     "exception": false,
     "start_time": "2022-09-20T01:14:45.632981",
     "status": "completed"
    },
    "tags": []
   },
   "outputs": [],
   "source": [
    "# Defining callbacks : Callbacks help us prevent overfitting, visualize our training progress, save checkpoints\n",
    "\n",
    "#Learning Rate\n",
    "start_lr = 0.00001 \n",
    "min_lr = 0.00001\n",
    "max_lr = 0.00005\n",
    "batch_size = 10000\n",
    "\n",
    "if TPU_INIT:\n",
    "    max_lr = max_lr * tpu_strategy.num_replicas_in_sync\n",
    "    batch_size = batch_size * tpu_strategy.num_replicas_in_sync\n",
    "\n",
    "rampup_epochs = 5\n",
    "sustain_epochs = 0\n",
    "exp_decay = .8\n",
    "\n",
    "# defining a function for the LearningrateScheduler that allows us to control the learning rate between epochs\n",
    "# def lr_function(epoch):\n",
    "#     if epoch < rampup_epochs:\n",
    "#         return (max_lr - start_lr)/rampup_epochs * epoch + start_lr\n",
    "#     elif epoch < rampup_epochs + sustain_epochs:\n",
    "#         return max_lr\n",
    "#     else: (max_lr - start_lr) * exp_decay**(epoch-rampup_epochs-sustain_epochs) + min_lr\n",
    "        \n",
    "# lr_callback = LearningRateScheduler(lambda epoch: lr_function(epoch),verbose=0)    \n",
    "\n",
    "def lr_scheduler(epoch, lr):\n",
    "    decay_rate = 0.1\n",
    "    decay_step = 90\n",
    "    if epoch % decay_step == 0 and epoch:\n",
    "        return lr * decay_rate\n",
    "    return lr\n",
    "\n",
    "lr_callback = LearningRateScheduler(lr_scheduler,verbose=1) \n",
    "\n",
    "#defining the output path where the model will store the saved checkpoints\n",
    "checkpoint_filepath = './weights.h5'\n",
    "\n",
    "#defining the checkpoint function , we do this to save the weights for further use later\n",
    "model_checkpoint = ModelCheckpoint(filepath=checkpoint_filepath,\n",
    "                                   save_weights_only=True,\n",
    "                                   monitor='val_loss',\n",
    "                                   mode='min',\n",
    "                                   save_best_only=True \n",
    "                                  )\n",
    "\n",
    "#Earlystopping function allows us to stop the model once the model performance stops showing any improvements\n",
    "early_stopping= EarlyStopping(patience=3,monitor='val_loss',mode='min',restore_best_weights=True)\n",
    "\n",
    "\n",
    "my_callbacks = [\n",
    "               model_checkpoint,\n",
    "               lr_callback,\n",
    "               early_stopping\n",
    "               ]"
   ]
  },
  {
   "cell_type": "markdown",
   "id": "a8358301",
   "metadata": {
    "papermill": {
     "duration": 0.058118,
     "end_time": "2022-09-20T01:14:45.822925",
     "exception": false,
     "start_time": "2022-09-20T01:14:45.764807",
     "status": "completed"
    },
    "tags": []
   },
   "source": [
    "### 3.1 Model Training"
   ]
  },
  {
   "cell_type": "code",
   "execution_count": 24,
   "id": "13506785",
   "metadata": {
    "execution": {
     "iopub.execute_input": "2022-09-20T01:14:45.953791Z",
     "iopub.status.busy": "2022-09-20T01:14:45.952555Z",
     "iopub.status.idle": "2022-09-20T01:17:57.228722Z",
     "shell.execute_reply": "2022-09-20T01:17:57.227965Z",
     "shell.execute_reply.started": "2022-09-19T21:42:56.754632Z"
    },
    "papermill": {
     "duration": 191.343518,
     "end_time": "2022-09-20T01:17:57.228979",
     "exception": false,
     "start_time": "2022-09-20T01:14:45.885461",
     "status": "completed"
    },
    "tags": []
   },
   "outputs": [
    {
     "name": "stdout",
     "output_type": "stream",
     "text": [
      "Epoch 1/20\n",
      "\n",
      "Epoch 00001: LearningRateScheduler reducing learning rate to 0.0010000000474974513.\n",
      "465/465 [==============================] - 27s 40ms/step - loss: 0.6927 - mae: 0.2214 - mse: 0.0720 - val_loss: 0.6138 - val_mae: 0.1630 - val_mse: 0.0402\n",
      "Epoch 2/20\n",
      "\n",
      "Epoch 00002: LearningRateScheduler reducing learning rate to 0.0010000000474974513.\n",
      "465/465 [==============================] - 13s 27ms/step - loss: 0.6058 - mae: 0.1534 - mse: 0.0368 - val_loss: 0.5907 - val_mae: 0.1359 - val_mse: 0.0301\n",
      "Epoch 3/20\n",
      "\n",
      "Epoch 00003: LearningRateScheduler reducing learning rate to 0.0010000000474974513.\n",
      "465/465 [==============================] - 13s 27ms/step - loss: 0.5853 - mae: 0.1288 - mse: 0.0279 - val_loss: 0.5835 - val_mae: 0.1252 - val_mse: 0.0271\n",
      "Epoch 4/20\n",
      "\n",
      "Epoch 00004: LearningRateScheduler reducing learning rate to 0.0010000000474974513.\n",
      "465/465 [==============================] - 13s 27ms/step - loss: 0.5810 - mae: 0.1224 - mse: 0.0261 - val_loss: 0.5828 - val_mae: 0.1243 - val_mse: 0.0269\n",
      "Epoch 5/20\n",
      "\n",
      "Epoch 00005: LearningRateScheduler reducing learning rate to 0.0010000000474974513.\n",
      "465/465 [==============================] - 13s 27ms/step - loss: 0.5801 - mae: 0.1209 - mse: 0.0258 - val_loss: 0.5827 - val_mae: 0.1238 - val_mse: 0.0268\n",
      "Epoch 6/20\n",
      "\n",
      "Epoch 00006: LearningRateScheduler reducing learning rate to 0.0010000000474974513.\n",
      "465/465 [==============================] - 13s 27ms/step - loss: 0.5797 - mae: 0.1203 - mse: 0.0257 - val_loss: 0.5826 - val_mae: 0.1236 - val_mse: 0.0268\n",
      "Epoch 7/20\n",
      "\n",
      "Epoch 00007: LearningRateScheduler reducing learning rate to 0.0010000000474974513.\n",
      "465/465 [==============================] - 13s 27ms/step - loss: 0.5794 - mae: 0.1200 - mse: 0.0256 - val_loss: 0.5823 - val_mae: 0.1234 - val_mse: 0.0267\n",
      "Epoch 8/20\n",
      "\n",
      "Epoch 00008: LearningRateScheduler reducing learning rate to 0.0010000000474974513.\n",
      "465/465 [==============================] - 13s 27ms/step - loss: 0.5791 - mae: 0.1195 - mse: 0.0254 - val_loss: 0.5824 - val_mae: 0.1233 - val_mse: 0.0267\n",
      "Epoch 9/20\n",
      "\n",
      "Epoch 00009: LearningRateScheduler reducing learning rate to 0.0010000000474974513.\n",
      "465/465 [==============================] - 13s 27ms/step - loss: 0.5791 - mae: 0.1195 - mse: 0.0254 - val_loss: 0.5824 - val_mae: 0.1233 - val_mse: 0.0267\n",
      "Epoch 10/20\n",
      "\n",
      "Epoch 00010: LearningRateScheduler reducing learning rate to 0.0010000000474974513.\n",
      "465/465 [==============================] - 13s 27ms/step - loss: 0.5787 - mae: 0.1190 - mse: 0.0253 - val_loss: 0.5823 - val_mae: 0.1232 - val_mse: 0.0266\n",
      "Epoch 11/20\n",
      "\n",
      "Epoch 00011: LearningRateScheduler reducing learning rate to 0.0010000000474974513.\n",
      "465/465 [==============================] - 13s 28ms/step - loss: 0.5784 - mae: 0.1187 - mse: 0.0252 - val_loss: 0.5824 - val_mae: 0.1235 - val_mse: 0.0267\n",
      "Epoch 12/20\n",
      "\n",
      "Epoch 00012: LearningRateScheduler reducing learning rate to 0.0010000000474974513.\n",
      "465/465 [==============================] - 13s 27ms/step - loss: 0.5783 - mae: 0.1185 - mse: 0.0251 - val_loss: 0.5824 - val_mae: 0.1232 - val_mse: 0.0267\n",
      "Epoch 13/20\n",
      "\n",
      "Epoch 00013: LearningRateScheduler reducing learning rate to 0.0010000000474974513.\n",
      "465/465 [==============================] - 13s 27ms/step - loss: 0.5782 - mae: 0.1183 - mse: 0.0251 - val_loss: 0.5826 - val_mae: 0.1235 - val_mse: 0.0268\n"
     ]
    }
   ],
   "source": [
    "#Now we train the model using the data and the functions defined above\n",
    "history = model.fit(x_train_array,\n",
    "                    y_train,\n",
    "                    batch_size=batch_size,\n",
    "                    epochs=20,\n",
    "                    verbose=1,\n",
    "                    validation_data=(x_test_array,y_test),\n",
    "                    callbacks = my_callbacks\n",
    "                   )\n",
    "\n",
    "model.load_weights(checkpoint_filepath)"
   ]
  },
  {
   "cell_type": "code",
   "execution_count": 25,
   "id": "52673080",
   "metadata": {
    "execution": {
     "iopub.execute_input": "2022-09-20T01:17:58.799007Z",
     "iopub.status.busy": "2022-09-20T01:17:58.798198Z",
     "iopub.status.idle": "2022-09-20T01:17:59.108409Z",
     "shell.execute_reply": "2022-09-20T01:17:59.107828Z",
     "shell.execute_reply.started": "2022-09-19T21:45:47.011694Z"
    },
    "papermill": {
     "duration": 1.068017,
     "end_time": "2022-09-20T01:17:59.108575",
     "exception": false,
     "start_time": "2022-09-20T01:17:58.040558",
     "status": "completed"
    },
    "tags": []
   },
   "outputs": [
    {
     "data": {
      "image/png": "[encoded data removed]",
      "text/plain": [
       "<Figure size 432x288 with 1 Axes>"
      ]
     },
     "metadata": {
      "needs_background": "light"
     },
     "output_type": "display_data"
    }
   ],
   "source": [
    "#Training results \n",
    "plt.plot(history.history[\"loss\"][:-3])\n",
    "plt.plot(history.history[\"val_loss\"][:-3])\n",
    "plt.title('Model Loss')\n",
    "plt.ylabel('Loss')\n",
    "plt.xlabel('Epoch')\n",
    "plt.legend(['Train','Test'] , loc='upper left')\n",
    "plt.show()"
   ]
  },
  {
   "cell_type": "markdown",
   "id": "303178b6",
   "metadata": {
    "papermill": {
     "duration": 0.741322,
     "end_time": "2022-09-20T01:18:00.583864",
     "exception": false,
     "start_time": "2022-09-20T01:17:59.842542",
     "status": "completed"
    },
    "tags": []
   },
   "source": [
    "### 3.2 Extracting Weights from the Model"
   ]
  },
  {
   "cell_type": "code",
   "execution_count": 26,
   "id": "1c2f2550",
   "metadata": {
    "execution": {
     "iopub.execute_input": "2022-09-20T01:18:02.079911Z",
     "iopub.status.busy": "2022-09-20T01:18:02.079128Z",
     "iopub.status.idle": "2022-09-20T01:18:02.311477Z",
     "shell.execute_reply": "2022-09-20T01:18:02.312053Z",
     "shell.execute_reply.started": "2022-09-19T21:45:47.350887Z"
    },
    "papermill": {
     "duration": 0.985528,
     "end_time": "2022-09-20T01:18:02.312270",
     "exception": false,
     "start_time": "2022-09-20T01:18:01.326742",
     "status": "completed"
    },
    "tags": []
   },
   "outputs": [],
   "source": [
    "def extract(name,model):\n",
    "    weight_layer = model.get_layer(name) #name of the layer\n",
    "    weights = weight_layer.get_weights()[0] #the weight values\n",
    "    weights = weights / np.linalg.norm(weights,axis =1).reshape((-1,1)) #normalizing weights\n",
    "    return weights\n",
    "\n",
    "user_weights = extract('user_embedding' , model)\n",
    "anime_weights = extract('anime_embedding' , model)\n",
    "\n",
    "    "
   ]
  },
  {
   "cell_type": "markdown",
   "id": "fbb0c179",
   "metadata": {
    "papermill": {
     "duration": 0.732915,
     "end_time": "2022-09-20T01:18:03.780637",
     "exception": false,
     "start_time": "2022-09-20T01:18:03.047722",
     "status": "completed"
    },
    "tags": []
   },
   "source": [
    "# 4. Task 1: Finding Similar Animes (Recommendations Based on Similar Content)\n"
   ]
  },
  {
   "cell_type": "code",
   "execution_count": 27,
   "id": "9ae91524",
   "metadata": {
    "execution": {
     "iopub.execute_input": "2022-09-20T01:18:05.322623Z",
     "iopub.status.busy": "2022-09-20T01:18:05.304639Z",
     "iopub.status.idle": "2022-09-20T01:18:05.327728Z",
     "shell.execute_reply": "2022-09-20T01:18:05.328251Z",
     "shell.execute_reply.started": "2022-09-19T21:45:47.525199Z"
    },
    "papermill": {
     "duration": 0.822501,
     "end_time": "2022-09-20T01:18:05.328456",
     "exception": false,
     "start_time": "2022-09-20T01:18:04.505955",
     "status": "completed"
    },
    "tags": []
   },
   "outputs": [
    {
     "data": {
      "text/html": [
       "<div>\n",
       "<style scoped>\n",
       "    .dataframe tbody tr th:only-of-type {\n",
       "        vertical-align: middle;\n",
       "    }\n",
       "\n",
       "    .dataframe tbody tr th {\n",
       "        vertical-align: top;\n",
       "    }\n",
       "\n",
       "    .dataframe thead th {\n",
       "        text-align: right;\n",
       "    }\n",
       "</style>\n",
       "<table border=\"1\" class=\"dataframe\">\n",
       "  <thead>\n",
       "    <tr style=\"text-align: right;\">\n",
       "      <th></th>\n",
       "      <th>MAL_ID</th>\n",
       "      <th>Name</th>\n",
       "      <th>Score</th>\n",
       "      <th>Genres</th>\n",
       "      <th>English name</th>\n",
       "      <th>Japanese name</th>\n",
       "      <th>Type</th>\n",
       "      <th>Episodes</th>\n",
       "      <th>Aired</th>\n",
       "      <th>Premiered</th>\n",
       "      <th>...</th>\n",
       "      <th>Score-10</th>\n",
       "      <th>Score-9</th>\n",
       "      <th>Score-8</th>\n",
       "      <th>Score-7</th>\n",
       "      <th>Score-6</th>\n",
       "      <th>Score-5</th>\n",
       "      <th>Score-4</th>\n",
       "      <th>Score-3</th>\n",
       "      <th>Score-2</th>\n",
       "      <th>Score-1</th>\n",
       "    </tr>\n",
       "  </thead>\n",
       "  <tbody>\n",
       "    <tr>\n",
       "      <th>16489</th>\n",
       "      <td>41061</td>\n",
       "      <td>Heya Camp△: Sauna to Gohan to Sanrin Bike</td>\n",
       "      <td>7.44</td>\n",
       "      <td>Slice of Life, Comedy</td>\n",
       "      <td>Unknown</td>\n",
       "      <td>へやキャン△「サウナとごはんと三輪バイク」</td>\n",
       "      <td>Special</td>\n",
       "      <td>1</td>\n",
       "      <td>May 27, 2020</td>\n",
       "      <td>Unknown</td>\n",
       "      <td>...</td>\n",
       "      <td>291.0</td>\n",
       "      <td>411.0</td>\n",
       "      <td>1160.0</td>\n",
       "      <td>1402.0</td>\n",
       "      <td>468.0</td>\n",
       "      <td>149.0</td>\n",
       "      <td>29.0</td>\n",
       "      <td>10.0</td>\n",
       "      <td>5.0</td>\n",
       "      <td>10.0</td>\n",
       "    </tr>\n",
       "    <tr>\n",
       "      <th>13003</th>\n",
       "      <td>35347</td>\n",
       "      <td>Kemono Friends: Bus-teki</td>\n",
       "      <td>6.63</td>\n",
       "      <td>Comedy, Fantasy</td>\n",
       "      <td>Unknown</td>\n",
       "      <td>けものフレンズ　12.1話「ばすてき」</td>\n",
       "      <td>ONA</td>\n",
       "      <td>1</td>\n",
       "      <td>Apr 4, 2017</td>\n",
       "      <td>Unknown</td>\n",
       "      <td>...</td>\n",
       "      <td>139.0</td>\n",
       "      <td>93.0</td>\n",
       "      <td>250.0</td>\n",
       "      <td>515.0</td>\n",
       "      <td>440.0</td>\n",
       "      <td>250.0</td>\n",
       "      <td>52.0</td>\n",
       "      <td>30.0</td>\n",
       "      <td>27.0</td>\n",
       "      <td>26.0</td>\n",
       "    </tr>\n",
       "  </tbody>\n",
       "</table>\n",
       "<p>2 rows × 35 columns</p>\n",
       "</div>"
      ],
      "text/plain": [
       "       MAL_ID                                       Name Score  \\\n",
       "16489   41061  Heya Camp△: Sauna to Gohan to Sanrin Bike  7.44   \n",
       "13003   35347                   Kemono Friends: Bus-teki  6.63   \n",
       "\n",
       "                      Genres English name          Japanese name     Type  \\\n",
       "16489  Slice of Life, Comedy      Unknown  へやキャン△「サウナとごはんと三輪バイク」  Special   \n",
       "13003        Comedy, Fantasy      Unknown    けものフレンズ　12.1話「ばすてき」      ONA   \n",
       "\n",
       "      Episodes         Aired Premiered  ... Score-10 Score-9 Score-8 Score-7  \\\n",
       "16489        1  May 27, 2020   Unknown  ...    291.0   411.0  1160.0  1402.0   \n",
       "13003        1   Apr 4, 2017   Unknown  ...    139.0    93.0   250.0   515.0   \n",
       "\n",
       "      Score-6 Score-5 Score-4  Score-3  Score-2  Score-1  \n",
       "16489   468.0   149.0    29.0     10.0      5.0     10.0  \n",
       "13003   440.0   250.0    52.0     30.0     27.0     26.0  \n",
       "\n",
       "[2 rows x 35 columns]"
      ]
     },
     "execution_count": 27,
     "metadata": {},
     "output_type": "execute_result"
    }
   ],
   "source": [
    "anime_df.sample(2)"
   ]
  },
  {
   "cell_type": "code",
   "execution_count": 28,
   "id": "b4eb84eb",
   "metadata": {
    "execution": {
     "iopub.execute_input": "2022-09-20T01:18:06.827424Z",
     "iopub.status.busy": "2022-09-20T01:18:06.826689Z",
     "iopub.status.idle": "2022-09-20T01:18:06.856896Z",
     "shell.execute_reply": "2022-09-20T01:18:06.856263Z",
     "shell.execute_reply.started": "2022-09-19T21:45:47.551428Z"
    },
    "papermill": {
     "duration": 0.782828,
     "end_time": "2022-09-20T01:18:06.857067",
     "exception": false,
     "start_time": "2022-09-20T01:18:06.074239",
     "status": "completed"
    },
    "tags": []
   },
   "outputs": [],
   "source": [
    "#removing unknowns \n",
    "anime_df = anime_df.replace(\"Unknown\",np.nan )"
   ]
  },
  {
   "cell_type": "code",
   "execution_count": 29,
   "id": "640c2279",
   "metadata": {
    "execution": {
     "iopub.execute_input": "2022-09-20T01:18:08.344031Z",
     "iopub.status.busy": "2022-09-20T01:18:08.339542Z",
     "iopub.status.idle": "2022-09-20T01:18:21.995933Z",
     "shell.execute_reply": "2022-09-20T01:18:21.995106Z",
     "shell.execute_reply.started": "2022-09-19T21:45:47.581880Z"
    },
    "papermill": {
     "duration": 14.40753,
     "end_time": "2022-09-20T01:18:21.996108",
     "exception": false,
     "start_time": "2022-09-20T01:18:07.588578",
     "status": "completed"
    },
    "tags": []
   },
   "outputs": [],
   "source": [
    "#Redefining the anime dataframe with proper names and removing null values\n",
    "\n",
    "def getName(anime_id): \n",
    "    try:\n",
    "        name=anime_df[anime_df.anime_id == anime_id].eng_name.values[0] #Extracting the English name\n",
    "        if name is np.nan:\n",
    "            name = anime_df[anime_df.anime_id == anime_id].Name.values[0] #Extracting the name if english value is null\n",
    "    \n",
    "    except Exception as e:\n",
    "        print(e)\n",
    "        \n",
    "    return name \n",
    "\n",
    "#Renaming some columns\n",
    "anime_df['anime_id']=anime_df['MAL_ID'] \n",
    "anime_df['eng_name']=anime_df['English name']\n",
    "anime_df['eng_name']=anime_df.anime_id.apply(lambda x:getName(x))\n",
    "\n",
    "#sorting values by highest score\n",
    "anime_df.sort_values(by=['Score'],\n",
    "                    inplace=True,\n",
    "                    ascending=False,\n",
    "                    kind='quicksort',\n",
    "                    na_position='last')\n",
    "\n",
    "anime_df=anime_df[[\"anime_id\", \"eng_name\", \n",
    "         \"Score\", \"Genres\", \"Episodes\", \n",
    "         \"Type\", \"Premiered\", \"Members\"]]\n"
   ]
  },
  {
   "cell_type": "code",
   "execution_count": 30,
   "id": "73e520ca",
   "metadata": {
    "execution": {
     "iopub.execute_input": "2022-09-20T01:18:23.472398Z",
     "iopub.status.busy": "2022-09-20T01:18:23.458777Z",
     "iopub.status.idle": "2022-09-20T01:18:23.478144Z",
     "shell.execute_reply": "2022-09-20T01:18:23.477483Z",
     "shell.execute_reply.started": "2022-09-19T21:46:00.881057Z"
    },
    "papermill": {
     "duration": 0.757067,
     "end_time": "2022-09-20T01:18:23.478337",
     "exception": false,
     "start_time": "2022-09-20T01:18:22.721270",
     "status": "completed"
    },
    "tags": []
   },
   "outputs": [
    {
     "data": {
      "text/html": [
       "<div>\n",
       "<style scoped>\n",
       "    .dataframe tbody tr th:only-of-type {\n",
       "        vertical-align: middle;\n",
       "    }\n",
       "\n",
       "    .dataframe tbody tr th {\n",
       "        vertical-align: top;\n",
       "    }\n",
       "\n",
       "    .dataframe thead th {\n",
       "        text-align: right;\n",
       "    }\n",
       "</style>\n",
       "<table border=\"1\" class=\"dataframe\">\n",
       "  <thead>\n",
       "    <tr style=\"text-align: right;\">\n",
       "      <th></th>\n",
       "      <th>anime_id</th>\n",
       "      <th>eng_name</th>\n",
       "      <th>Score</th>\n",
       "      <th>Genres</th>\n",
       "      <th>Episodes</th>\n",
       "      <th>Type</th>\n",
       "      <th>Premiered</th>\n",
       "      <th>Members</th>\n",
       "    </tr>\n",
       "  </thead>\n",
       "  <tbody>\n",
       "    <tr>\n",
       "      <th>3971</th>\n",
       "      <td>5114</td>\n",
       "      <td>Fullmetal Alchemist:Brotherhood</td>\n",
       "      <td>9.19</td>\n",
       "      <td>Action, Military, Adventure, Comedy, Drama, Ma...</td>\n",
       "      <td>64</td>\n",
       "      <td>TV</td>\n",
       "      <td>Spring 2009</td>\n",
       "      <td>2248456</td>\n",
       "    </tr>\n",
       "    <tr>\n",
       "      <th>15926</th>\n",
       "      <td>40028</td>\n",
       "      <td>Attack on Titan Final Season</td>\n",
       "      <td>9.17</td>\n",
       "      <td>Action, Military, Mystery, Super Power, Drama,...</td>\n",
       "      <td>16</td>\n",
       "      <td>TV</td>\n",
       "      <td>Winter 2021</td>\n",
       "      <td>733260</td>\n",
       "    </tr>\n",
       "    <tr>\n",
       "      <th>5683</th>\n",
       "      <td>9253</td>\n",
       "      <td>Steins;Gate</td>\n",
       "      <td>9.11</td>\n",
       "      <td>Thriller, Sci-Fi</td>\n",
       "      <td>24</td>\n",
       "      <td>TV</td>\n",
       "      <td>Spring 2011</td>\n",
       "      <td>1771162</td>\n",
       "    </tr>\n",
       "    <tr>\n",
       "      <th>14963</th>\n",
       "      <td>38524</td>\n",
       "      <td>Attack on Titan Season 3 Part 2</td>\n",
       "      <td>9.1</td>\n",
       "      <td>Action, Drama, Fantasy, Military, Mystery, Sho...</td>\n",
       "      <td>10</td>\n",
       "      <td>TV</td>\n",
       "      <td>Spring 2019</td>\n",
       "      <td>1073626</td>\n",
       "    </tr>\n",
       "    <tr>\n",
       "      <th>9913</th>\n",
       "      <td>28977</td>\n",
       "      <td>Gintama Season 4</td>\n",
       "      <td>9.1</td>\n",
       "      <td>Action, Comedy, Historical, Parody, Samurai, S...</td>\n",
       "      <td>51</td>\n",
       "      <td>TV</td>\n",
       "      <td>Spring 2015</td>\n",
       "      <td>404121</td>\n",
       "    </tr>\n",
       "    <tr>\n",
       "      <th>6474</th>\n",
       "      <td>11061</td>\n",
       "      <td>Hunter x Hunter</td>\n",
       "      <td>9.1</td>\n",
       "      <td>Action, Adventure, Fantasy, Shounen, Super Power</td>\n",
       "      <td>148</td>\n",
       "      <td>TV</td>\n",
       "      <td>Fall 2011</td>\n",
       "      <td>1673924</td>\n",
       "    </tr>\n",
       "    <tr>\n",
       "      <th>6006</th>\n",
       "      <td>9969</td>\n",
       "      <td>Gintama Season 2</td>\n",
       "      <td>9.08</td>\n",
       "      <td>Action, Sci-Fi, Comedy, Historical, Parody, Sa...</td>\n",
       "      <td>51</td>\n",
       "      <td>TV</td>\n",
       "      <td>Spring 2011</td>\n",
       "      <td>365579</td>\n",
       "    </tr>\n",
       "    <tr>\n",
       "      <th>741</th>\n",
       "      <td>820</td>\n",
       "      <td>Legend of the Galactic Heroes</td>\n",
       "      <td>9.07</td>\n",
       "      <td>Military, Sci-Fi, Space, Drama</td>\n",
       "      <td>110</td>\n",
       "      <td>OVA</td>\n",
       "      <td>NaN</td>\n",
       "      <td>230168</td>\n",
       "    </tr>\n",
       "    <tr>\n",
       "      <th>7261</th>\n",
       "      <td>15417</td>\n",
       "      <td>Gintama:Enchousen</td>\n",
       "      <td>9.04</td>\n",
       "      <td>Action, Comedy, Historical, Parody, Samurai, S...</td>\n",
       "      <td>13</td>\n",
       "      <td>TV</td>\n",
       "      <td>Fall 2012</td>\n",
       "      <td>222819</td>\n",
       "    </tr>\n",
       "    <tr>\n",
       "      <th>9886</th>\n",
       "      <td>28851</td>\n",
       "      <td>A Silent Voice</td>\n",
       "      <td>9.0</td>\n",
       "      <td>Drama, School, Shounen</td>\n",
       "      <td>1</td>\n",
       "      <td>Movie</td>\n",
       "      <td>NaN</td>\n",
       "      <td>1387607</td>\n",
       "    </tr>\n",
       "  </tbody>\n",
       "</table>\n",
       "</div>"
      ],
      "text/plain": [
       "       anime_id                         eng_name Score  \\\n",
       "3971       5114  Fullmetal Alchemist:Brotherhood  9.19   \n",
       "15926     40028     Attack on Titan Final Season  9.17   \n",
       "5683       9253                      Steins;Gate  9.11   \n",
       "14963     38524  Attack on Titan Season 3 Part 2   9.1   \n",
       "9913      28977                 Gintama Season 4   9.1   \n",
       "6474      11061                  Hunter x Hunter   9.1   \n",
       "6006       9969                 Gintama Season 2  9.08   \n",
       "741         820    Legend of the Galactic Heroes  9.07   \n",
       "7261      15417                Gintama:Enchousen  9.04   \n",
       "9886      28851                   A Silent Voice   9.0   \n",
       "\n",
       "                                                  Genres Episodes   Type  \\\n",
       "3971   Action, Military, Adventure, Comedy, Drama, Ma...       64     TV   \n",
       "15926  Action, Military, Mystery, Super Power, Drama,...       16     TV   \n",
       "5683                                    Thriller, Sci-Fi       24     TV   \n",
       "14963  Action, Drama, Fantasy, Military, Mystery, Sho...       10     TV   \n",
       "9913   Action, Comedy, Historical, Parody, Samurai, S...       51     TV   \n",
       "6474    Action, Adventure, Fantasy, Shounen, Super Power      148     TV   \n",
       "6006   Action, Sci-Fi, Comedy, Historical, Parody, Sa...       51     TV   \n",
       "741                       Military, Sci-Fi, Space, Drama      110    OVA   \n",
       "7261   Action, Comedy, Historical, Parody, Samurai, S...       13     TV   \n",
       "9886                              Drama, School, Shounen        1  Movie   \n",
       "\n",
       "         Premiered  Members  \n",
       "3971   Spring 2009  2248456  \n",
       "15926  Winter 2021   733260  \n",
       "5683   Spring 2011  1771162  \n",
       "14963  Spring 2019  1073626  \n",
       "9913   Spring 2015   404121  \n",
       "6474     Fall 2011  1673924  \n",
       "6006   Spring 2011   365579  \n",
       "741            NaN   230168  \n",
       "7261     Fall 2012   222819  \n",
       "9886           NaN  1387607  "
      ]
     },
     "execution_count": 30,
     "metadata": {},
     "output_type": "execute_result"
    }
   ],
   "source": [
    "anime_df.head(10)"
   ]
  },
  {
   "cell_type": "code",
   "execution_count": 31,
   "id": "e7e992b5",
   "metadata": {
    "execution": {
     "iopub.execute_input": "2022-09-20T01:18:25.030231Z",
     "iopub.status.busy": "2022-09-20T01:18:25.029180Z",
     "iopub.status.idle": "2022-09-20T01:18:25.032457Z",
     "shell.execute_reply": "2022-09-20T01:18:25.031784Z",
     "shell.execute_reply.started": "2022-09-19T21:46:00.896713Z"
    },
    "papermill": {
     "duration": 0.757029,
     "end_time": "2022-09-20T01:18:25.032613",
     "exception": false,
     "start_time": "2022-09-20T01:18:24.275584",
     "status": "completed"
    },
    "tags": []
   },
   "outputs": [],
   "source": [
    "# This function will be giving us the the names of the recommended animes \n",
    "def getAnimeFrame(anime):\n",
    "    if isinstance(anime ,int):\n",
    "        return anime_df[anime_df.anime_id == anime]\n",
    "    if isinstance(anime,str):\n",
    "        return anime_df[anime_df.eng_name == anime]\n",
    "    \n",
    "    "
   ]
  },
  {
   "cell_type": "code",
   "execution_count": 32,
   "id": "6f0f5353",
   "metadata": {
    "execution": {
     "iopub.execute_input": "2022-09-20T01:18:26.523059Z",
     "iopub.status.busy": "2022-09-20T01:18:26.516463Z",
     "iopub.status.idle": "2022-09-20T01:18:26.527261Z",
     "shell.execute_reply": "2022-09-20T01:18:26.526645Z",
     "shell.execute_reply.started": "2022-09-19T21:46:00.907944Z"
    },
    "papermill": {
     "duration": 0.748737,
     "end_time": "2022-09-20T01:18:26.527444",
     "exception": false,
     "start_time": "2022-09-20T01:18:25.778707",
     "status": "completed"
    },
    "tags": []
   },
   "outputs": [],
   "source": [
    "synopsis_df.drop('Score',axis=1 ,inplace=True)"
   ]
  },
  {
   "cell_type": "code",
   "execution_count": 33,
   "id": "1b2d5e4e",
   "metadata": {
    "execution": {
     "iopub.execute_input": "2022-09-20T01:18:28.070480Z",
     "iopub.status.busy": "2022-09-20T01:18:28.069356Z",
     "iopub.status.idle": "2022-09-20T01:18:28.074265Z",
     "shell.execute_reply": "2022-09-20T01:18:28.073728Z",
     "shell.execute_reply.started": "2022-09-19T21:46:00.929867Z"
    },
    "papermill": {
     "duration": 0.812184,
     "end_time": "2022-09-20T01:18:28.074432",
     "exception": false,
     "start_time": "2022-09-20T01:18:27.262248",
     "status": "completed"
    },
    "tags": []
   },
   "outputs": [
    {
     "data": {
      "text/html": [
       "<div>\n",
       "<style scoped>\n",
       "    .dataframe tbody tr th:only-of-type {\n",
       "        vertical-align: middle;\n",
       "    }\n",
       "\n",
       "    .dataframe tbody tr th {\n",
       "        vertical-align: top;\n",
       "    }\n",
       "\n",
       "    .dataframe thead th {\n",
       "        text-align: right;\n",
       "    }\n",
       "</style>\n",
       "<table border=\"1\" class=\"dataframe\">\n",
       "  <thead>\n",
       "    <tr style=\"text-align: right;\">\n",
       "      <th></th>\n",
       "      <th>MAL_ID</th>\n",
       "      <th>Name</th>\n",
       "      <th>Genres</th>\n",
       "      <th>sypnopsis</th>\n",
       "    </tr>\n",
       "  </thead>\n",
       "  <tbody>\n",
       "    <tr>\n",
       "      <th>4217</th>\n",
       "      <td>7062</td>\n",
       "      <td>Hidamari Sketch x ☆☆☆</td>\n",
       "      <td>Slice of Life, Comedy, School, Seinen</td>\n",
       "      <td>The continuing stories of the daily life of th...</td>\n",
       "    </tr>\n",
       "    <tr>\n",
       "      <th>11874</th>\n",
       "      <td>35407</td>\n",
       "      <td>Rhythm</td>\n",
       "      <td>Dementia</td>\n",
       "      <td>comfortable rhythm composed of light and shado...</td>\n",
       "    </tr>\n",
       "  </tbody>\n",
       "</table>\n",
       "</div>"
      ],
      "text/plain": [
       "       MAL_ID                   Name                                 Genres  \\\n",
       "4217     7062  Hidamari Sketch x ☆☆☆  Slice of Life, Comedy, School, Seinen   \n",
       "11874   35407                 Rhythm                               Dementia   \n",
       "\n",
       "                                               sypnopsis  \n",
       "4217   The continuing stories of the daily life of th...  \n",
       "11874  comfortable rhythm composed of light and shado...  "
      ]
     },
     "execution_count": 33,
     "metadata": {},
     "output_type": "execute_result"
    }
   ],
   "source": [
    "synopsis_df.sample(2)\n",
    "#[Note: Synopsis is spelled as sypnopsis]"
   ]
  },
  {
   "cell_type": "code",
   "execution_count": 34,
   "id": "22107b76",
   "metadata": {
    "execution": {
     "iopub.execute_input": "2022-09-20T01:18:29.648023Z",
     "iopub.status.busy": "2022-09-20T01:18:29.644418Z",
     "iopub.status.idle": "2022-09-20T01:18:29.651039Z",
     "shell.execute_reply": "2022-09-20T01:18:29.651569Z",
     "shell.execute_reply.started": "2022-09-19T21:46:00.945242Z"
    },
    "papermill": {
     "duration": 0.77324,
     "end_time": "2022-09-20T01:18:29.651789",
     "exception": false,
     "start_time": "2022-09-20T01:18:28.878549",
     "status": "completed"
    },
    "tags": []
   },
   "outputs": [],
   "source": [
    "#Extracting the synopsis values\n",
    "def getSynopsis(anime):\n",
    "    if isinstance(anime, int):\n",
    "        return synopsis_df[synopsis_df.MAL_ID == anime].sypnopsis.values[0]\n",
    "    if isinstance(anime, str):\n",
    "        return synopsis_df[synopsis_df.Name == anime].sypnopsis.values[0]"
   ]
  },
  {
   "cell_type": "code",
   "execution_count": 35,
   "id": "6aa43053",
   "metadata": {
    "execution": {
     "iopub.execute_input": "2022-09-20T01:18:31.165822Z",
     "iopub.status.busy": "2022-09-20T01:18:31.162713Z",
     "iopub.status.idle": "2022-09-20T01:18:31.168078Z",
     "shell.execute_reply": "2022-09-20T01:18:31.168577Z",
     "shell.execute_reply.started": "2022-09-19T21:46:00.952822Z"
    },
    "papermill": {
     "duration": 0.757479,
     "end_time": "2022-09-20T01:18:31.168795",
     "exception": false,
     "start_time": "2022-09-20T01:18:30.411316",
     "status": "completed"
    },
    "tags": []
   },
   "outputs": [],
   "source": [
    "pd.set_option(\"max_colwidth\", None)\n",
    "\n",
    "#Defining a Function that returns us a detailed dataframe of the recommendationsusing the model weights\n",
    "\n",
    "def similar_animes(name, n=10, return_dist=False, neg=False):\n",
    "    try:\n",
    "        index = getAnimeFrame(name).anime_id.values[0] #Extracting the original id of anime\n",
    "        encoded_index = anime2_encoded.get(index) #Extracting the reset encoded index \n",
    "        weights = anime_weights # defining the weights from the model\n",
    "\n",
    "        dists = np.dot(weights, weights[encoded_index]) #dot product of the weights and the index\n",
    "        sorted_dists = np.argsort(dists) # returning the sorted indices\n",
    "\n",
    "        n = n + 1            \n",
    "\n",
    "        if neg:\n",
    "                closest = sorted_dists[:n] # Neg closeness\n",
    "        else:\n",
    "                closest = sorted_dists[-n:] # Pos closeness\n",
    "        print(f'The animes closest to {name} are:')\n",
    "\n",
    "        if return_dist:\n",
    "            return dists, closest\n",
    "\n",
    "        rindex = anime_df\n",
    "\n",
    "        SimilarityArr = [] #empty array that will contain all the similar animes based on closest distance\n",
    "\n",
    "        for close in closest:\n",
    "            decoded_id = encoded2_anime.get(close)\n",
    "            sypnopsis = getSynopsis(decoded_id)\n",
    "            anime_frame = getAnimeFrame(decoded_id)\n",
    "\n",
    "            anime_name = anime_frame.eng_name.values[0]\n",
    "            genre = anime_frame.Genres.values[0]\n",
    "            similarity = dists[close]\n",
    "            SimilarityArr.append({\"anime_id\": decoded_id, \"name\": anime_name,\n",
    "                                      \"similarity\": similarity,\"genre\": genre,\n",
    "                                      'synopsis': sypnopsis})\n",
    "\n",
    "        Frame = pd.DataFrame(SimilarityArr).sort_values(by=\"similarity\", ascending=False)\n",
    "        return Frame[Frame.anime_id!= index].drop(['anime_id'],axis=1)\n",
    "\n",
    "    except:\n",
    "        print(f'{name}!, Not Found in Anime list')"
   ]
  },
  {
   "cell_type": "markdown",
   "id": "7258c8c3",
   "metadata": {
    "papermill": {
     "duration": 0.737458,
     "end_time": "2022-09-20T01:18:32.634764",
     "exception": false,
     "start_time": "2022-09-20T01:18:31.897306",
     "status": "completed"
    },
    "tags": []
   },
   "source": [
    "## 4.1 Testing out the model"
   ]
  },
  {
   "cell_type": "code",
   "execution_count": 36,
   "id": "859ed0f3",
   "metadata": {
    "execution": {
     "iopub.execute_input": "2022-09-20T01:18:34.111175Z",
     "iopub.status.busy": "2022-09-20T01:18:34.109188Z",
     "iopub.status.idle": "2022-09-20T01:18:34.159239Z",
     "shell.execute_reply": "2022-09-20T01:18:34.160357Z",
     "shell.execute_reply.started": "2022-09-19T21:46:00.966464Z"
    },
    "papermill": {
     "duration": 0.787885,
     "end_time": "2022-09-20T01:18:34.160717",
     "exception": false,
     "start_time": "2022-09-20T01:18:33.372832",
     "status": "completed"
    },
    "tags": []
   },
   "outputs": [
    {
     "name": "stdout",
     "output_type": "stream",
     "text": [
      "The animes closest to Dragon Ball Z are:\n"
     ]
    },
    {
     "data": {
      "text/html": [
       "<div>\n",
       "<style scoped>\n",
       "    .dataframe tbody tr th:only-of-type {\n",
       "        vertical-align: middle;\n",
       "    }\n",
       "\n",
       "    .dataframe tbody tr th {\n",
       "        vertical-align: top;\n",
       "    }\n",
       "\n",
       "    .dataframe thead th {\n",
       "        text-align: right;\n",
       "    }\n",
       "</style>\n",
       "<table border=\"1\" class=\"dataframe\">\n",
       "  <thead>\n",
       "    <tr style=\"text-align: right;\">\n",
       "      <th></th>\n",
       "      <th>name</th>\n",
       "      <th>similarity</th>\n",
       "      <th>genre</th>\n",
       "      <th>synopsis</th>\n",
       "    </tr>\n",
       "  </thead>\n",
       "  <tbody>\n",
       "    <tr>\n",
       "      <th>1</th>\n",
       "      <td>Kaede New Town</td>\n",
       "      <td>0.579372</td>\n",
       "      <td>Comedy, Romance, School, Slice of Life</td>\n",
       "      <td>kio Osawa, an average 5th grade school boy, lives in the suburbs of Osaka. Mikio likes Haruko Tezuka, a cute little girl in his class. However, Mikio is too shy and withdrawn to tell Haruko that he likes her. One day, Mikio's close friend Megane brings news that Haruko is about to move away to another town... Kaede Newtown is a romantic comedy animation created by Naoto Iwakiri, an Osaka-born illustrator. With cute little characters and music created by Japanese band Aprils and singer-songwriter TOMOVSKY, Kaede Newtown takes you back to the good ol' town you lived in during the good ol' days of your childhood. (Source: crunchyroll.com)</td>\n",
       "    </tr>\n",
       "    <tr>\n",
       "      <th>0</th>\n",
       "      <td>Bishoujo Senshi Sailor Moon Eternal Movie 1</td>\n",
       "      <td>0.578143</td>\n",
       "      <td>Demons, Magic, Romance, Shoujo</td>\n",
       "      <td>Bishoujo Senshi Sailor Moon Eternal serves as the fourth installment in Toei Animation's reboot of Naoko Takeuchi's original magical girl manga. The sequel was announced in January 2017 as a part of the franchise's 25th anniversary and later confirmed to be a two-part anime film covering the Dream arc. (Source: MAL News)</td>\n",
       "    </tr>\n",
       "  </tbody>\n",
       "</table>\n",
       "</div>"
      ],
      "text/plain": [
       "                                          name  similarity  \\\n",
       "1                               Kaede New Town    0.579372   \n",
       "0  Bishoujo Senshi Sailor Moon Eternal Movie 1    0.578143   \n",
       "\n",
       "                                    genre  \\\n",
       "1  Comedy, Romance, School, Slice of Life   \n",
       "0          Demons, Magic, Romance, Shoujo   \n",
       "\n",
       "                                                                                                                                                                                                                                                                                                                                                                                                                                                                                                                                                                                                                                                              synopsis  \n",
       "1  kio Osawa, an average 5th grade school boy, lives in the suburbs of Osaka. Mikio likes Haruko Tezuka, a cute little girl in his class. However, Mikio is too shy and withdrawn to tell Haruko that he likes her. One day, Mikio's close friend Megane brings news that Haruko is about to move away to another town... Kaede Newtown is a romantic comedy animation created by Naoto Iwakiri, an Osaka-born illustrator. With cute little characters and music created by Japanese band Aprils and singer-songwriter TOMOVSKY, Kaede Newtown takes you back to the good ol' town you lived in during the good ol' days of your childhood. (Source: crunchyroll.com)  \n",
       "0                                                                                                                                                                                                                                                                                                                                   Bishoujo Senshi Sailor Moon Eternal serves as the fourth installment in Toei Animation's reboot of Naoko Takeuchi's original magical girl manga. The sequel was announced in January 2017 as a part of the franchise's 25th anniversary and later confirmed to be a two-part anime film covering the Dream arc. (Source: MAL News)  "
      ]
     },
     "execution_count": 36,
     "metadata": {},
     "output_type": "execute_result"
    }
   ],
   "source": [
    "similar_animes('Dragon Ball Z', n=2 )"
   ]
  },
  {
   "cell_type": "code",
   "execution_count": 37,
   "id": "4f08e997",
   "metadata": {
    "execution": {
     "iopub.execute_input": "2022-09-20T01:18:35.729501Z",
     "iopub.status.busy": "2022-09-20T01:18:35.728059Z",
     "iopub.status.idle": "2022-09-20T01:18:35.783199Z",
     "shell.execute_reply": "2022-09-20T01:18:35.784401Z",
     "shell.execute_reply.started": "2022-09-19T21:46:00.995915Z"
    },
    "papermill": {
     "duration": 0.832146,
     "end_time": "2022-09-20T01:18:35.784781",
     "exception": false,
     "start_time": "2022-09-20T01:18:34.952635",
     "status": "completed"
    },
    "tags": []
   },
   "outputs": [
    {
     "name": "stdout",
     "output_type": "stream",
     "text": [
      "The animes closest to Naruto are:\n"
     ]
    },
    {
     "data": {
      "text/html": [
       "<div>\n",
       "<style scoped>\n",
       "    .dataframe tbody tr th:only-of-type {\n",
       "        vertical-align: middle;\n",
       "    }\n",
       "\n",
       "    .dataframe tbody tr th {\n",
       "        vertical-align: top;\n",
       "    }\n",
       "\n",
       "    .dataframe thead th {\n",
       "        text-align: right;\n",
       "    }\n",
       "</style>\n",
       "<table border=\"1\" class=\"dataframe\">\n",
       "  <thead>\n",
       "    <tr style=\"text-align: right;\">\n",
       "      <th></th>\n",
       "      <th>name</th>\n",
       "      <th>similarity</th>\n",
       "      <th>genre</th>\n",
       "      <th>synopsis</th>\n",
       "    </tr>\n",
       "  </thead>\n",
       "  <tbody>\n",
       "    <tr>\n",
       "      <th>9</th>\n",
       "      <td>Harmagedon</td>\n",
       "      <td>0.680684</td>\n",
       "      <td>Action, Adventure, Comedy, Drama, Mecha, Sci-Fi, Shounen</td>\n",
       "      <td>From the depths of space he is coming... Ancient beyond understanding, his power is immeasurable. He has destroyed half the universe and is on his way here. He is... Genma. Only two people are aware of the imminent catastrophe: Princess Luna, a modern day prophetess and Vega, a cybernetic crusader from a world long since ravaged by Genma. Determined to spare the Earth from a similar fate, Luna and Vega must try to mobilize the most potent psychics in the world. Together, this army of fledging psychic warriors must succeed where billions have tried... and failed. But will they be able to gather their champions in time? Genma's agents are already on Earth to ensure that their master meets with no opposition! (Source: AnimeNfo)</td>\n",
       "    </tr>\n",
       "    <tr>\n",
       "      <th>8</th>\n",
       "      <td>Loups=Garous</td>\n",
       "      <td>0.664796</td>\n",
       "      <td>Sci-Fi, Mystery, Thriller</td>\n",
       "      <td>In a future governed through the lens of a camera, where people eat synthetic food and pursue an online existence in lieu of physical contact, a group of children begin meeting up in the real world. The aloof Ayumi Kono, the genius hacker Mio Tsuzuki, and the socially awkward Hazuki Makino set out to find the fourth member of their group, Yuko Yabe, who has gone missing. With the help of Myao Rei, an unregistered citizen proficient in martial arts, they are able to find Yuko. However, when their situation takes a sudden turn for the worse, the group stumbles headlong into a dark mystery that challenges everything they know about their world.</td>\n",
       "    </tr>\n",
       "    <tr>\n",
       "      <th>7</th>\n",
       "      <td>Noobow: Kieta Medal</td>\n",
       "      <td>0.648221</td>\n",
       "      <td>Kids, Slice of Life</td>\n",
       "      <td>No synopsis information has been added to this title. Help improve our database by adding a synopsis here .</td>\n",
       "    </tr>\n",
       "    <tr>\n",
       "      <th>6</th>\n",
       "      <td>Skip Beat!</td>\n",
       "      <td>0.646599</td>\n",
       "      <td>Comedy, Drama, Romance, Shoujo</td>\n",
       "      <td>Bright, diligent, and yet naïve 16-year-old Kyouko Mogami works hard to support the career and dreams of her childhood friend, crush, and rising pop icon, Shoutarou Fuwa. Toiling endlessly at burger joints and tea ceremonies, the innocent Kyouko remains unaware that day in day out, all her tireless efforts have been taken for granted, until, one day, she finds out that her beloved Shou sees her as nothing but a free servant. Shocked, heartbroken and enraged, she vows to take revenge on the rookie star by entering the ruthless world of entertainment herself. As she steps into this new life, Kyouko will face new challenges as well as people who will push her out of her comfort zone. Based on the best-selling shoujo manga by Yoshiki Nakamura, Skip Beat showcases the growth of a young woman who slowly unlearns how to work herself to the bone for the satisfaction of others and takes her future into her own hands instead.</td>\n",
       "    </tr>\n",
       "    <tr>\n",
       "      <th>5</th>\n",
       "      <td>Bakusou Kyoudai Let's &amp; Go!! WGP Bousou Mini Yonku Daitsuiseki</td>\n",
       "      <td>0.638667</td>\n",
       "      <td>Adventure, Cars, Shounen, Sports</td>\n",
       "      <td>on gets tricked into installing a chip into his racing car called \"Gun Bluster\" by the mini-4wd company he was associated with. His car starts racing without control and causing various riots with fellow racers, Rion teams up with the TRF Victorys and start chasing after Gun Bluster to remove the chip. Rion, Retsu and Go Seiba along with the other TRF members, Ryo Takaba with the help of his little brother, Jiromaru, Tokichi and J are confroted with an association that is also after Gun Bluster, but what are their intentions? United along-side their trademark mini-4wd, the TRF's and Rion race together and avoid traps to safelly capture Gun Bluster!</td>\n",
       "    </tr>\n",
       "    <tr>\n",
       "      <th>4</th>\n",
       "      <td>The☆Doraemons: The Mysterious Thief Dorapan The Mysterious Cartel</td>\n",
       "      <td>0.629065</td>\n",
       "      <td>Kids, Fantasy, Comedy, Sci-Fi, Shounen</td>\n",
       "      <td>The mysterious thief Dorapin sets up a scheme with the intent of stealing the Friendship Telecards from the Doraemons. (Source: ANN)</td>\n",
       "    </tr>\n",
       "    <tr>\n",
       "      <th>3</th>\n",
       "      <td>Pokemon:Pokemon Ranger and the Temple of the Sea</td>\n",
       "      <td>0.627014</td>\n",
       "      <td>Action, Adventure, Kids, Drama, Fantasy</td>\n",
       "      <td>Satoshi and his friends get lost in an unknown wasteland. They eventually come across a \"Water Pokemon Show\" performed by the star of the Mariner Troupe, Hiromi. Hiromi is a descendant of the troupe of Water People able to communicate with water pokemon, and she tells our heroes the legend that's been passed down by her people for generations. According to legend, a temple the Water People built called \"The Water Temple Akuusha\" rests somewhere in the ocean, and a treasure called \"The Water Crown\" is hidden there. It's said that no one has ever seen this treasure, but that changes when a Pokemon Ranger named Jack Walker (aka Jackie) appears to chase aftert it. Jackie is on a top secret mission that has him protecting the egg of the leader of the water pokemon, Manaphy. This pokemon, called the \"Prince of the Sea,\" needs to be taken to the Water Temple Akuusha, so Satoshi-tachi and Hiromi decide to help him. Along the way, a pirate named Phantom attacks our heroes from his great submarine. Phantom plans to use the Water Crown's power to help him conquer the world, but he'll have to solve the mystery of Manaphy's egg first. When the Rocket-Dan get into the mix, Jackie uses his Capture Styler to borrow the power of a nearby pokemon to stand up to them. Satoshi and Pikachu enter the fray, but they still have to contend with the attacks of Phantom's powerful high tech mecha! Suddenly, the egg starts to shine with a vivid light, and Manpahy is born! What is the mystery of the legendary treasure? What mysterious powers does Manaphy have? Can Satoshi-tachi and Jackie complete their top secret mission? The journey to reach the Water Temple Akuusha has begun!</td>\n",
       "    </tr>\n",
       "    <tr>\n",
       "      <th>2</th>\n",
       "      <td>Dr. Slump: Arale-chan - Penguin Mura no Shouboutai</td>\n",
       "      <td>0.626035</td>\n",
       "      <td>Sci-Fi, Comedy, Shounen</td>\n",
       "      <td>The cast of Dr. Slump: Arale-chan help promote fire safety.</td>\n",
       "    </tr>\n",
       "    <tr>\n",
       "      <th>1</th>\n",
       "      <td>Angels of Death</td>\n",
       "      <td>0.624449</td>\n",
       "      <td>Adventure, Horror, Psychological, Thriller</td>\n",
       "      <td>h dead and lifeless eyes, Rachel Gardner wishes only to die. Waking up in the basement of a building, she has no idea how or why she's there. She stumbles across a bandaged murderer named Zack, who is trying to escape. After promising to kill her as soon as he is free, Rachel and Zack set out to ascend through the building floor by floor until they escape. However, as they progress upward, they meet more twisted people, and all of them seem familiar with Rachel. What is her connection to the building, and why was she placed in it? Facing a new boss on each floor, can Rachel and Zack both achieve their wishes?</td>\n",
       "    </tr>\n",
       "    <tr>\n",
       "      <th>0</th>\n",
       "      <td>Xiao Hua Xian 2nd Season</td>\n",
       "      <td>0.623881</td>\n",
       "      <td>Kids, Magic</td>\n",
       "      <td>No synopsis information has been added to this title. Help improve our database by adding a synopsis here .</td>\n",
       "    </tr>\n",
       "  </tbody>\n",
       "</table>\n",
       "</div>"
      ],
      "text/plain": [
       "                                                                name  \\\n",
       "9                                                         Harmagedon   \n",
       "8                                                       Loups=Garous   \n",
       "7                                                Noobow: Kieta Medal   \n",
       "6                                                         Skip Beat!   \n",
       "5     Bakusou Kyoudai Let's & Go!! WGP Bousou Mini Yonku Daitsuiseki   \n",
       "4  The☆Doraemons: The Mysterious Thief Dorapan The Mysterious Cartel   \n",
       "3                   Pokemon:Pokemon Ranger and the Temple of the Sea   \n",
       "2                 Dr. Slump: Arale-chan - Penguin Mura no Shouboutai   \n",
       "1                                                    Angels of Death   \n",
       "0                                           Xiao Hua Xian 2nd Season   \n",
       "\n",
       "   similarity                                                     genre  \\\n",
       "9    0.680684  Action, Adventure, Comedy, Drama, Mecha, Sci-Fi, Shounen   \n",
       "8    0.664796                                 Sci-Fi, Mystery, Thriller   \n",
       "7    0.648221                                       Kids, Slice of Life   \n",
       "6    0.646599                            Comedy, Drama, Romance, Shoujo   \n",
       "5    0.638667                          Adventure, Cars, Shounen, Sports   \n",
       "4    0.629065                    Kids, Fantasy, Comedy, Sci-Fi, Shounen   \n",
       "3    0.627014                   Action, Adventure, Kids, Drama, Fantasy   \n",
       "2    0.626035                                   Sci-Fi, Comedy, Shounen   \n",
       "1    0.624449                Adventure, Horror, Psychological, Thriller   \n",
       "0    0.623881                                               Kids, Magic   \n",
       "\n",
       "                                                                                                                                                                                                                                                                                                                                                                                                                                                                                                                                                                                                                                                                                                                                                                                                                                                                                                                                                                                                                                                                                                                                                                                                                                                                                                                                                                                                                                                                                                                                                                                                                                                                                                                                        synopsis  \n",
       "9                                                                                                                                                                                                                                                                                                                                                                                                                                                                                                                                                                                                                                                                                                                                                                                                                                                                                                                                                                                 From the depths of space he is coming... Ancient beyond understanding, his power is immeasurable. He has destroyed half the universe and is on his way here. He is... Genma. Only two people are aware of the imminent catastrophe: Princess Luna, a modern day prophetess and Vega, a cybernetic crusader from a world long since ravaged by Genma. Determined to spare the Earth from a similar fate, Luna and Vega must try to mobilize the most potent psychics in the world. Together, this army of fledging psychic warriors must succeed where billions have tried... and failed. But will they be able to gather their champions in time? Genma's agents are already on Earth to ensure that their master meets with no opposition! (Source: AnimeNfo)  \n",
       "8                                                                                                                                                                                                                                                                                                                                                                                                                                                                                                                                                                                                                                                                                                                                                                                                                                                                                                                                                                                                                                                                      In a future governed through the lens of a camera, where people eat synthetic food and pursue an online existence in lieu of physical contact, a group of children begin meeting up in the real world. The aloof Ayumi Kono, the genius hacker Mio Tsuzuki, and the socially awkward Hazuki Makino set out to find the fourth member of their group, Yuko Yabe, who has gone missing. With the help of Myao Rei, an unregistered citizen proficient in martial arts, they are able to find Yuko. However, when their situation takes a sudden turn for the worse, the group stumbles headlong into a dark mystery that challenges everything they know about their world.  \n",
       "7                                                                                                                                                                                                                                                                                                                                                                                                                                                                                                                                                                                                                                                                                                                                                                                                                                                                                                                                                                                                                                                                                                                                                                                                                                                                                                                                                                                                                                                                                                                                                                                                                                    No synopsis information has been added to this title. Help improve our database by adding a synopsis here .  \n",
       "6                                                                                                                                                                                                                                                                                                                                                                                                                                                                                                                                                                                                                                                                                                                                                                              Bright, diligent, and yet naïve 16-year-old Kyouko Mogami works hard to support the career and dreams of her childhood friend, crush, and rising pop icon, Shoutarou Fuwa. Toiling endlessly at burger joints and tea ceremonies, the innocent Kyouko remains unaware that day in day out, all her tireless efforts have been taken for granted, until, one day, she finds out that her beloved Shou sees her as nothing but a free servant. Shocked, heartbroken and enraged, she vows to take revenge on the rookie star by entering the ruthless world of entertainment herself. As she steps into this new life, Kyouko will face new challenges as well as people who will push her out of her comfort zone. Based on the best-selling shoujo manga by Yoshiki Nakamura, Skip Beat showcases the growth of a young woman who slowly unlearns how to work herself to the bone for the satisfaction of others and takes her future into her own hands instead.  \n",
       "5                                                                                                                                                                                                                                                                                                                                                                                                                                                                                                                                                                                                                                                                                                                                                                                                                                                                                                                                                                                                                                                               on gets tricked into installing a chip into his racing car called \"Gun Bluster\" by the mini-4wd company he was associated with. His car starts racing without control and causing various riots with fellow racers, Rion teams up with the TRF Victorys and start chasing after Gun Bluster to remove the chip. Rion, Retsu and Go Seiba along with the other TRF members, Ryo Takaba with the help of his little brother, Jiromaru, Tokichi and J are confroted with an association that is also after Gun Bluster, but what are their intentions? United along-side their trademark mini-4wd, the TRF's and Rion race together and avoid traps to safelly capture Gun Bluster!  \n",
       "4                                                                                                                                                                                                                                                                                                                                                                                                                                                                                                                                                                                                                                                                                                                                                                                                                                                                                                                                                                                                                                                                                                                                                                                                                                                                                                                                                                                                                                                                                                                                                                                                           The mysterious thief Dorapin sets up a scheme with the intent of stealing the Friendship Telecards from the Doraemons. (Source: ANN)  \n",
       "3  Satoshi and his friends get lost in an unknown wasteland. They eventually come across a \"Water Pokemon Show\" performed by the star of the Mariner Troupe, Hiromi. Hiromi is a descendant of the troupe of Water People able to communicate with water pokemon, and she tells our heroes the legend that's been passed down by her people for generations. According to legend, a temple the Water People built called \"The Water Temple Akuusha\" rests somewhere in the ocean, and a treasure called \"The Water Crown\" is hidden there. It's said that no one has ever seen this treasure, but that changes when a Pokemon Ranger named Jack Walker (aka Jackie) appears to chase aftert it. Jackie is on a top secret mission that has him protecting the egg of the leader of the water pokemon, Manaphy. This pokemon, called the \"Prince of the Sea,\" needs to be taken to the Water Temple Akuusha, so Satoshi-tachi and Hiromi decide to help him. Along the way, a pirate named Phantom attacks our heroes from his great submarine. Phantom plans to use the Water Crown's power to help him conquer the world, but he'll have to solve the mystery of Manaphy's egg first. When the Rocket-Dan get into the mix, Jackie uses his Capture Styler to borrow the power of a nearby pokemon to stand up to them. Satoshi and Pikachu enter the fray, but they still have to contend with the attacks of Phantom's powerful high tech mecha! Suddenly, the egg starts to shine with a vivid light, and Manpahy is born! What is the mystery of the legendary treasure? What mysterious powers does Manaphy have? Can Satoshi-tachi and Jackie complete their top secret mission? The journey to reach the Water Temple Akuusha has begun!  \n",
       "2                                                                                                                                                                                                                                                                                                                                                                                                                                                                                                                                                                                                                                                                                                                                                                                                                                                                                                                                                                                                                                                                                                                                                                                                                                                                                                                                                                                                                                                                                                                                                                                                                                                                                    The cast of Dr. Slump: Arale-chan help promote fire safety.  \n",
       "1                                                                                                                                                                                                                                                                                                                                                                                                                                                                                                                                                                                                                                                                                                                                                                                                                                                                                                                                                                                                                                                                                                       h dead and lifeless eyes, Rachel Gardner wishes only to die. Waking up in the basement of a building, she has no idea how or why she's there. She stumbles across a bandaged murderer named Zack, who is trying to escape. After promising to kill her as soon as he is free, Rachel and Zack set out to ascend through the building floor by floor until they escape. However, as they progress upward, they meet more twisted people, and all of them seem familiar with Rachel. What is her connection to the building, and why was she placed in it? Facing a new boss on each floor, can Rachel and Zack both achieve their wishes?  \n",
       "0                                                                                                                                                                                                                                                                                                                                                                                                                                                                                                                                                                                                                                                                                                                                                                                                                                                                                                                                                                                                                                                                                                                                                                                                                                                                                                                                                                                                                                                                                                                                                                                                                                    No synopsis information has been added to this title. Help improve our database by adding a synopsis here .  "
      ]
     },
     "execution_count": 37,
     "metadata": {},
     "output_type": "execute_result"
    }
   ],
   "source": [
    "similar_animes('Naruto', n=10 )"
   ]
  },
  {
   "cell_type": "markdown",
   "id": "b27372a3",
   "metadata": {
    "papermill": {
     "duration": 0.732271,
     "end_time": "2022-09-20T01:18:37.284021",
     "exception": false,
     "start_time": "2022-09-20T01:18:36.551750",
     "status": "completed"
    },
    "tags": []
   },
   "source": [
    "   ![](https://c.tenor.com/aLUOlVX7OOoAAAAd/naruto.gif)"
   ]
  },
  {
   "cell_type": "code",
   "execution_count": 38,
   "id": "0c6b0232",
   "metadata": {
    "execution": {
     "iopub.execute_input": "2022-09-20T01:18:38.830054Z",
     "iopub.status.busy": "2022-09-20T01:18:38.828232Z",
     "iopub.status.idle": "2022-09-20T01:18:38.855552Z",
     "shell.execute_reply": "2022-09-20T01:18:38.856813Z",
     "shell.execute_reply.started": "2022-09-19T21:46:01.066908Z"
    },
    "papermill": {
     "duration": 0.776609,
     "end_time": "2022-09-20T01:18:38.857197",
     "exception": false,
     "start_time": "2022-09-20T01:18:38.080588",
     "status": "completed"
    },
    "tags": []
   },
   "outputs": [
    {
     "name": "stdout",
     "output_type": "stream",
     "text": [
      "The animes closest to Blue Spring Ride are:\n",
      "Blue Spring Ride!, Not Found in Anime list\n"
     ]
    }
   ],
   "source": [
    "similar_animes('Blue Spring Ride')"
   ]
  },
  {
   "cell_type": "markdown",
   "id": "e4823e45",
   "metadata": {
    "papermill": {
     "duration": 0.741104,
     "end_time": "2022-09-20T01:18:40.399126",
     "exception": false,
     "start_time": "2022-09-20T01:18:39.658022",
     "status": "completed"
    },
    "tags": []
   },
   "source": [
    "![](https://c.tenor.com/nZaCMM6r1a4AAAAd/love-katie.gif)"
   ]
  },
  {
   "cell_type": "code",
   "execution_count": 39,
   "id": "e8bb1d49",
   "metadata": {
    "execution": {
     "iopub.execute_input": "2022-09-20T01:18:41.877817Z",
     "iopub.status.busy": "2022-09-20T01:18:41.876356Z",
     "iopub.status.idle": "2022-09-20T01:18:41.936821Z",
     "shell.execute_reply": "2022-09-20T01:18:41.938542Z",
     "shell.execute_reply.started": "2022-09-19T21:46:01.133540Z"
    },
    "papermill": {
     "duration": 0.80456,
     "end_time": "2022-09-20T01:18:41.938976",
     "exception": false,
     "start_time": "2022-09-20T01:18:41.134416",
     "status": "completed"
    },
    "tags": []
   },
   "outputs": [
    {
     "name": "stdout",
     "output_type": "stream",
     "text": [
      "The animes closest to One Piece are:\n"
     ]
    },
    {
     "data": {
      "text/html": [
       "<div>\n",
       "<style scoped>\n",
       "    .dataframe tbody tr th:only-of-type {\n",
       "        vertical-align: middle;\n",
       "    }\n",
       "\n",
       "    .dataframe tbody tr th {\n",
       "        vertical-align: top;\n",
       "    }\n",
       "\n",
       "    .dataframe thead th {\n",
       "        text-align: right;\n",
       "    }\n",
       "</style>\n",
       "<table border=\"1\" class=\"dataframe\">\n",
       "  <thead>\n",
       "    <tr style=\"text-align: right;\">\n",
       "      <th></th>\n",
       "      <th>name</th>\n",
       "      <th>similarity</th>\n",
       "      <th>genre</th>\n",
       "      <th>synopsis</th>\n",
       "    </tr>\n",
       "  </thead>\n",
       "  <tbody>\n",
       "    <tr>\n",
       "      <th>9</th>\n",
       "      <td>Ryuusei Sentai Musumet</td>\n",
       "      <td>0.578776</td>\n",
       "      <td>Adventure, Comedy, Ecchi, Romance, Sci-Fi</td>\n",
       "      <td>One day, seven shooting stars fell on to the ground. The shooting stars were colored by seven colors, and they had terrible powers. Those who took the shooting star were tuned into monsters by embodying their desires. Dr. Mishina and Dr. Kishiwada obtained the red, green, and blue stars secretly, and they studied the stars. Finally, they could successfully control their power by putting a special helmet on. The newly developed helmet, \"Musumet\", was as large as an automobile helmet. Putting Musumet on the head, it turned a person's body into the strongest one on the earth. Furthermore, it received the signal from the brain and amplified the inherent power and ability unlimitedly. To utilize the power of \"Musumet\", to keep the world peace, and to protect from the disasters caused by the remaining shooting stars, Dr. Mishima and Dr. Kishida founded a secret organization \"MET\". However, he died before he accomplished his aim. The bereaved daughters, Aoi, Midori, and Kurenai, made up their minds to become Musmet in order to execute the father's will. Even if they turned into Musumet, their wearing wouldn't change except helmets, gloves, and boots. Therefore, they had to go to the scenes wearing their own clothes. The girls had to go to the incident spots occasionally wearing school uniforms, occasionally gymnasium suits, occasionally swimming suits, depending the case, they had to go there even if they were naked, and they would do great jobs. On the other hand, at other times, they were ordinal adolescent girls who were dreaming of lovely meetings with boyfriends. Whether would they cope with the world peace and boyfriends at the same time? (Source: AnimeNfo)</td>\n",
       "    </tr>\n",
       "    <tr>\n",
       "      <th>8</th>\n",
       "      <td>Time Bokan Series: Zenderman</td>\n",
       "      <td>0.562757</td>\n",
       "      <td>Action, Sci-Fi, Adventure, Comedy, Super Power, Mecha</td>\n",
       "      <td>Dr Monja is a scientist who is curious about the nature of the legendary Elixir of Life which grants the drink eternal lifetimes and forever youth. He built a device called the \"Time Tunnel\" in order to let a team of youngsters to start a quest down the timeline and various spaces to find an exact answer. A trio of villains, however, is also seemingly after the exact same thing. (Source: Wikipedia)</td>\n",
       "    </tr>\n",
       "    <tr>\n",
       "      <th>7</th>\n",
       "      <td>Bannertail:The Story of Gray Squirrel</td>\n",
       "      <td>0.550906</td>\n",
       "      <td>Kids, Drama</td>\n",
       "      <td>Soon after birth a young squirrel comesc to a farm, and gets caught by a human. This human then tries to find him to their pet cat. However, the cat feels sorry for the squirrel and adopts him as their child and names the squirrel Banner. Banner and the cat live happily in the farm, but their happy lives don't last long. A fire destoys the farm, and Banner gets separated from his mother the cat. (Source: ANN)</td>\n",
       "    </tr>\n",
       "    <tr>\n",
       "      <th>6</th>\n",
       "      <td>Bakumatsu Gijinden Roman</td>\n",
       "      <td>0.547545</td>\n",
       "      <td>Historical, Fantasy</td>\n",
       "      <td>The stage is the close of the Edo period, an age when, not unlike our own time, both natural and man-made disasters left chaos in their wake. Manjiro makes a living helping the people of the troubled capital city, but behind the scenes, he also works in secret to take back precious belongings stolen from the people by unjust political powers and conspiratorial menaces. The people call him \"Get-backer Roman.\" (Source: Crunchyroll)</td>\n",
       "    </tr>\n",
       "    <tr>\n",
       "      <th>5</th>\n",
       "      <td>The☆Doraemons: The Mysterious Thief Dorapan The Mysterious Cartel</td>\n",
       "      <td>0.546762</td>\n",
       "      <td>Kids, Fantasy, Comedy, Sci-Fi, Shounen</td>\n",
       "      <td>The mysterious thief Dorapin sets up a scheme with the intent of stealing the Friendship Telecards from the Doraemons. (Source: ANN)</td>\n",
       "    </tr>\n",
       "    <tr>\n",
       "      <th>4</th>\n",
       "      <td>Shouka Robo Zeres: Fire Dragon wo Taose!</td>\n",
       "      <td>0.545900</td>\n",
       "      <td>Kids, Mecha, Sci-Fi</td>\n",
       "      <td>fire safety anime with a sci-fi mecha flare. When an ocarina is blown, the mecha Zeres arrives to extinguish the flames.</td>\n",
       "    </tr>\n",
       "    <tr>\n",
       "      <th>3</th>\n",
       "      <td>Koro Sensei Quest!</td>\n",
       "      <td>0.544845</td>\n",
       "      <td>Comedy, Magic, Shounen</td>\n",
       "      <td>One day, class 3-E of Kunugigaoka Magic School receives a special mission: to kill their homeroom teacher, the Demon King Koro-sensei. To increase their chances of succeeding, the class searches for the three most powerful warriors—Karma Akabane, Itona Horibe, and Ritsu—who later join their company. Even with their help, accomplishing the mission becomes an insurmountable task as they are not the only ones after the Demon King's life. Koro-sensei Quest! tells the comedic adventures of Nagisa Shiota and class 3-E as chibi magical students. Trained by none other than their very target, the students encounter challenging, yet hilarious situations all through the perilous mission of defeating the Demon King.</td>\n",
       "    </tr>\n",
       "    <tr>\n",
       "      <th>2</th>\n",
       "      <td>Oyako de Manabu: Kaiji no Youjin - Jishin no Youjin</td>\n",
       "      <td>0.540290</td>\n",
       "      <td>Kids</td>\n",
       "      <td>ducational fire safety and earthquake safety short starring the cast of Oyako Club . The film was meant to be shown for parents and children together so that they may devise strategies as a family.</td>\n",
       "    </tr>\n",
       "    <tr>\n",
       "      <th>1</th>\n",
       "      <td>The Boy and the Blue Sea</td>\n",
       "      <td>0.537087</td>\n",
       "      <td>Slice of Life</td>\n",
       "      <td>The friendship between Hiroshi from Japan and Adel from the South Pacific island the two live on is severely tested when Adel finds out that his grandfather was killed in a battle with the Japanese army. Will Adel forget their quarrel when Hiroshi's life is in danger?</td>\n",
       "    </tr>\n",
       "    <tr>\n",
       "      <th>0</th>\n",
       "      <td>Chanto...</td>\n",
       "      <td>0.533134</td>\n",
       "      <td>Music, Slice of Life</td>\n",
       "      <td>animated short commissioned by Sumitomo Mitsui Banking Corporation (SMBC) for their web campaign \"Otona ni Naru tte Nandarou?\" (When do you become an adult?), where they ask individuals to tweet the moment they realized they were an adult. The responses of men and women of various ages were anonymously shared on the campaign's webpage. In the video, a mother and her adult daughter dine at a restaurant. After their meal, the daughter uses her card to pay for the bill, an act which her mother, who was about to pay herself, notices as her daughter stepping into adulthood.</td>\n",
       "    </tr>\n",
       "  </tbody>\n",
       "</table>\n",
       "</div>"
      ],
      "text/plain": [
       "                                                                name  \\\n",
       "9                                             Ryuusei Sentai Musumet   \n",
       "8                                       Time Bokan Series: Zenderman   \n",
       "7                              Bannertail:The Story of Gray Squirrel   \n",
       "6                                           Bakumatsu Gijinden Roman   \n",
       "5  The☆Doraemons: The Mysterious Thief Dorapan The Mysterious Cartel   \n",
       "4                           Shouka Robo Zeres: Fire Dragon wo Taose!   \n",
       "3                                                 Koro Sensei Quest!   \n",
       "2                Oyako de Manabu: Kaiji no Youjin - Jishin no Youjin   \n",
       "1                                           The Boy and the Blue Sea   \n",
       "0                                                          Chanto...   \n",
       "\n",
       "   similarity                                                  genre  \\\n",
       "9    0.578776              Adventure, Comedy, Ecchi, Romance, Sci-Fi   \n",
       "8    0.562757  Action, Sci-Fi, Adventure, Comedy, Super Power, Mecha   \n",
       "7    0.550906                                            Kids, Drama   \n",
       "6    0.547545                                    Historical, Fantasy   \n",
       "5    0.546762                 Kids, Fantasy, Comedy, Sci-Fi, Shounen   \n",
       "4    0.545900                                    Kids, Mecha, Sci-Fi   \n",
       "3    0.544845                                 Comedy, Magic, Shounen   \n",
       "2    0.540290                                                   Kids   \n",
       "1    0.537087                                          Slice of Life   \n",
       "0    0.533134                                   Music, Slice of Life   \n",
       "\n",
       "                                                                                                                                                                                                                                                                                                                                                                                                                                                                                                                                                                                                                                                                                                                                                                                                                                                                                                                                                                                                                                                                                                                                                                                                                                                                                                                                                                                                                                                                                                                                                                                                                                                                                                                                               synopsis  \n",
       "9  One day, seven shooting stars fell on to the ground. The shooting stars were colored by seven colors, and they had terrible powers. Those who took the shooting star were tuned into monsters by embodying their desires. Dr. Mishina and Dr. Kishiwada obtained the red, green, and blue stars secretly, and they studied the stars. Finally, they could successfully control their power by putting a special helmet on. The newly developed helmet, \"Musumet\", was as large as an automobile helmet. Putting Musumet on the head, it turned a person's body into the strongest one on the earth. Furthermore, it received the signal from the brain and amplified the inherent power and ability unlimitedly. To utilize the power of \"Musumet\", to keep the world peace, and to protect from the disasters caused by the remaining shooting stars, Dr. Mishima and Dr. Kishida founded a secret organization \"MET\". However, he died before he accomplished his aim. The bereaved daughters, Aoi, Midori, and Kurenai, made up their minds to become Musmet in order to execute the father's will. Even if they turned into Musumet, their wearing wouldn't change except helmets, gloves, and boots. Therefore, they had to go to the scenes wearing their own clothes. The girls had to go to the incident spots occasionally wearing school uniforms, occasionally gymnasium suits, occasionally swimming suits, depending the case, they had to go there even if they were naked, and they would do great jobs. On the other hand, at other times, they were ordinal adolescent girls who were dreaming of lovely meetings with boyfriends. Whether would they cope with the world peace and boyfriends at the same time? (Source: AnimeNfo)  \n",
       "8                                                                                                                                                                                                                                                                                                                                                                                                                                                                                                                                                                                                                                                                                                                                                                                                                                                                                                                                                                                                                                                                                                                                                                                                                                                                                                                                     Dr Monja is a scientist who is curious about the nature of the legendary Elixir of Life which grants the drink eternal lifetimes and forever youth. He built a device called the \"Time Tunnel\" in order to let a team of youngsters to start a quest down the timeline and various spaces to find an exact answer. A trio of villains, however, is also seemingly after the exact same thing. (Source: Wikipedia)  \n",
       "7                                                                                                                                                                                                                                                                                                                                                                                                                                                                                                                                                                                                                                                                                                                                                                                                                                                                                                                                                                                                                                                                                                                                                                                                                                                                                                                          Soon after birth a young squirrel comesc to a farm, and gets caught by a human. This human then tries to find him to their pet cat. However, the cat feels sorry for the squirrel and adopts him as their child and names the squirrel Banner. Banner and the cat live happily in the farm, but their happy lives don't last long. A fire destoys the farm, and Banner gets separated from his mother the cat. (Source: ANN)  \n",
       "6                                                                                                                                                                                                                                                                                                                                                                                                                                                                                                                                                                                                                                                                                                                                                                                                                                                                                                                                                                                                                                                                                                                                                                                                                                                                                                     The stage is the close of the Edo period, an age when, not unlike our own time, both natural and man-made disasters left chaos in their wake. Manjiro makes a living helping the people of the troubled capital city, but behind the scenes, he also works in secret to take back precious belongings stolen from the people by unjust political powers and conspiratorial menaces. The people call him \"Get-backer Roman.\" (Source: Crunchyroll)  \n",
       "5                                                                                                                                                                                                                                                                                                                                                                                                                                                                                                                                                                                                                                                                                                                                                                                                                                                                                                                                                                                                                                                                                                                                                                                                                                                                                                                                                                                                                                                                                                                                                                                                                  The mysterious thief Dorapin sets up a scheme with the intent of stealing the Friendship Telecards from the Doraemons. (Source: ANN)  \n",
       "4                                                                                                                                                                                                                                                                                                                                                                                                                                                                                                                                                                                                                                                                                                                                                                                                                                                                                                                                                                                                                                                                                                                                                                                                                                                                                                                                                                                                                                                                                                                                                                                                                              fire safety anime with a sci-fi mecha flare. When an ocarina is blown, the mecha Zeres arrives to extinguish the flames.  \n",
       "3                                                                                                                                                                                                                                                                                                                                                                                                                                                                                                                                                                                                                                                                                                                                                                                                                                                                                                                                                                                                             One day, class 3-E of Kunugigaoka Magic School receives a special mission: to kill their homeroom teacher, the Demon King Koro-sensei. To increase their chances of succeeding, the class searches for the three most powerful warriors—Karma Akabane, Itona Horibe, and Ritsu—who later join their company. Even with their help, accomplishing the mission becomes an insurmountable task as they are not the only ones after the Demon King's life. Koro-sensei Quest! tells the comedic adventures of Nagisa Shiota and class 3-E as chibi magical students. Trained by none other than their very target, the students encounter challenging, yet hilarious situations all through the perilous mission of defeating the Demon King.  \n",
       "2                                                                                                                                                                                                                                                                                                                                                                                                                                                                                                                                                                                                                                                                                                                                                                                                                                                                                                                                                                                                                                                                                                                                                                                                                                                                                                                                                                                                                                                                                                                                                 ducational fire safety and earthquake safety short starring the cast of Oyako Club . The film was meant to be shown for parents and children together so that they may devise strategies as a family.  \n",
       "1                                                                                                                                                                                                                                                                                                                                                                                                                                                                                                                                                                                                                                                                                                                                                                                                                                                                                                                                                                                                                                                                                                                                                                                                                                                                                                                                                                                                                                                                          The friendship between Hiroshi from Japan and Adel from the South Pacific island the two live on is severely tested when Adel finds out that his grandfather was killed in a battle with the Japanese army. Will Adel forget their quarrel when Hiroshi's life is in danger?  \n",
       "0                                                                                                                                                                                                                                                                                                                                                                                                                                                                                                                                                                                                                                                                                                                                                                                                                                                                                                                                                                                                                                                                                                                                                       animated short commissioned by Sumitomo Mitsui Banking Corporation (SMBC) for their web campaign \"Otona ni Naru tte Nandarou?\" (When do you become an adult?), where they ask individuals to tweet the moment they realized they were an adult. The responses of men and women of various ages were anonymously shared on the campaign's webpage. In the video, a mother and her adult daughter dine at a restaurant. After their meal, the daughter uses her card to pay for the bill, an act which her mother, who was about to pay herself, notices as her daughter stepping into adulthood.  "
      ]
     },
     "execution_count": 39,
     "metadata": {},
     "output_type": "execute_result"
    }
   ],
   "source": [
    "similar_animes('One Piece')"
   ]
  },
  {
   "cell_type": "markdown",
   "id": "ba825feb",
   "metadata": {
    "papermill": {
     "duration": 0.728913,
     "end_time": "2022-09-20T01:18:43.428038",
     "exception": false,
     "start_time": "2022-09-20T01:18:42.699125",
     "status": "completed"
    },
    "tags": []
   },
   "source": [
    "# 5. Task 2: Finding Similar Users (Recommendations Based on Similar Users)"
   ]
  },
  {
   "cell_type": "code",
   "execution_count": 40,
   "id": "8ebb5877",
   "metadata": {
    "execution": {
     "iopub.execute_input": "2022-09-20T01:18:44.922925Z",
     "iopub.status.busy": "2022-09-20T01:18:44.922112Z",
     "iopub.status.idle": "2022-09-20T01:18:45.922731Z",
     "shell.execute_reply": "2022-09-20T01:18:45.923332Z",
     "shell.execute_reply.started": "2022-09-19T21:46:01.201250Z"
    },
    "papermill": {
     "duration": 1.751118,
     "end_time": "2022-09-20T01:18:45.923523",
     "exception": false,
     "start_time": "2022-09-20T01:18:44.172405",
     "status": "completed"
    },
    "tags": []
   },
   "outputs": [
    {
     "name": "stdout",
     "output_type": "stream",
     "text": [
      "user_id = 265647\n"
     ]
    }
   ],
   "source": [
    "#Picking out a random user\n",
    "ratings_per_user = rating_df.groupby('user_id').size()\n",
    "random_user = ratings_per_user[ratings_per_user < 500].sample(1,random_state=0).index[0]\n",
    "print(f\"user_id = {random_user}\")"
   ]
  },
  {
   "cell_type": "code",
   "execution_count": 41,
   "id": "8b072014",
   "metadata": {
    "execution": {
     "iopub.execute_input": "2022-09-20T01:18:47.446329Z",
     "iopub.status.busy": "2022-09-20T01:18:47.444177Z",
     "iopub.status.idle": "2022-09-20T01:18:47.448387Z",
     "shell.execute_reply": "2022-09-20T01:18:47.448954Z",
     "shell.execute_reply.started": "2022-09-19T21:46:02.277089Z"
    },
    "papermill": {
     "duration": 0.748114,
     "end_time": "2022-09-20T01:18:47.449169",
     "exception": false,
     "start_time": "2022-09-20T01:18:46.701055",
     "status": "completed"
    },
    "tags": []
   },
   "outputs": [],
   "source": [
    "#Defining a function to find similar users \n",
    "pd.set_option(\"max_colwidth\", None)\n",
    "\n",
    "def find_similar_users(item_input, n=10,return_dist=False, neg=False):\n",
    "    try:\n",
    "        index = item_input\n",
    "        encoded_index = user2_encoded.get(index)\n",
    "        weights = user_weights\n",
    "    \n",
    "        dists = np.dot(weights, weights[encoded_index])\n",
    "        sorted_dists = np.argsort(dists)\n",
    "        \n",
    "        n = n + 1\n",
    "        \n",
    "        if neg:\n",
    "            closest = sorted_dists[:n]\n",
    "        else:\n",
    "            closest = sorted_dists[-n:]\n",
    "\n",
    "        print(f' users similar to #{item_input}')\n",
    "\n",
    "        if return_dist:\n",
    "            return dists, closest\n",
    "        \n",
    "        rindex = anime_df\n",
    "        SimilarityArr = []\n",
    "        \n",
    "        for close in closest:\n",
    "            similarity = dists[close]\n",
    "\n",
    "            if isinstance(item_input, int):\n",
    "                decoded_id = encoded2_user.get(close)\n",
    "                SimilarityArr.append({\"similar_users\": decoded_id, \n",
    "                                      \"similarity\": similarity})\n",
    "\n",
    "        Frame = pd.DataFrame(SimilarityArr).sort_values(by=\"similarity\", \n",
    "                                                        ascending=False)\n",
    "        \n",
    "        return Frame\n",
    "    \n",
    "    except:\n",
    "        print(f'{item_input}!, Not Found in User list')"
   ]
  },
  {
   "cell_type": "code",
   "execution_count": 42,
   "id": "8419fce1",
   "metadata": {
    "execution": {
     "iopub.execute_input": "2022-09-20T01:18:48.991626Z",
     "iopub.status.busy": "2022-09-20T01:18:48.990091Z",
     "iopub.status.idle": "2022-09-20T01:18:49.040637Z",
     "shell.execute_reply": "2022-09-20T01:18:49.042135Z",
     "shell.execute_reply.started": "2022-09-19T22:58:48.756191Z"
    },
    "papermill": {
     "duration": 0.800486,
     "end_time": "2022-09-20T01:18:49.042515",
     "exception": false,
     "start_time": "2022-09-20T01:18:48.242029",
     "status": "completed"
    },
    "tags": []
   },
   "outputs": [
    {
     "name": "stdout",
     "output_type": "stream",
     "text": [
      " users similar to #265647\n"
     ]
    },
    {
     "data": {
      "text/html": [
       "<div>\n",
       "<style scoped>\n",
       "    .dataframe tbody tr th:only-of-type {\n",
       "        vertical-align: middle;\n",
       "    }\n",
       "\n",
       "    .dataframe tbody tr th {\n",
       "        vertical-align: top;\n",
       "    }\n",
       "\n",
       "    .dataframe thead th {\n",
       "        text-align: right;\n",
       "    }\n",
       "</style>\n",
       "<table border=\"1\" class=\"dataframe\">\n",
       "  <thead>\n",
       "    <tr style=\"text-align: right;\">\n",
       "      <th></th>\n",
       "      <th>similar_users</th>\n",
       "      <th>similarity</th>\n",
       "    </tr>\n",
       "  </thead>\n",
       "  <tbody>\n",
       "    <tr>\n",
       "      <th>4</th>\n",
       "      <td>217242</td>\n",
       "      <td>0.387678</td>\n",
       "    </tr>\n",
       "    <tr>\n",
       "      <th>3</th>\n",
       "      <td>197355</td>\n",
       "      <td>0.373422</td>\n",
       "    </tr>\n",
       "    <tr>\n",
       "      <th>2</th>\n",
       "      <td>333555</td>\n",
       "      <td>0.367683</td>\n",
       "    </tr>\n",
       "    <tr>\n",
       "      <th>1</th>\n",
       "      <td>346938</td>\n",
       "      <td>0.359349</td>\n",
       "    </tr>\n",
       "    <tr>\n",
       "      <th>0</th>\n",
       "      <td>4892</td>\n",
       "      <td>0.352042</td>\n",
       "    </tr>\n",
       "  </tbody>\n",
       "</table>\n",
       "</div>"
      ],
      "text/plain": [
       "   similar_users  similarity\n",
       "4         217242    0.387678\n",
       "3         197355    0.373422\n",
       "2         333555    0.367683\n",
       "1         346938    0.359349\n",
       "0           4892    0.352042"
      ]
     },
     "execution_count": 42,
     "metadata": {},
     "output_type": "execute_result"
    }
   ],
   "source": [
    "similar_users = find_similar_users(int(random_user), \n",
    "                                   n=5)\n",
    "\n",
    "#Finding users who have a similarity score of more than 0.3 excluding themselves\n",
    "similar_users = similar_users[similar_users.similarity > 0.3]\n",
    "similar_users = similar_users[similar_users.similar_users != random_user]\n",
    "similar_users.head()"
   ]
  },
  {
   "cell_type": "markdown",
   "id": "c874773d",
   "metadata": {
    "papermill": {
     "duration": 0.748759,
     "end_time": "2022-09-20T01:18:50.573483",
     "exception": false,
     "start_time": "2022-09-20T01:18:49.824724",
     "status": "completed"
    },
    "tags": []
   },
   "source": [
    "## 5.1 Understanding User Preferences"
   ]
  },
  {
   "cell_type": "code",
   "execution_count": 43,
   "id": "9a399cd5",
   "metadata": {
    "execution": {
     "iopub.execute_input": "2022-09-20T01:18:52.048556Z",
     "iopub.status.busy": "2022-09-20T01:18:52.047796Z",
     "iopub.status.idle": "2022-09-20T01:18:52.050100Z",
     "shell.execute_reply": "2022-09-20T01:18:52.050687Z",
     "shell.execute_reply.started": "2022-09-19T22:33:14.538192Z"
    },
    "papermill": {
     "duration": 0.746556,
     "end_time": "2022-09-20T01:18:52.050881",
     "exception": false,
     "start_time": "2022-09-20T01:18:51.304325",
     "status": "completed"
    },
    "tags": []
   },
   "outputs": [],
   "source": [
    "#Defining a function to visualize genres \n",
    "def show_wordcloud(all_genres):\n",
    "    genre_cloud=WordCloud(width=800,\n",
    "                          height=400,\n",
    "                          colormap='tab20c'\n",
    "                          ).generate_from_frequencies(all_genres)\n",
    "    plt.figure(figsize=(10,8)) \n",
    "    plt.imshow(genre_cloud, interpolation='bilinear')\n",
    "    plt.axis('off')\n",
    "    plt.show()\n",
    "    \n",
    "\n",
    "#Defining a function t0 get fav genre of users\n",
    "def getFavGenre(frame, plot=False):\n",
    "        frame.dropna(inplace=False) #dropping null values\n",
    "        all_genres = defaultdict(int) #default dic as to get a default value for non defined items \n",
    "        \n",
    "        #Most of the shows have multiple genres. We seperate them and store them in the empty list\n",
    "        genres_list = [] \n",
    "        for genres in frame['Genres']:\n",
    "            if isinstance(genres, str):\n",
    "                for genre in genres.split(','):\n",
    "                    genres_list.append(genre)\n",
    "                    all_genres[genre.strip()] += 1  #removing empty spaces  \n",
    "        if plot:\n",
    "            show_wordcloud(all_genres) #Visualizing\n",
    "        \n",
    "        return genres_list\n"
   ]
  },
  {
   "cell_type": "code",
   "execution_count": 44,
   "id": "11ff82ce",
   "metadata": {
    "execution": {
     "iopub.execute_input": "2022-09-20T01:18:53.520848Z",
     "iopub.status.busy": "2022-09-20T01:18:53.520038Z",
     "iopub.status.idle": "2022-09-20T01:18:53.521943Z",
     "shell.execute_reply": "2022-09-20T01:18:53.522522Z",
     "shell.execute_reply.started": "2022-09-19T22:33:15.341241Z"
    },
    "papermill": {
     "duration": 0.739118,
     "end_time": "2022-09-20T01:18:53.522712",
     "exception": false,
     "start_time": "2022-09-20T01:18:52.783594",
     "status": "completed"
    },
    "tags": []
   },
   "outputs": [],
   "source": [
    "#defining a function to generate fav animes and genres of a random user\n",
    "def get_user_pref(user_id, plot=False, Verbose=0 ):\n",
    "    animes_watched = rating_df[rating_df.user_id == user_id] #animes watched by the user_id in input\n",
    "    user_rating_percentile = np.percentile(animes_watched.rating,75)\n",
    "    #returns rating greater than the 75th percentile\n",
    "    animes_watched = animes_watched[animes_watched.rating >= user_rating_percentile]\n",
    "    #extracting the anime ids rated highly by the user\n",
    "    top_animes = animes_watched.sort_values(by=['rating'],ascending=False).anime_id.values \n",
    "    \n",
    "    #creating a dataframe that returns the anime name and the genres\n",
    "    pref_df = anime_df[anime_df['anime_id'].isin(top_animes)]\n",
    "    pref_df = pref_df[['eng_name','Genres']]\n",
    "    \n",
    "    if Verbose!=0:\n",
    "        print(f\"> User #{user_id} has rated {len(animes_watched)} shows, with an average rating of {animes_watched['rating'].mean()}\")\n",
    "    \n",
    "    if plot:\n",
    "        print(\"Preferred Genres are:\")\n",
    "        getFavGenre(pref_df, plot)\n",
    "    \n",
    "    return pref_df"
   ]
  },
  {
   "cell_type": "code",
   "execution_count": 45,
   "id": "6b0cee6b",
   "metadata": {
    "execution": {
     "iopub.execute_input": "2022-09-20T01:18:55.007130Z",
     "iopub.status.busy": "2022-09-20T01:18:55.002012Z",
     "iopub.status.idle": "2022-09-20T01:18:55.717586Z",
     "shell.execute_reply": "2022-09-20T01:18:55.716734Z",
     "shell.execute_reply.started": "2022-09-19T22:33:37.702136Z"
    },
    "papermill": {
     "duration": 1.454327,
     "end_time": "2022-09-20T01:18:55.717800",
     "exception": false,
     "start_time": "2022-09-20T01:18:54.263473",
     "status": "completed"
    },
    "tags": []
   },
   "outputs": [
    {
     "name": "stdout",
     "output_type": "stream",
     "text": [
      "> User #265647 has rated 95 shows, with an average rating of 0.9099415204678347\n",
      "Preferred Genres are:\n"
     ]
    },
    {
     "data": {
      "image/png": "[encoded data removed]",
      "text/plain": [
       "<Figure size 720x576 with 1 Axes>"
      ]
     },
     "metadata": {
      "needs_background": "light"
     },
     "output_type": "display_data"
    },
    {
     "name": "stdout",
     "output_type": "stream",
     "text": [
      "Anime this user has highly rated :\n"
     ]
    },
    {
     "data": {
      "text/html": [
       "<div>\n",
       "<style scoped>\n",
       "    .dataframe tbody tr th:only-of-type {\n",
       "        vertical-align: middle;\n",
       "    }\n",
       "\n",
       "    .dataframe tbody tr th {\n",
       "        vertical-align: top;\n",
       "    }\n",
       "\n",
       "    .dataframe thead th {\n",
       "        text-align: right;\n",
       "    }\n",
       "</style>\n",
       "<table border=\"1\" class=\"dataframe\">\n",
       "  <thead>\n",
       "    <tr style=\"text-align: right;\">\n",
       "      <th></th>\n",
       "      <th>eng_name</th>\n",
       "      <th>Genres</th>\n",
       "    </tr>\n",
       "  </thead>\n",
       "  <tbody>\n",
       "    <tr>\n",
       "      <th>9913</th>\n",
       "      <td>Gintama Season 4</td>\n",
       "      <td>Action, Comedy, Historical, Parody, Samurai, Sci-Fi, Shounen</td>\n",
       "    </tr>\n",
       "    <tr>\n",
       "      <th>6474</th>\n",
       "      <td>Hunter x Hunter</td>\n",
       "      <td>Action, Adventure, Fantasy, Shounen, Super Power</td>\n",
       "    </tr>\n",
       "    <tr>\n",
       "      <th>6006</th>\n",
       "      <td>Gintama Season 2</td>\n",
       "      <td>Action, Sci-Fi, Comedy, Historical, Parody, Samurai, Shounen</td>\n",
       "    </tr>\n",
       "    <tr>\n",
       "      <th>7261</th>\n",
       "      <td>Gintama:Enchousen</td>\n",
       "      <td>Action, Comedy, Historical, Parody, Samurai, Sci-Fi, Shounen</td>\n",
       "    </tr>\n",
       "    <tr>\n",
       "      <th>9886</th>\n",
       "      <td>A Silent Voice</td>\n",
       "      <td>Drama, School, Shounen</td>\n",
       "    </tr>\n",
       "    <tr>\n",
       "      <th>12242</th>\n",
       "      <td>Gintama Season 5</td>\n",
       "      <td>Action, Comedy, Historical, Parody, Samurai, Sci-Fi, Shounen</td>\n",
       "    </tr>\n",
       "    <tr>\n",
       "      <th>11308</th>\n",
       "      <td>Your Name.</td>\n",
       "      <td>Romance, Supernatural, School, Drama</td>\n",
       "    </tr>\n",
       "    <tr>\n",
       "      <th>833</th>\n",
       "      <td>Gintama</td>\n",
       "      <td>Action, Comedy, Historical, Parody, Samurai, Sci-Fi, Shounen</td>\n",
       "    </tr>\n",
       "    <tr>\n",
       "      <th>11624</th>\n",
       "      <td>Haikyu!! 3rd Season</td>\n",
       "      <td>Comedy, Sports, Drama, School, Shounen</td>\n",
       "    </tr>\n",
       "    <tr>\n",
       "      <th>14293</th>\n",
       "      <td>Gintama.:Silver Soul Arc - Second Half War</td>\n",
       "      <td>Action, Sci-Fi, Comedy, Historical, Parody, Samurai, Shounen</td>\n",
       "    </tr>\n",
       "    <tr>\n",
       "      <th>14306</th>\n",
       "      <td>Mob Psycho 100 II</td>\n",
       "      <td>Action, Slice of Life, Comedy, Supernatural</td>\n",
       "    </tr>\n",
       "    <tr>\n",
       "      <th>176</th>\n",
       "      <td>Spirited Away</td>\n",
       "      <td>Adventure, Supernatural, Drama</td>\n",
       "    </tr>\n",
       "    <tr>\n",
       "      <th>13901</th>\n",
       "      <td>Gintama.:Silver Soul Arc</td>\n",
       "      <td>Action, Comedy, Historical, Parody, Samurai, Sci-Fi, Shounen</td>\n",
       "    </tr>\n",
       "    <tr>\n",
       "      <th>8883</th>\n",
       "      <td>Your Lie in April</td>\n",
       "      <td>Drama, Music, Romance, School, Shounen</td>\n",
       "    </tr>\n",
       "    <tr>\n",
       "      <th>14313</th>\n",
       "      <td>Vinland Saga</td>\n",
       "      <td>Action, Adventure, Drama, Historical, Seinen</td>\n",
       "    </tr>\n",
       "    <tr>\n",
       "      <th>14846</th>\n",
       "      <td>Rascal Does Not Dream of a Dreaming Girl</td>\n",
       "      <td>Supernatural, Drama, Romance, School</td>\n",
       "    </tr>\n",
       "    <tr>\n",
       "      <th>4970</th>\n",
       "      <td>The Disappearance of Haruhi Suzumiya</td>\n",
       "      <td>Comedy, Mystery, Romance, School, Sci-Fi, Supernatural</td>\n",
       "    </tr>\n",
       "    <tr>\n",
       "      <th>11857</th>\n",
       "      <td>Violet Evergarden</td>\n",
       "      <td>Slice of Life, Drama, Fantasy</td>\n",
       "    </tr>\n",
       "    <tr>\n",
       "      <th>1393</th>\n",
       "      <td>Death Note</td>\n",
       "      <td>Mystery, Police, Psychological, Supernatural, Thriller, Shounen</td>\n",
       "    </tr>\n",
       "    <tr>\n",
       "      <th>14631</th>\n",
       "      <td>Demon Slayer:Kimetsu no Yaiba</td>\n",
       "      <td>Action, Demons, Historical, Shounen, Supernatural</td>\n",
       "    </tr>\n",
       "  </tbody>\n",
       "</table>\n",
       "</div>"
      ],
      "text/plain": [
       "                                         eng_name  \\\n",
       "9913                             Gintama Season 4   \n",
       "6474                              Hunter x Hunter   \n",
       "6006                             Gintama Season 2   \n",
       "7261                            Gintama:Enchousen   \n",
       "9886                               A Silent Voice   \n",
       "12242                            Gintama Season 5   \n",
       "11308                                  Your Name.   \n",
       "833                                       Gintama   \n",
       "11624                         Haikyu!! 3rd Season   \n",
       "14293  Gintama.:Silver Soul Arc - Second Half War   \n",
       "14306                           Mob Psycho 100 II   \n",
       "176                                 Spirited Away   \n",
       "13901                    Gintama.:Silver Soul Arc   \n",
       "8883                            Your Lie in April   \n",
       "14313                                Vinland Saga   \n",
       "14846    Rascal Does Not Dream of a Dreaming Girl   \n",
       "4970         The Disappearance of Haruhi Suzumiya   \n",
       "11857                           Violet Evergarden   \n",
       "1393                                   Death Note   \n",
       "14631               Demon Slayer:Kimetsu no Yaiba   \n",
       "\n",
       "                                                                Genres  \n",
       "9913      Action, Comedy, Historical, Parody, Samurai, Sci-Fi, Shounen  \n",
       "6474                  Action, Adventure, Fantasy, Shounen, Super Power  \n",
       "6006      Action, Sci-Fi, Comedy, Historical, Parody, Samurai, Shounen  \n",
       "7261      Action, Comedy, Historical, Parody, Samurai, Sci-Fi, Shounen  \n",
       "9886                                            Drama, School, Shounen  \n",
       "12242     Action, Comedy, Historical, Parody, Samurai, Sci-Fi, Shounen  \n",
       "11308                             Romance, Supernatural, School, Drama  \n",
       "833       Action, Comedy, Historical, Parody, Samurai, Sci-Fi, Shounen  \n",
       "11624                           Comedy, Sports, Drama, School, Shounen  \n",
       "14293     Action, Sci-Fi, Comedy, Historical, Parody, Samurai, Shounen  \n",
       "14306                      Action, Slice of Life, Comedy, Supernatural  \n",
       "176                                     Adventure, Supernatural, Drama  \n",
       "13901     Action, Comedy, Historical, Parody, Samurai, Sci-Fi, Shounen  \n",
       "8883                            Drama, Music, Romance, School, Shounen  \n",
       "14313                     Action, Adventure, Drama, Historical, Seinen  \n",
       "14846                             Supernatural, Drama, Romance, School  \n",
       "4970            Comedy, Mystery, Romance, School, Sci-Fi, Supernatural  \n",
       "11857                                    Slice of Life, Drama, Fantasy  \n",
       "1393   Mystery, Police, Psychological, Supernatural, Thriller, Shounen  \n",
       "14631                Action, Demons, Historical, Shounen, Supernatural  "
      ]
     },
     "execution_count": 45,
     "metadata": {},
     "output_type": "execute_result"
    }
   ],
   "source": [
    "user_pref= get_user_pref(random_user,plot=True,Verbose = 1)\n",
    "print(\"Anime this user has highly rated :\")\n",
    "\n",
    "pd.DataFrame(user_pref).head(20)"
   ]
  },
  {
   "cell_type": "markdown",
   "id": "308149da",
   "metadata": {
    "papermill": {
     "duration": 0.765159,
     "end_time": "2022-09-20T01:18:57.224726",
     "exception": false,
     "start_time": "2022-09-20T01:18:56.459567",
     "status": "completed"
    },
    "tags": []
   },
   "source": [
    "# 6. Task 3: Recommending Animes to a Random User"
   ]
  },
  {
   "cell_type": "code",
   "execution_count": 46,
   "id": "1c10c2f1",
   "metadata": {
    "execution": {
     "iopub.execute_input": "2022-09-20T01:18:58.817888Z",
     "iopub.status.busy": "2022-09-20T01:18:58.817076Z",
     "iopub.status.idle": "2022-09-20T01:18:58.819873Z",
     "shell.execute_reply": "2022-09-20T01:18:58.820410Z",
     "shell.execute_reply.started": "2022-09-19T23:27:23.223271Z"
    },
    "papermill": {
     "duration": 0.832199,
     "end_time": "2022-09-20T01:18:58.820598",
     "exception": false,
     "start_time": "2022-09-20T01:18:57.988399",
     "status": "completed"
    },
    "tags": []
   },
   "outputs": [],
   "source": [
    "def get_recommended_animes(similar_users,n=10):\n",
    "    \n",
    "    recommended_animes=[]\n",
    "    anime_list=[]\n",
    "    \n",
    "    for user_id  in similar_users.similar_users.values:\n",
    "        pref_list= get_user_pref(int(user_id),Verbose=0)\n",
    "        pref_list= pref_list[~ pref_list.eng_name.isin(user_pref.eng_name.values)] #removing users own preferences\n",
    "        anime_list.append(pref_list.eng_name.values)\n",
    "\n",
    "    anime_list=pd.DataFrame(anime_list)    \n",
    "    sorted_list=pd.DataFrame(pd.Series(anime_list.values.ravel()).value_counts()).head(10)\n",
    "\n",
    "\n",
    "    for i,anime_name in enumerate(sorted_list.index):    \n",
    "        n_user_pref=sorted_list[sorted_list.index == anime_name].values[0][0]\n",
    "        if isinstance (anime_name,str):\n",
    "            try:\n",
    "                frame = getAnimeFrame(anime_name)\n",
    "                anime_id = frame.anime_id.values[0]\n",
    "                genre = frame.Genres.values[0]\n",
    "                synopsis = getSynopsis(int(anime_id))\n",
    "                recommended_animes.append({'n':n_user_pref,\n",
    "                                           'anime_name':anime_name,\n",
    "                                           'Genres':genre,\n",
    "                                          'synopsis':synopsis})\n",
    "            except:\n",
    "                pass\n",
    "    recommended_df=pd.DataFrame(recommended_animes) \n",
    "    return recommended_df\n",
    "        \n",
    "        "
   ]
  },
  {
   "cell_type": "markdown",
   "id": "4775ec0a",
   "metadata": {
    "papermill": {
     "duration": 0.782223,
     "end_time": "2022-09-20T01:19:00.399628",
     "exception": false,
     "start_time": "2022-09-20T01:18:59.617405",
     "status": "completed"
    },
    "tags": []
   },
   "source": [
    "## 6.1 Recommendations for our defined random user based on CF"
   ]
  },
  {
   "cell_type": "code",
   "execution_count": 47,
   "id": "204e68da",
   "metadata": {
    "execution": {
     "iopub.execute_input": "2022-09-20T01:19:01.901153Z",
     "iopub.status.busy": "2022-09-20T01:19:01.899945Z",
     "iopub.status.idle": "2022-09-20T01:19:02.776881Z",
     "shell.execute_reply": "2022-09-20T01:19:02.776173Z",
     "shell.execute_reply.started": "2022-09-19T23:27:24.285269Z"
    },
    "papermill": {
     "duration": 1.635149,
     "end_time": "2022-09-20T01:19:02.777041",
     "exception": false,
     "start_time": "2022-09-20T01:19:01.141892",
     "status": "completed"
    },
    "tags": []
   },
   "outputs": [
    {
     "data": {
      "image/png": "[encoded data removed]",
      "text/plain": [
       "<Figure size 720x576 with 1 Axes>"
      ]
     },
     "metadata": {
      "needs_background": "light"
     },
     "output_type": "display_data"
    },
    {
     "name": "stdout",
     "output_type": "stream",
     "text": [
      " Top recommendations for user: 265647\n"
     ]
    },
    {
     "data": {
      "text/html": [
       "<div>\n",
       "<style scoped>\n",
       "    .dataframe tbody tr th:only-of-type {\n",
       "        vertical-align: middle;\n",
       "    }\n",
       "\n",
       "    .dataframe tbody tr th {\n",
       "        vertical-align: top;\n",
       "    }\n",
       "\n",
       "    .dataframe thead th {\n",
       "        text-align: right;\n",
       "    }\n",
       "</style>\n",
       "<table border=\"1\" class=\"dataframe\">\n",
       "  <thead>\n",
       "    <tr style=\"text-align: right;\">\n",
       "      <th></th>\n",
       "      <th>n</th>\n",
       "      <th>anime_name</th>\n",
       "      <th>Genres</th>\n",
       "      <th>synopsis</th>\n",
       "    </tr>\n",
       "  </thead>\n",
       "  <tbody>\n",
       "    <tr>\n",
       "      <th>0</th>\n",
       "      <td>4</td>\n",
       "      <td>My Teen Romantic Comedy SNAFU TOO!</td>\n",
       "      <td>Slice of Life, Comedy, Drama, Romance, School</td>\n",
       "      <td>Yahari Ore no Seishun Love Comedy wa Machigatteiru. Zoku picks up immediately after the events of the first season, continuing the adventures of the Volunteer Service Club—the dispassionate Hachiman Hikigaya, the cheerful Yui Yuigahama, and the competitive Yukino Yukinoshita—as it dedicates itself to helping any student with issues that they may face. With the rift among his own group widening, Hachiman begins to realize that his knack for quickly getting to the root of other people's troubles is a double-edged sword: sometimes the best solution is not necessarily the most appropriate one.</td>\n",
       "    </tr>\n",
       "    <tr>\n",
       "      <th>1</th>\n",
       "      <td>4</td>\n",
       "      <td>Puella Magi Madoka Magica</td>\n",
       "      <td>Psychological, Drama, Magic, Thriller</td>\n",
       "      <td>adoka Kaname and Sayaka Miki are regular middle school girls with regular lives, but all that changes when they encounter Kyuubey, a cat-like magical familiar, and Homura Akemi, the new transfer student. Kyuubey offers them a proposition: he will grant any one of their wishes and in exchange, they will each become a magical girl, gaining enough power to fulfill their dreams. However, Homura Akemi, a magical girl herself, urges them not to accept the offer, stating that everything is not what it seems. A story of hope, despair, and friendship, Mahou Shoujo Madoka★Magica deals with the difficulties of being a magical girl and the price one has to pay to make a dream come true.</td>\n",
       "    </tr>\n",
       "    <tr>\n",
       "      <th>2</th>\n",
       "      <td>4</td>\n",
       "      <td>Steins;Gate</td>\n",
       "      <td>Thriller, Sci-Fi</td>\n",
       "      <td>The self-proclaimed mad scientist Rintarou Okabe rents out a room in a rickety old building in Akihabara, where he indulges himself in his hobby of inventing prospective \"future gadgets\" with fellow lab members: Mayuri Shiina, his air-headed childhood friend, and Hashida Itaru, a perverted hacker nicknamed \"Daru.\" The three pass the time by tinkering with their most promising contraption yet, a machine dubbed the \"Phone Microwave,\" which performs the strange function of morphing bananas into piles of green gel. Though miraculous in itself, the phenomenon doesn't provide anything concrete in Okabe's search for a scientific breakthrough; that is, until the lab members are spurred into action by a string of mysterious happenings before stumbling upon an unexpected success—the Phone Microwave can send emails to the past, altering the flow of history. Adapted from the critically acclaimed visual novel by 5pb. and Nitroplus, Steins;Gate takes Okabe through the depths of scientific theory and practicality. Forced across the diverging threads of past and present, Okabe must shoulder the burdens that come with holding the key to the realm of time.</td>\n",
       "    </tr>\n",
       "    <tr>\n",
       "      <th>3</th>\n",
       "      <td>4</td>\n",
       "      <td>Bakemonogatari</td>\n",
       "      <td>Romance, Supernatural, Mystery, Vampire</td>\n",
       "      <td>Koyomi Araragi, a third-year high school student, manages to survive a vampire attack with the help of Meme Oshino, a strange man residing in an abandoned building. Though being saved from vampirism and now a human again, several side effects such as superhuman healing abilities and enhanced vision still remain. Regardless, Araragi tries to live the life of a normal student, with the help of his friend and the class president, Tsubasa Hanekawa. When fellow classmate Hitagi Senjougahara falls down the stairs and is caught by Araragi, the boy realizes that the girl is unnaturally weightless. Despite Senjougahara's protests, Araragi insists he help her, deciding to enlist the aid of Oshino, the very man who had once helped him with his own predicament. Through several tales involving demons and gods, Bakemonogatari follows Araragi as he attempts to help those who suffer from supernatural maladies.</td>\n",
       "    </tr>\n",
       "    <tr>\n",
       "      <th>4</th>\n",
       "      <td>4</td>\n",
       "      <td>Neon Genesis Evangelion</td>\n",
       "      <td>Action, Sci-Fi, Dementia, Psychological, Drama, Mecha</td>\n",
       "      <td>In the year 2015, the world stands on the brink of destruction. Humanity's last hope lies in the hands of Nerv, a special agency under the United Nations, and their Evangelions, giant machines capable of defeating the Angels who herald Earth's ruin. Gendou Ikari, head of the organization, seeks compatible pilots who can synchronize with the Evangelions and realize their true potential. Aiding in this defensive endeavor are talented personnel Misato Katsuragi, Head of Tactical Operations, and Ritsuko Akagi, Chief Scientist. Face to face with his father for the first time in years, 14-year-old Shinji Ikari's average life is irreversibly changed when he is whisked away into the depths of Nerv, and into a harrowing new destiny—he must become the pilot of Evangelion Unit-01 with the fate of mankind on his shoulders. Written by Hideaki Anno, Neon Genesis Evangelion is a heroic tale of a young boy who will become a legend. But as this psychological drama unfolds, ancient secrets beneath the big picture begin to bubble to the surface...</td>\n",
       "    </tr>\n",
       "    <tr>\n",
       "      <th>5</th>\n",
       "      <td>3</td>\n",
       "      <td>Attack on Titan Season 3 Part 2</td>\n",
       "      <td>Action, Drama, Fantasy, Military, Mystery, Shounen, Super Power</td>\n",
       "      <td>Seeking to restore humanity's diminishing hope, the Survey Corps embark on a mission to retake Wall Maria, where the battle against the merciless \"Titans\" takes the stage once again. Returning to the tattered Shiganshina District that was once his home, Eren Yeager and the Corps find the town oddly unoccupied by Titans. Even after the outer gate is plugged, they strangely encounter no opposition. The mission progresses smoothly until Armin Arlert, highly suspicious of the enemy's absence, discovers distressing signs of a potential scheme against them. Shingeki no Kyojin Season 3 Part 2 follows Eren as he vows to take back everything that was once his. Alongside him, the Survey Corps strive—through countless sacrifices—to carve a path towards victory and uncover the secrets locked away in the Yeager family's basement.</td>\n",
       "    </tr>\n",
       "    <tr>\n",
       "      <th>6</th>\n",
       "      <td>3</td>\n",
       "      <td>Gamers!</td>\n",
       "      <td>Game, Comedy, Romance, School</td>\n",
       "      <td>Keita Amano is a typical high school gamer living out an average student's life. One day, however, he has an unexpected meeting with the cutest girl in school that makes him want to disappear without a trace! This girl, Karen Tendou, is an exemplary student who is proclaimed to be the school's idol. She discovers that Amano is a gamer, and this newfound knowledge incites a passionate desire within her to recruit him into the game club. Upon visiting the club, Amano is forcefully made aware of a side to gaming wildly different than the one he loves so dearly. Tendou's interest in Amano begins shaking up what was once an uneventful life, filling it with spontaneity, awkwardness, and a little bit of mayhem. As a result, every day becomes a comical battle for Amano's sanity as he tries to adapt to these wild, unexpected changes.</td>\n",
       "    </tr>\n",
       "    <tr>\n",
       "      <th>7</th>\n",
       "      <td>3</td>\n",
       "      <td>Working!!!: Lord of the Takanashi</td>\n",
       "      <td>Comedy, Romance, Seinen, Slice of Life</td>\n",
       "      <td>The light-hearted Working!! franchise comes to a close in this final episode of the concluding season. Will Aoi Yamada get the closure she so desperately needs with her distant mother? Will the relationship between Yachiyo Todoroki and Jun Satou continue to remain stagnant and awkward? Perhaps even Souta Takanashi and Mahiru Inami will take a step forward in deepening their eccentric friendship. And in the end, Wagnaria Restaurant might finally get a new chief! Beautifully connected, all these events intertwine to give these characters a final ending to their stories.</td>\n",
       "    </tr>\n",
       "    <tr>\n",
       "      <th>8</th>\n",
       "      <td>3</td>\n",
       "      <td>Food Wars! The Second Plate</td>\n",
       "      <td>Ecchi, School, Shounen</td>\n",
       "      <td>The qualifiers of the Autumn Elections are now over, and only eight talented chefs remain. Now, they face off in one-on-one food wars, each with their own unique themes. Met with both new judges and new opponents all with their own specialties, Souma must stay on his toes if he hopes to make it to the top of both the Autumn Elections and Tootsuki Culinary Academy.</td>\n",
       "    </tr>\n",
       "    <tr>\n",
       "      <th>9</th>\n",
       "      <td>3</td>\n",
       "      <td>Hinamatsuri</td>\n",
       "      <td>Comedy, Sci-Fi, Seinen, Slice of Life, Supernatural</td>\n",
       "      <td>hile reveling in the successful clinching of a prized vase for his collection, Yoshifumi Nitta, a yakuza member, is rudely interrupted when a large, peculiar capsule suddenly materializes and falls on his head. He opens the capsule to reveal a young, blue-haired girl, who doesn't divulge anything about herself but her name—Hina—and the fact that she possesses immense powers. As if things couldn't get any worse, she loses control and unleashes an explosion if her powers remain unused. Faced with no other choice, Nitta finds himself becoming her caregiver. To let her use her powers freely, Nitta asks Hina to help out with a construction deal, which goes smoothly. But while this is happening, a rival yakuza group covertly attacks his boss. To Nitta's shock, his colleagues later pin the blame on him! Tasked with attacking the rival group in retaliation, Nitta steels himself and arrives at their hideout. But suddenly, Hina unexpectedly steps in and helps him wipe out the entire group. As it turns out, Hina might just become a valuable asset to Nitta and his yakuza business, provided she does not use her powers on him first! And so the strange life of this unusual duo begins.</td>\n",
       "    </tr>\n",
       "  </tbody>\n",
       "</table>\n",
       "</div>"
      ],
      "text/plain": [
       "   n                          anime_name  \\\n",
       "0  4  My Teen Romantic Comedy SNAFU TOO!   \n",
       "1  4           Puella Magi Madoka Magica   \n",
       "2  4                         Steins;Gate   \n",
       "3  4                      Bakemonogatari   \n",
       "4  4             Neon Genesis Evangelion   \n",
       "5  3     Attack on Titan Season 3 Part 2   \n",
       "6  3                             Gamers!   \n",
       "7  3   Working!!!: Lord of the Takanashi   \n",
       "8  3         Food Wars! The Second Plate   \n",
       "9  3                         Hinamatsuri   \n",
       "\n",
       "                                                            Genres  \\\n",
       "0                    Slice of Life, Comedy, Drama, Romance, School   \n",
       "1                            Psychological, Drama, Magic, Thriller   \n",
       "2                                                 Thriller, Sci-Fi   \n",
       "3                          Romance, Supernatural, Mystery, Vampire   \n",
       "4            Action, Sci-Fi, Dementia, Psychological, Drama, Mecha   \n",
       "5  Action, Drama, Fantasy, Military, Mystery, Shounen, Super Power   \n",
       "6                                    Game, Comedy, Romance, School   \n",
       "7                           Comedy, Romance, Seinen, Slice of Life   \n",
       "8                                           Ecchi, School, Shounen   \n",
       "9              Comedy, Sci-Fi, Seinen, Slice of Life, Supernatural   \n",
       "\n",
       "                                                                                                                                                                                                                                                                                                                                                                                                                                                                                                                                                                                                                                                                                                                                                                                                                                                                                                                                                                                                                                                                                                                                                                                                                               synopsis  \n",
       "0                                                                                                                                                                                                                                                                                                                                                                                                                                                                                                                                                                                                                  Yahari Ore no Seishun Love Comedy wa Machigatteiru. Zoku picks up immediately after the events of the first season, continuing the adventures of the Volunteer Service Club—the dispassionate Hachiman Hikigaya, the cheerful Yui Yuigahama, and the competitive Yukino Yukinoshita—as it dedicates itself to helping any student with issues that they may face. With the rift among his own group widening, Hachiman begins to realize that his knack for quickly getting to the root of other people's troubles is a double-edged sword: sometimes the best solution is not necessarily the most appropriate one.  \n",
       "1                                                                                                                                                                                                                                                                                                                                                                                                                                                                                                                           adoka Kaname and Sayaka Miki are regular middle school girls with regular lives, but all that changes when they encounter Kyuubey, a cat-like magical familiar, and Homura Akemi, the new transfer student. Kyuubey offers them a proposition: he will grant any one of their wishes and in exchange, they will each become a magical girl, gaining enough power to fulfill their dreams. However, Homura Akemi, a magical girl herself, urges them not to accept the offer, stating that everything is not what it seems. A story of hope, despair, and friendship, Mahou Shoujo Madoka★Magica deals with the difficulties of being a magical girl and the price one has to pay to make a dream come true.  \n",
       "2                                  The self-proclaimed mad scientist Rintarou Okabe rents out a room in a rickety old building in Akihabara, where he indulges himself in his hobby of inventing prospective \"future gadgets\" with fellow lab members: Mayuri Shiina, his air-headed childhood friend, and Hashida Itaru, a perverted hacker nicknamed \"Daru.\" The three pass the time by tinkering with their most promising contraption yet, a machine dubbed the \"Phone Microwave,\" which performs the strange function of morphing bananas into piles of green gel. Though miraculous in itself, the phenomenon doesn't provide anything concrete in Okabe's search for a scientific breakthrough; that is, until the lab members are spurred into action by a string of mysterious happenings before stumbling upon an unexpected success—the Phone Microwave can send emails to the past, altering the flow of history. Adapted from the critically acclaimed visual novel by 5pb. and Nitroplus, Steins;Gate takes Okabe through the depths of scientific theory and practicality. Forced across the diverging threads of past and present, Okabe must shoulder the burdens that come with holding the key to the realm of time.  \n",
       "3                                                                                                                                                                                                                                                                                           Koyomi Araragi, a third-year high school student, manages to survive a vampire attack with the help of Meme Oshino, a strange man residing in an abandoned building. Though being saved from vampirism and now a human again, several side effects such as superhuman healing abilities and enhanced vision still remain. Regardless, Araragi tries to live the life of a normal student, with the help of his friend and the class president, Tsubasa Hanekawa. When fellow classmate Hitagi Senjougahara falls down the stairs and is caught by Araragi, the boy realizes that the girl is unnaturally weightless. Despite Senjougahara's protests, Araragi insists he help her, deciding to enlist the aid of Oshino, the very man who had once helped him with his own predicament. Through several tales involving demons and gods, Bakemonogatari follows Araragi as he attempts to help those who suffer from supernatural maladies.  \n",
       "4                                                                                                                                                  In the year 2015, the world stands on the brink of destruction. Humanity's last hope lies in the hands of Nerv, a special agency under the United Nations, and their Evangelions, giant machines capable of defeating the Angels who herald Earth's ruin. Gendou Ikari, head of the organization, seeks compatible pilots who can synchronize with the Evangelions and realize their true potential. Aiding in this defensive endeavor are talented personnel Misato Katsuragi, Head of Tactical Operations, and Ritsuko Akagi, Chief Scientist. Face to face with his father for the first time in years, 14-year-old Shinji Ikari's average life is irreversibly changed when he is whisked away into the depths of Nerv, and into a harrowing new destiny—he must become the pilot of Evangelion Unit-01 with the fate of mankind on his shoulders. Written by Hideaki Anno, Neon Genesis Evangelion is a heroic tale of a young boy who will become a legend. But as this psychological drama unfolds, ancient secrets beneath the big picture begin to bubble to the surface...  \n",
       "5                                                                                                                                                                                                                                                                                                                                                                          Seeking to restore humanity's diminishing hope, the Survey Corps embark on a mission to retake Wall Maria, where the battle against the merciless \"Titans\" takes the stage once again. Returning to the tattered Shiganshina District that was once his home, Eren Yeager and the Corps find the town oddly unoccupied by Titans. Even after the outer gate is plugged, they strangely encounter no opposition. The mission progresses smoothly until Armin Arlert, highly suspicious of the enemy's absence, discovers distressing signs of a potential scheme against them. Shingeki no Kyojin Season 3 Part 2 follows Eren as he vows to take back everything that was once his. Alongside him, the Survey Corps strive—through countless sacrifices—to carve a path towards victory and uncover the secrets locked away in the Yeager family's basement.  \n",
       "6                                                                                                                                                                                                                                                                                                                                                                  Keita Amano is a typical high school gamer living out an average student's life. One day, however, he has an unexpected meeting with the cutest girl in school that makes him want to disappear without a trace! This girl, Karen Tendou, is an exemplary student who is proclaimed to be the school's idol. She discovers that Amano is a gamer, and this newfound knowledge incites a passionate desire within her to recruit him into the game club. Upon visiting the club, Amano is forcefully made aware of a side to gaming wildly different than the one he loves so dearly. Tendou's interest in Amano begins shaking up what was once an uneventful life, filling it with spontaneity, awkwardness, and a little bit of mayhem. As a result, every day becomes a comical battle for Amano's sanity as he tries to adapt to these wild, unexpected changes.  \n",
       "7                                                                                                                                                                                                                                                                                                                                                                                                                                                                                                                                                                                                                                        The light-hearted Working!! franchise comes to a close in this final episode of the concluding season. Will Aoi Yamada get the closure she so desperately needs with her distant mother? Will the relationship between Yachiyo Todoroki and Jun Satou continue to remain stagnant and awkward? Perhaps even Souta Takanashi and Mahiru Inami will take a step forward in deepening their eccentric friendship. And in the end, Wagnaria Restaurant might finally get a new chief! Beautifully connected, all these events intertwine to give these characters a final ending to their stories.  \n",
       "8                                                                                                                                                                                                                                                                                                                                                                                                                                                                                                                                                                                                                                                                                                                                                                                                                                                        The qualifiers of the Autumn Elections are now over, and only eight talented chefs remain. Now, they face off in one-on-one food wars, each with their own unique themes. Met with both new judges and new opponents all with their own specialties, Souma must stay on his toes if he hopes to make it to the top of both the Autumn Elections and Tootsuki Culinary Academy.  \n",
       "9  hile reveling in the successful clinching of a prized vase for his collection, Yoshifumi Nitta, a yakuza member, is rudely interrupted when a large, peculiar capsule suddenly materializes and falls on his head. He opens the capsule to reveal a young, blue-haired girl, who doesn't divulge anything about herself but her name—Hina—and the fact that she possesses immense powers. As if things couldn't get any worse, she loses control and unleashes an explosion if her powers remain unused. Faced with no other choice, Nitta finds himself becoming her caregiver. To let her use her powers freely, Nitta asks Hina to help out with a construction deal, which goes smoothly. But while this is happening, a rival yakuza group covertly attacks his boss. To Nitta's shock, his colleagues later pin the blame on him! Tasked with attacking the rival group in retaliation, Nitta steels himself and arrives at their hideout. But suddenly, Hina unexpectedly steps in and helps him wipe out the entire group. As it turns out, Hina might just become a valuable asset to Nitta and his yakuza business, provided she does not use her powers on him first! And so the strange life of this unusual duo begins.  "
      ]
     },
     "execution_count": 47,
     "metadata": {},
     "output_type": "execute_result"
    }
   ],
   "source": [
    "recommended_animes = get_recommended_animes(similar_users, n=10)\n",
    "getFavGenre(recommended_animes, plot=True)\n",
    "\n",
    "print(f' Top recommendations for user: {random_user}')\n",
    "recommended_animes"
   ]
  },
  {
   "cell_type": "markdown",
   "id": "bda4a5f8",
   "metadata": {
    "papermill": {
     "duration": 0.7599,
     "end_time": "2022-09-20T01:19:04.288956",
     "exception": false,
     "start_time": "2022-09-20T01:19:03.529056",
     "status": "completed"
    },
    "tags": []
   },
   "source": [
    "## 7. Recommendations based on Predicted Rankings\n",
    "Now we Try to list the Top 10 animes recommended to the user based on predicted ratings.\n"
   ]
  },
  {
   "cell_type": "code",
   "execution_count": 48,
   "id": "a6b6e778",
   "metadata": {
    "execution": {
     "iopub.execute_input": "2022-09-20T01:19:05.797842Z",
     "iopub.status.busy": "2022-09-20T01:19:05.796896Z",
     "iopub.status.idle": "2022-09-20T01:19:05.811199Z",
     "shell.execute_reply": "2022-09-20T01:19:05.811758Z",
     "shell.execute_reply.started": "2022-09-20T01:08:13.525669Z"
    },
    "papermill": {
     "duration": 0.769729,
     "end_time": "2022-09-20T01:19:05.811940",
     "exception": false,
     "start_time": "2022-09-20T01:19:05.042211",
     "status": "completed"
    },
    "tags": []
   },
   "outputs": [],
   "source": [
    "def Predicted_rankings_recommender(random_user):\n",
    "    print(f\"Showing recommendations for user {random_user}\")\n",
    "\n",
    "    animes_watched_by_user = rating_df[rating_df.user_id == random_user]\n",
    "    anime_not_watched_df = anime_df[~anime_df[\"anime_id\"].isin(animes_watched_by_user.anime_id.values)]\n",
    "\n",
    "    #returning list of anime not watched that also exists in the encoded index \n",
    "    #Focus is on the not watched list, as we need to recommend new anime that the user has not watched\n",
    "    anime_not_watched = list(\n",
    "        set(anime_not_watched_df['anime_id']).intersection(set(anime2_encoded.keys()))\n",
    "    )\n",
    "    anime_not_watched = [[anime2_encoded.get(x)] for x in anime_not_watched]\n",
    "\n",
    "    user_encoder = user2_encoded.get(random_user) #returns the encoded index\n",
    "\n",
    "    #creating a numpy array by stacking the encoded user_id and the number of animes not watched by them\n",
    "    #[Note: hstack stacks input arrays horizontally(column wise)]\n",
    "    user_anime_array = np.hstack(\n",
    "        ([[user_encoder]] * len(anime_not_watched), anime_not_watched)\n",
    "    )\n",
    "\n",
    "    user_anime_array = [user_anime_array[:, 0], user_anime_array[:, 1]] #seperating the arrays\n",
    "\n",
    "    pred_ratings = model.predict(user_anime_array).flatten() #returns predicted ratings for animes not watched\n",
    "\n",
    "    top_ratings_indices = (-pred_ratings).argsort()[:10] #Here (-) gives us the indices of the top 10 ratings as by default argsort sorts in ascending  \n",
    "\n",
    "    #extracting the top rated encoded id's of the animes not watched\n",
    "    recommended_anime_ids = [encoded2_anime.get(anime_not_watched[x][0]) for x in top_ratings_indices]\n",
    "\n",
    "    Results = []\n",
    "    top_rated_ids = []\n",
    "\n",
    "    for index, anime_id in enumerate(anime_not_watched):\n",
    "        rating = pred_ratings[index] #gives us ratings of all the animes not watched\n",
    "        id_ = encoded2_anime.get(anime_id[0]) #gives us the encoded id of all the animes not watched\n",
    "        if id_ in recommended_anime_ids:\n",
    "            try:\n",
    "                top_rated_ids.append(id_)\n",
    "                condition = (anime_df.anime_id == id_)  \n",
    "                name = anime_df[condition]['eng_name'].values[0]\n",
    "                genre = anime_df[condition].Genres.values[0]\n",
    "#                 score = anime_df[condition].Score.values[0]  (showing nan values)\n",
    "                synopsis = getSynopsis(int(id_))        \n",
    "            except:\n",
    "                continue\n",
    "\n",
    "            Results.append({\"name\": name, \n",
    "                            \"predicted_rating\": rating,\n",
    "                            \"genre\": genre, \n",
    "                            'sypnopsis': synopsis})\n",
    "\n",
    "    print(\" Top 10 anime recommendations for you are: \")\n",
    "    Top10_df = pd.DataFrame(Results).sort_values(by='predicted_rating', ascending=False)\n",
    "    \n",
    "    return Top10_df"
   ]
  },
  {
   "cell_type": "code",
   "execution_count": 49,
   "id": "c6a09360",
   "metadata": {
    "execution": {
     "iopub.execute_input": "2022-09-20T01:19:07.312162Z",
     "iopub.status.busy": "2022-09-20T01:19:07.311506Z",
     "iopub.status.idle": "2022-09-20T01:19:11.653626Z",
     "shell.execute_reply": "2022-09-20T01:19:11.652999Z",
     "shell.execute_reply.started": "2022-09-20T01:01:59.799820Z"
    },
    "papermill": {
     "duration": 5.091211,
     "end_time": "2022-09-20T01:19:11.653789",
     "exception": false,
     "start_time": "2022-09-20T01:19:06.562578",
     "status": "completed"
    },
    "tags": []
   },
   "outputs": [
    {
     "name": "stdout",
     "output_type": "stream",
     "text": [
      "Showing recommendations for user 265647\n",
      " Top 10 anime recommendations for you are: \n"
     ]
    },
    {
     "data": {
      "text/html": [
       "<div>\n",
       "<style scoped>\n",
       "    .dataframe tbody tr th:only-of-type {\n",
       "        vertical-align: middle;\n",
       "    }\n",
       "\n",
       "    .dataframe tbody tr th {\n",
       "        vertical-align: top;\n",
       "    }\n",
       "\n",
       "    .dataframe thead th {\n",
       "        text-align: right;\n",
       "    }\n",
       "</style>\n",
       "<table border=\"1\" class=\"dataframe\">\n",
       "  <thead>\n",
       "    <tr style=\"text-align: right;\">\n",
       "      <th></th>\n",
       "      <th>name</th>\n",
       "      <th>predicted_rating</th>\n",
       "      <th>genre</th>\n",
       "      <th>sypnopsis</th>\n",
       "    </tr>\n",
       "  </thead>\n",
       "  <tbody>\n",
       "    <tr>\n",
       "      <th>8</th>\n",
       "      <td>Goman-hiki</td>\n",
       "      <td>0.963467</td>\n",
       "      <td>Kids</td>\n",
       "      <td>Shorts made by Otogi Pro (later remade for TV as Doubutsu Mura no Monogatari).</td>\n",
       "    </tr>\n",
       "    <tr>\n",
       "      <th>2</th>\n",
       "      <td>Shuuseki Life</td>\n",
       "      <td>0.962215</td>\n",
       "      <td>Music</td>\n",
       "      <td>usic video directed by Kousuke Sugimoto for the song Shuuseki Life by Handsome Kenya.</td>\n",
       "    </tr>\n",
       "    <tr>\n",
       "      <th>1</th>\n",
       "      <td>Crayon Shin-chan Movie 05: Ankoku Tamatama Daitsuiseki</td>\n",
       "      <td>0.959562</td>\n",
       "      <td>Action, Adventure, Comedy, Seinen</td>\n",
       "      <td>action comedy film depicting the Nohara family who get caught in a fight between two clans, Tamayura and Tamayomi. Set in Tokyo and Aomori (northern end of Japan's main island). The Tamayomi clan had plotted to revive the evil genie Jarke and to conquer the world. To stop Tamayomi's plot, the three gay brothers (Rose, Lavender and Lemon) from Tamayura clan wrested Jarke's ball, which was a key to revive Jarke, from the bar girl gang of Tamayomi clan, but Shinnosuke's younger sister Himawari swallowed down the ball. The Nohara family, with the three gay brothers and a female detective Yone Higashimatsuyama, fights a fierce battle against the Tamayomi gang chasing them. (Source: Manabu Tsuribe)</td>\n",
       "    </tr>\n",
       "    <tr>\n",
       "      <th>5</th>\n",
       "      <td>After School Midnighters</td>\n",
       "      <td>0.958097</td>\n",
       "      <td>Fantasy, Kids</td>\n",
       "      <td>ako, Miko, and Mutsuko are three young girls visiting St. Claire Elementary, a school filled with strange legends. They have an abrupt encounter with Kunstrijk, a human body anatomy model, and Goth, a skeleton model. Both haunt the soon-to-be-demolished science room. Seeking revenge for being vandalized by the three girls, Kunstrijk invites them to the school's midnight party in order to scare them. Together, the five go on a quest to collect three mythical medals that can grant a wish and hopefully save the science room. (Source: ANN)</td>\n",
       "    </tr>\n",
       "    <tr>\n",
       "      <th>4</th>\n",
       "      <td>Heaven's Lost Property:Forte</td>\n",
       "      <td>0.955288</td>\n",
       "      <td>Comedy, Ecchi, Harem, Romance, Sci-Fi, Shounen, Supernatural</td>\n",
       "      <td>Sakurai Tomoki has settled into his life with the two angeloids, Ikaros and Nymph, and is enjoying himself immensely. However, he keeps having weird dreams and asks all of his friends to help him investigate the cause. Nymph conjures up a device that enables people, but not angeloids, to enter other people's dreams. The device malfunctions at first but eventually they get to what was supposed to be Tomoki's dream but discover that something is very wrong with it. Later, a meteor comes crashing down from the skies at the site of the large cherry blossom tree where Tomoki first discovered Ikaros. An extremely well endowed blonde angeloid with a huge sword emerges from the meteor and sets off in search of Tomoki!</td>\n",
       "    </tr>\n",
       "    <tr>\n",
       "      <th>3</th>\n",
       "      <td>Black Butler Special</td>\n",
       "      <td>0.954359</td>\n",
       "      <td>Comedy, Demons, Historical, Shounen, Supernatural</td>\n",
       "      <td>Earl Ciel Phantomhive's Funtom Corporation is sponsoring a charity performance of Hamlet to be shown to a group of poor children as a celebration of its third anniversary. However, when the theater company hired for the stage play is suddenly delayed and won't make it in time for the scheduled performance, the company is faced with a dilemma. With the promise of plenty of press coverage, Ciel must find a way to rectify the situation and commands his butler, Sebastian Michaelis, to ensure the success of the play. But with a haphazard ensemble of amateur actors—including Ciel, his fiancée Elizabeth Midford, his servants, and many others—how can they possibly put on the show in time?</td>\n",
       "    </tr>\n",
       "    <tr>\n",
       "      <th>0</th>\n",
       "      <td>Naruto Narutimate Hero 3: Tsuini Gekitotsu! Jounin vs. Genin!! Musabetsu Dairansen Taikai Kaisai!!</td>\n",
       "      <td>0.953978</td>\n",
       "      <td>Game, Adventure, Comedy, Shounen</td>\n",
       "      <td>contest is made by the Fifth Hokage called Jonin vs Genin. The point is to collect crystals for points, with the higher-ranked Chunin and Jonin holding crystals worth more points. The Genin have blue crystals, while the Chunin and Jonin have red crystals. The video shows various fights between the Genin and Jonin, which each instance ending in the Jonin unknowingly losing their crystal (or discarding it). (Source: Wikipedia)</td>\n",
       "    </tr>\n",
       "    <tr>\n",
       "      <th>6</th>\n",
       "      <td>You're Being Summoned, Azazel Z</td>\n",
       "      <td>0.952293</td>\n",
       "      <td>Comedy, Demons, Supernatural</td>\n",
       "      <td>The second season of Yondemasu yo, Azazel-san.</td>\n",
       "    </tr>\n",
       "    <tr>\n",
       "      <th>7</th>\n",
       "      <td>Robotan (1986)</td>\n",
       "      <td>0.951438</td>\n",
       "      <td>Comedy, Kids</td>\n",
       "      <td>The story about robot named Robotan who came from outside the earth, he met with a kid then they become friends but they always stuck with some troubles because of bad people who chase after Robotan however our hero win the fight every time.</td>\n",
       "    </tr>\n",
       "  </tbody>\n",
       "</table>\n",
       "</div>"
      ],
      "text/plain": [
       "                                                                                                 name  \\\n",
       "8                                                                                          Goman-hiki   \n",
       "2                                                                                       Shuuseki Life   \n",
       "1                                              Crayon Shin-chan Movie 05: Ankoku Tamatama Daitsuiseki   \n",
       "5                                                                            After School Midnighters   \n",
       "4                                                                        Heaven's Lost Property:Forte   \n",
       "3                                                                                Black Butler Special   \n",
       "0  Naruto Narutimate Hero 3: Tsuini Gekitotsu! Jounin vs. Genin!! Musabetsu Dairansen Taikai Kaisai!!   \n",
       "6                                                                     You're Being Summoned, Azazel Z   \n",
       "7                                                                                      Robotan (1986)   \n",
       "\n",
       "   predicted_rating  \\\n",
       "8          0.963467   \n",
       "2          0.962215   \n",
       "1          0.959562   \n",
       "5          0.958097   \n",
       "4          0.955288   \n",
       "3          0.954359   \n",
       "0          0.953978   \n",
       "6          0.952293   \n",
       "7          0.951438   \n",
       "\n",
       "                                                          genre  \\\n",
       "8                                                          Kids   \n",
       "2                                                         Music   \n",
       "1                             Action, Adventure, Comedy, Seinen   \n",
       "5                                                 Fantasy, Kids   \n",
       "4  Comedy, Ecchi, Harem, Romance, Sci-Fi, Shounen, Supernatural   \n",
       "3             Comedy, Demons, Historical, Shounen, Supernatural   \n",
       "0                              Game, Adventure, Comedy, Shounen   \n",
       "6                                  Comedy, Demons, Supernatural   \n",
       "7                                                  Comedy, Kids   \n",
       "\n",
       "                                                                                                                                                                                                                                                                                                                                                                                                                                                                                                                                                                                                                                                                                                                                         sypnopsis  \n",
       "8                                                                                                                                                                                                                                                                                                                                                                                                                                                                                                                                                                                                                                                                   Shorts made by Otogi Pro (later remade for TV as Doubutsu Mura no Monogatari).  \n",
       "2                                                                                                                                                                                                                                                                                                                                                                                                                                                                                                                                                                                                                                                            usic video directed by Kousuke Sugimoto for the song Shuuseki Life by Handsome Kenya.  \n",
       "1                    action comedy film depicting the Nohara family who get caught in a fight between two clans, Tamayura and Tamayomi. Set in Tokyo and Aomori (northern end of Japan's main island). The Tamayomi clan had plotted to revive the evil genie Jarke and to conquer the world. To stop Tamayomi's plot, the three gay brothers (Rose, Lavender and Lemon) from Tamayura clan wrested Jarke's ball, which was a key to revive Jarke, from the bar girl gang of Tamayomi clan, but Shinnosuke's younger sister Himawari swallowed down the ball. The Nohara family, with the three gay brothers and a female detective Yone Higashimatsuyama, fights a fierce battle against the Tamayomi gang chasing them. (Source: Manabu Tsuribe)  \n",
       "5                                                                                                                                                                                    ako, Miko, and Mutsuko are three young girls visiting St. Claire Elementary, a school filled with strange legends. They have an abrupt encounter with Kunstrijk, a human body anatomy model, and Goth, a skeleton model. Both haunt the soon-to-be-demolished science room. Seeking revenge for being vandalized by the three girls, Kunstrijk invites them to the school's midnight party in order to scare them. Together, the five go on a quest to collect three mythical medals that can grant a wish and hopefully save the science room. (Source: ANN)  \n",
       "4  Sakurai Tomoki has settled into his life with the two angeloids, Ikaros and Nymph, and is enjoying himself immensely. However, he keeps having weird dreams and asks all of his friends to help him investigate the cause. Nymph conjures up a device that enables people, but not angeloids, to enter other people's dreams. The device malfunctions at first but eventually they get to what was supposed to be Tomoki's dream but discover that something is very wrong with it. Later, a meteor comes crashing down from the skies at the site of the large cherry blossom tree where Tomoki first discovered Ikaros. An extremely well endowed blonde angeloid with a huge sword emerges from the meteor and sets off in search of Tomoki!  \n",
       "3                                Earl Ciel Phantomhive's Funtom Corporation is sponsoring a charity performance of Hamlet to be shown to a group of poor children as a celebration of its third anniversary. However, when the theater company hired for the stage play is suddenly delayed and won't make it in time for the scheduled performance, the company is faced with a dilemma. With the promise of plenty of press coverage, Ciel must find a way to rectify the situation and commands his butler, Sebastian Michaelis, to ensure the success of the play. But with a haphazard ensemble of amateur actors—including Ciel, his fiancée Elizabeth Midford, his servants, and many others—how can they possibly put on the show in time?  \n",
       "0                                                                                                                                                                                                                                                                                                     contest is made by the Fifth Hokage called Jonin vs Genin. The point is to collect crystals for points, with the higher-ranked Chunin and Jonin holding crystals worth more points. The Genin have blue crystals, while the Chunin and Jonin have red crystals. The video shows various fights between the Genin and Jonin, which each instance ending in the Jonin unknowingly losing their crystal (or discarding it). (Source: Wikipedia)  \n",
       "6                                                                                                                                                                                                                                                                                                                                                                                                                                                                                                                                                                                                                                                                                                   The second season of Yondemasu yo, Azazel-san.  \n",
       "7                                                                                                                                                                                                                                                                                                                                                                                                                                                                                                The story about robot named Robotan who came from outside the earth, he met with a kid then they become friends but they always stuck with some troubles because of bad people who chase after Robotan however our hero win the fight every time.  "
      ]
     },
     "execution_count": 49,
     "metadata": {},
     "output_type": "execute_result"
    }
   ],
   "source": [
    "Predicted_rankings_recommender(random_user)"
   ]
  },
  {
   "cell_type": "code",
   "execution_count": 50,
   "id": "2178ed6b",
   "metadata": {
    "execution": {
     "iopub.execute_input": "2022-09-20T01:19:13.156571Z",
     "iopub.status.busy": "2022-09-20T01:19:13.155775Z",
     "iopub.status.idle": "2022-09-20T01:19:14.076703Z",
     "shell.execute_reply": "2022-09-20T01:19:14.077319Z",
     "shell.execute_reply.started": "2022-09-20T01:08:41.049595Z"
    },
    "papermill": {
     "duration": 1.676401,
     "end_time": "2022-09-20T01:19:14.077526",
     "exception": false,
     "start_time": "2022-09-20T01:19:12.401125",
     "status": "completed"
    },
    "tags": []
   },
   "outputs": [
    {
     "data": {
      "text/plain": [
       "user_id\n",
       "3         315\n",
       "6         311\n",
       "16        247\n",
       "17        709\n",
       "19        679\n",
       "         ... \n",
       "353385    281\n",
       "353386    234\n",
       "353392    250\n",
       "353395    738\n",
       "353398    759\n",
       "Length: 95143, dtype: int64"
      ]
     },
     "execution_count": 50,
     "metadata": {},
     "output_type": "execute_result"
    }
   ],
   "source": [
    "#Testing on some other random user\n",
    "rating_df.groupby('user_id').size()\n"
   ]
  },
  {
   "cell_type": "code",
   "execution_count": 51,
   "id": "c67f4a94",
   "metadata": {
    "execution": {
     "iopub.execute_input": "2022-09-20T01:19:15.645195Z",
     "iopub.status.busy": "2022-09-20T01:19:15.643874Z",
     "iopub.status.idle": "2022-09-20T01:19:18.755878Z",
     "shell.execute_reply": "2022-09-20T01:19:18.756546Z",
     "shell.execute_reply.started": "2022-09-20T01:05:04.945627Z"
    },
    "papermill": {
     "duration": 3.883668,
     "end_time": "2022-09-20T01:19:18.756743",
     "exception": false,
     "start_time": "2022-09-20T01:19:14.873075",
     "status": "completed"
    },
    "tags": []
   },
   "outputs": [
    {
     "name": "stdout",
     "output_type": "stream",
     "text": [
      "Showing recommendations for user 19\n",
      " Top 10 anime recommendations for you are: \n"
     ]
    },
    {
     "data": {
      "text/html": [
       "<div>\n",
       "<style scoped>\n",
       "    .dataframe tbody tr th:only-of-type {\n",
       "        vertical-align: middle;\n",
       "    }\n",
       "\n",
       "    .dataframe tbody tr th {\n",
       "        vertical-align: top;\n",
       "    }\n",
       "\n",
       "    .dataframe thead th {\n",
       "        text-align: right;\n",
       "    }\n",
       "</style>\n",
       "<table border=\"1\" class=\"dataframe\">\n",
       "  <thead>\n",
       "    <tr style=\"text-align: right;\">\n",
       "      <th></th>\n",
       "      <th>name</th>\n",
       "      <th>predicted_rating</th>\n",
       "      <th>genre</th>\n",
       "      <th>sypnopsis</th>\n",
       "    </tr>\n",
       "  </thead>\n",
       "  <tbody>\n",
       "    <tr>\n",
       "      <th>1</th>\n",
       "      <td>Domain of Murder</td>\n",
       "      <td>0.991046</td>\n",
       "      <td>Drama, Mystery, Psychological, Seinen</td>\n",
       "      <td>One stormy night, a young woman is shot to death on a cliff; her body is found floating in the waters below the next morning. She was last seen with a man who is now being sought not only for her death. Meanwhile, an estranged wife hires Goro, a private investigator, to find her husband. Alongside another member of law enforcement with his own motives for finding the man, Goro sets forth on a trail of tragedy and intrigue to find the reason and connection behind the murders and missing husband. (Source: Anime-Planet; edited)</td>\n",
       "    </tr>\n",
       "    <tr>\n",
       "      <th>6</th>\n",
       "      <td>Smile</td>\n",
       "      <td>0.990545</td>\n",
       "      <td>Kids, Music</td>\n",
       "      <td>usic video for the song SMILE by ANNA BANANA that was featured on NHK's Minna no Uta program. The video was animated by Seiichi Hayashi.</td>\n",
       "    </tr>\n",
       "    <tr>\n",
       "      <th>5</th>\n",
       "      <td>The Rebirth of Buddha</td>\n",
       "      <td>0.989928</td>\n",
       "      <td>Psychological, Supernatural, Romance</td>\n",
       "      <td>17-year-old Sayako Amanokawa aspires to become a journalist, just like Kanemoto, an elite newspaper writer she looks up to. But Kanemoto, shamed from an erroneous report about a corruption scandal, jumps in front of a train and commits suicide. Since that incident, Sayako suddenly becomes able to see spirits and almost loses her life. However, from that near-fatal incident she experiences something extraordinary. The journalist inside her stirred, she embarks to find out about the truth. But the forces that stand in her way turn out to be much more formidable than she ever imagined. (Source: ANN)</td>\n",
       "    </tr>\n",
       "    <tr>\n",
       "      <th>8</th>\n",
       "      <td>The Legend of Qin</td>\n",
       "      <td>0.989765</td>\n",
       "      <td>Action, Historical, Martial Arts, Fantasy</td>\n",
       "      <td>The movie reveals the events before Ge Nie and Tianming defeated 300 soldiers at Huangyang Chuan right at the start of season 1. The events will retell how Tianming and Ge Nie met. A new character and her relations to the Western Regions will be introduced as well. (Source: wuxiaedge.com)</td>\n",
       "    </tr>\n",
       "    <tr>\n",
       "      <th>2</th>\n",
       "      <td>Choco to Watashi</td>\n",
       "      <td>0.989619</td>\n",
       "      <td>Kids, Music</td>\n",
       "      <td>Junko Yagami's performance of Choco to Watashi for NHK's Minna no Uta program.</td>\n",
       "    </tr>\n",
       "    <tr>\n",
       "      <th>7</th>\n",
       "      <td>Karugamo Oyako no Hi no Youjin</td>\n",
       "      <td>0.989487</td>\n",
       "      <td>Drama, Kids</td>\n",
       "      <td>ducational fire safety video for kids with an imaginative spin of a fire brigade made of talking ducks.</td>\n",
       "    </tr>\n",
       "    <tr>\n",
       "      <th>4</th>\n",
       "      <td>Tong Ling Fei</td>\n",
       "      <td>0.989461</td>\n",
       "      <td>Comedy, Historical, Drama, Romance</td>\n",
       "      <td>Qian Yunxi, the oldest daughter of the prime minister was born with a special ability. Because of this she was deemed 'abnormal' and was raised at Mt. Lin Yun. Upon turning 16, she took her younger sister's place to marry into the royal family of Ye. Rumors say Ye Youming is strange, cold and cruel. Just how will Qian Yunxi's fate play out? (Source: Baka-Updates Manga)</td>\n",
       "    </tr>\n",
       "    <tr>\n",
       "      <th>3</th>\n",
       "      <td>Tales of Vesperia ~The First Strike~</td>\n",
       "      <td>0.988654</td>\n",
       "      <td>Action, Adventure, Fantasy, Magic, Military</td>\n",
       "      <td>Ten years after the Great War against the demon-beasts, the empire rules over the world and prosperity relies on the massive use of aer. Yuri Lowell and Flynn Scifo are two young men who have just enrolled the ranks of the prestigious Imperial Knights. One day, they are sent to the town of Ceazontania, where abnormal aer activity has reportedly caused the proliferation of horribly mutated beasts, with serious threat for the whole region. Meanwhile, the Knights Supreme Commander Alexei Denoia and the naive Princess Estellise are involved in a behind-the-curtains struggle for power in the capital. The situation in Ceazontania deteriorates as the garrison of Imperial Knights finds that they cannot expect any immediate support from the capital. Then, Niren Fedrok, commander of the Imperial Knights in Ceazontania, takes an unexpected decision that is going to change Yuri and Flynn's destiny forever. What are the secrets behind the extraordinary events that are happening around Yuri and Flynn? Will they be able to defend the innocent people of Ceazontania and stay true to their beliefs? (Source: Funimation)</td>\n",
       "    </tr>\n",
       "    <tr>\n",
       "      <th>0</th>\n",
       "      <td>Kekkou Kamen</td>\n",
       "      <td>0.988533</td>\n",
       "      <td>Comedy, Ecchi</td>\n",
       "      <td>he academy Miami Takashi attends, higher education has sunk to the lowest levels of depravity, with armed hall monitors, teachers who wear masks to hide their identities and special detention sessions in a torture chamber beneath the gym! It's a curriculum designed to chew up sweet young things, and poor Miami's been voted \"Least Likely to Survive\" in her class! Is there no hope? Can no one save her? Enter Kekko Kamen, the most outrageous superheroine ever! Clad in a red mask, red boots and nothing else, she is the supreme protector of innocents like Miami. Armed with her trusty nunchaku and a body that just won't quit, she'll make chopped pork out of the swine who run this school from hell! But who is she really? The only one who knows for sure is creator Go Nagai and he's not giving anything away... except lots of free peeks at Kekko Kamen's magnificent physique! (Source: AniDB)</td>\n",
       "    </tr>\n",
       "  </tbody>\n",
       "</table>\n",
       "</div>"
      ],
      "text/plain": [
       "                                   name  predicted_rating  \\\n",
       "1                      Domain of Murder          0.991046   \n",
       "6                                 Smile          0.990545   \n",
       "5                 The Rebirth of Buddha          0.989928   \n",
       "8                     The Legend of Qin          0.989765   \n",
       "2                      Choco to Watashi          0.989619   \n",
       "7        Karugamo Oyako no Hi no Youjin          0.989487   \n",
       "4                         Tong Ling Fei          0.989461   \n",
       "3  Tales of Vesperia ~The First Strike~          0.988654   \n",
       "0                          Kekkou Kamen          0.988533   \n",
       "\n",
       "                                         genre  \\\n",
       "1        Drama, Mystery, Psychological, Seinen   \n",
       "6                                  Kids, Music   \n",
       "5         Psychological, Supernatural, Romance   \n",
       "8    Action, Historical, Martial Arts, Fantasy   \n",
       "2                                  Kids, Music   \n",
       "7                                  Drama, Kids   \n",
       "4           Comedy, Historical, Drama, Romance   \n",
       "3  Action, Adventure, Fantasy, Magic, Military   \n",
       "0                                Comedy, Ecchi   \n",
       "\n",
       "                                                                                                                                                                                                                                                                                                                                                                                                                                                                                                                                                                                                                                                                                                                                                                                                                                                                                                                                                                                                                                                                                                                                                        sypnopsis  \n",
       "1                                                                                                                                                                                                                                                                                                                                                                                                                                                                                                                                                                                                              One stormy night, a young woman is shot to death on a cliff; her body is found floating in the waters below the next morning. She was last seen with a man who is now being sought not only for her death. Meanwhile, an estranged wife hires Goro, a private investigator, to find her husband. Alongside another member of law enforcement with his own motives for finding the man, Goro sets forth on a trail of tragedy and intrigue to find the reason and connection behind the murders and missing husband. (Source: Anime-Planet; edited)  \n",
       "6                                                                                                                                                                                                                                                                                                                                                                                                                                                                                                                                                                                                                                                                                                                                                                                                                                                                                                                                                                                                                        usic video for the song SMILE by ANNA BANANA that was featured on NHK's Minna no Uta program. The video was animated by Seiichi Hayashi.  \n",
       "5                                                                                                                                                                                                                                                                                                                                                                                                                                                                                                                                     17-year-old Sayako Amanokawa aspires to become a journalist, just like Kanemoto, an elite newspaper writer she looks up to. But Kanemoto, shamed from an erroneous report about a corruption scandal, jumps in front of a train and commits suicide. Since that incident, Sayako suddenly becomes able to see spirits and almost loses her life. However, from that near-fatal incident she experiences something extraordinary. The journalist inside her stirred, she embarks to find out about the truth. But the forces that stand in her way turn out to be much more formidable than she ever imagined. (Source: ANN)  \n",
       "8                                                                                                                                                                                                                                                                                                                                                                                                                                                                                                                                                                                                                                                                                                                                                                                                                                                               The movie reveals the events before Ge Nie and Tianming defeated 300 soldiers at Huangyang Chuan right at the start of season 1. The events will retell how Tianming and Ge Nie met. A new character and her relations to the Western Regions will be introduced as well. (Source: wuxiaedge.com)  \n",
       "2                                                                                                                                                                                                                                                                                                                                                                                                                                                                                                                                                                                                                                                                                                                                                                                                                                                                                                                                                                                                                                                                                  Junko Yagami's performance of Choco to Watashi for NHK's Minna no Uta program.  \n",
       "7                                                                                                                                                                                                                                                                                                                                                                                                                                                                                                                                                                                                                                                                                                                                                                                                                                                                                                                                                                                                                                                         ducational fire safety video for kids with an imaginative spin of a fire brigade made of talking ducks.  \n",
       "4                                                                                                                                                                                                                                                                                                                                                                                                                                                                                                                                                                                                                                                                                                                                                                             Qian Yunxi, the oldest daughter of the prime minister was born with a special ability. Because of this she was deemed 'abnormal' and was raised at Mt. Lin Yun. Upon turning 16, she took her younger sister's place to marry into the royal family of Ye. Rumors say Ye Youming is strange, cold and cruel. Just how will Qian Yunxi's fate play out? (Source: Baka-Updates Manga)  \n",
       "3  Ten years after the Great War against the demon-beasts, the empire rules over the world and prosperity relies on the massive use of aer. Yuri Lowell and Flynn Scifo are two young men who have just enrolled the ranks of the prestigious Imperial Knights. One day, they are sent to the town of Ceazontania, where abnormal aer activity has reportedly caused the proliferation of horribly mutated beasts, with serious threat for the whole region. Meanwhile, the Knights Supreme Commander Alexei Denoia and the naive Princess Estellise are involved in a behind-the-curtains struggle for power in the capital. The situation in Ceazontania deteriorates as the garrison of Imperial Knights finds that they cannot expect any immediate support from the capital. Then, Niren Fedrok, commander of the Imperial Knights in Ceazontania, takes an unexpected decision that is going to change Yuri and Flynn's destiny forever. What are the secrets behind the extraordinary events that are happening around Yuri and Flynn? Will they be able to defend the innocent people of Ceazontania and stay true to their beliefs? (Source: Funimation)  \n",
       "0                                                                                                                                                                                                                                   he academy Miami Takashi attends, higher education has sunk to the lowest levels of depravity, with armed hall monitors, teachers who wear masks to hide their identities and special detention sessions in a torture chamber beneath the gym! It's a curriculum designed to chew up sweet young things, and poor Miami's been voted \"Least Likely to Survive\" in her class! Is there no hope? Can no one save her? Enter Kekko Kamen, the most outrageous superheroine ever! Clad in a red mask, red boots and nothing else, she is the supreme protector of innocents like Miami. Armed with her trusty nunchaku and a body that just won't quit, she'll make chopped pork out of the swine who run this school from hell! But who is she really? The only one who knows for sure is creator Go Nagai and he's not giving anything away... except lots of free peeks at Kekko Kamen's magnificent physique! (Source: AniDB)  "
      ]
     },
     "execution_count": 51,
     "metadata": {},
     "output_type": "execute_result"
    }
   ],
   "source": [
    "Predicted_rankings_recommender(19)"
   ]
  },
  {
   "cell_type": "code",
   "execution_count": 52,
   "id": "e15bbed8",
   "metadata": {
    "execution": {
     "iopub.execute_input": "2022-09-20T01:19:20.310725Z",
     "iopub.status.busy": "2022-09-20T01:19:20.310013Z",
     "iopub.status.idle": "2022-09-20T01:19:23.478005Z",
     "shell.execute_reply": "2022-09-20T01:19:23.477272Z",
     "shell.execute_reply.started": "2022-09-20T01:09:05.923859Z"
    },
    "papermill": {
     "duration": 3.926752,
     "end_time": "2022-09-20T01:19:23.478160",
     "exception": false,
     "start_time": "2022-09-20T01:19:19.551408",
     "status": "completed"
    },
    "tags": []
   },
   "outputs": [
    {
     "name": "stdout",
     "output_type": "stream",
     "text": [
      "Showing recommendations for user 17\n",
      " Top 10 anime recommendations for you are: \n"
     ]
    },
    {
     "data": {
      "text/html": [
       "<div>\n",
       "<style scoped>\n",
       "    .dataframe tbody tr th:only-of-type {\n",
       "        vertical-align: middle;\n",
       "    }\n",
       "\n",
       "    .dataframe tbody tr th {\n",
       "        vertical-align: top;\n",
       "    }\n",
       "\n",
       "    .dataframe thead th {\n",
       "        text-align: right;\n",
       "    }\n",
       "</style>\n",
       "<table border=\"1\" class=\"dataframe\">\n",
       "  <thead>\n",
       "    <tr style=\"text-align: right;\">\n",
       "      <th></th>\n",
       "      <th>name</th>\n",
       "      <th>predicted_rating</th>\n",
       "      <th>genre</th>\n",
       "      <th>sypnopsis</th>\n",
       "    </tr>\n",
       "  </thead>\n",
       "  <tbody>\n",
       "    <tr>\n",
       "      <th>8</th>\n",
       "      <td>Gokiburi-chan</td>\n",
       "      <td>0.983625</td>\n",
       "      <td>Kids</td>\n",
       "      <td>story about love, friendship, and effort that cockroaches and their friends put into living behind a refrigerator in an ordinary salaryman's family home. Cockroaches who are hated by all humans strive every day to be liked by everyone in the family; will the day when they are accepted by the family come?</td>\n",
       "    </tr>\n",
       "    <tr>\n",
       "      <th>6</th>\n",
       "      <td>Osaru no Tairyou</td>\n",
       "      <td>0.983232</td>\n",
       "      <td>Slice of Life</td>\n",
       "      <td>No synopsis information has been added to this title. Help improve our database by adding a synopsis here .</td>\n",
       "    </tr>\n",
       "    <tr>\n",
       "      <th>1</th>\n",
       "      <td>Fruits Basket 2nd Season</td>\n",
       "      <td>0.982836</td>\n",
       "      <td>Slice of Life, Comedy, Supernatural, Drama, Romance, Shoujo</td>\n",
       "      <td>ar has passed since Tooru Honda began living in the Souma residence, and she has since created stronger relationships with its inhabitants Shigure, Kyou, and Yuki. She has also grown closer to the rest of the Souma family and has become familiar with their ancestral secret, having helped them with many of their personal issues. The closer Tooru gets, however, the more she begins to realize that their secret holds a darker truth than she first presumed. Summer is approaching and Tooru is invited to spend her days with the Soumas, mainly Kyou and Yuki. Tooru wishes for an easy-going vacation, but her close relationships with the two boys and the rest of the Soumas may prove to cause trouble. As they grow more intimate, their carefree time together is hindered by older hardships and feelings from the past that begin to resurface. The Eternal Banquet also dawns on the members of the zodiac, and they must tend to their duties alongside the unnerving head of the family, Akito Souma. With the banquet approaching and a plethora of feelings to be solved, will Tooru's life with the Soumas remain peaceful, or will she find herself in a situation from which she cannot escape?</td>\n",
       "    </tr>\n",
       "    <tr>\n",
       "      <th>5</th>\n",
       "      <td>Grand Marche no Meikyuu</td>\n",
       "      <td>0.981634</td>\n",
       "      <td>Fantasy, Game</td>\n",
       "      <td>The animated opening for Square Enix's Grand Marche no Meikyuu RPG mobile game which launched for Android and iOS on September 8, 2016.</td>\n",
       "    </tr>\n",
       "    <tr>\n",
       "      <th>3</th>\n",
       "      <td>Kimi wo Matsu</td>\n",
       "      <td>0.981452</td>\n",
       "      <td>Drama, Music</td>\n",
       "      <td>usic video for the song Kimi wo Matsu by Aimer that was on her third album \"DAWN\". It was included on DVD with the first press release of the CD. The video was directed by Gaku Kinoshita.</td>\n",
       "    </tr>\n",
       "    <tr>\n",
       "      <th>7</th>\n",
       "      <td>Urda</td>\n",
       "      <td>0.980385</td>\n",
       "      <td>Action, Historical, Military, Sci-Fi</td>\n",
       "      <td>This fictional story took place in Europe around 1943. At that time Nazi secretly plotted a plan called Urda. Two agents, Janet and Erna received a task to investigate and prevent the completion of the secret plan. (Source: AniDB)</td>\n",
       "    </tr>\n",
       "    <tr>\n",
       "      <th>0</th>\n",
       "      <td>Mori no Ongakukai</td>\n",
       "      <td>0.980169</td>\n",
       "      <td>Comedy</td>\n",
       "      <td>During a concert in the forest, the big bad wolf begins to annoy the other animals with his foul smoking, noisy interruptions and destruction of the grounds. The other animals band together and eject the wolf for poor manners.</td>\n",
       "    </tr>\n",
       "    <tr>\n",
       "      <th>2</th>\n",
       "      <td>Soushunfu</td>\n",
       "      <td>0.979507</td>\n",
       "      <td>Kids, Music</td>\n",
       "      <td>usic video for Shonan Chor Grün's performance of Soushunfu that was featured on NHK's Minna no Uta program. The song was originally written and composed in 1913 by Kazumasa Yoshimaru and Akira Nakata respectively. The video was animated by Seiichi Hayashi.</td>\n",
       "    </tr>\n",
       "    <tr>\n",
       "      <th>4</th>\n",
       "      <td>Yuuto-kun ga Iku</td>\n",
       "      <td>0.979341</td>\n",
       "      <td>Kids, Sports</td>\n",
       "      <td>No synopsis information has been added to this title. Help improve our database by adding a synopsis here .</td>\n",
       "    </tr>\n",
       "    <tr>\n",
       "      <th>9</th>\n",
       "      <td>Anne-Happy</td>\n",
       "      <td>0.978240</td>\n",
       "      <td>Slice of Life, Comedy, School</td>\n",
       "      <td>Tennomifune Academy is an elite institution for the best and the brightest, with the exception of Class 1-7, the so-called \"Happiness Class.\" Each member of the classroom copes with personal misfortunes, and the special class is geared to help them move past their issues and find true happiness. After being accepted into the academy, An Hanakoizumi, Ruri Hibarigaoka, and Botan Kumegawa find themselves placed into the Happiness Class, plagued by dreadful luck, love problems, and bad health respectively. Alongside their classmates, they do their best to overcome the difficulties they are faced with in pursuit of a life filled with joy.</td>\n",
       "    </tr>\n",
       "  </tbody>\n",
       "</table>\n",
       "</div>"
      ],
      "text/plain": [
       "                       name  predicted_rating  \\\n",
       "8             Gokiburi-chan          0.983625   \n",
       "6          Osaru no Tairyou          0.983232   \n",
       "1  Fruits Basket 2nd Season          0.982836   \n",
       "5   Grand Marche no Meikyuu          0.981634   \n",
       "3             Kimi wo Matsu          0.981452   \n",
       "7                      Urda          0.980385   \n",
       "0         Mori no Ongakukai          0.980169   \n",
       "2                 Soushunfu          0.979507   \n",
       "4          Yuuto-kun ga Iku          0.979341   \n",
       "9                Anne-Happy          0.978240   \n",
       "\n",
       "                                                         genre  \\\n",
       "8                                                         Kids   \n",
       "6                                                Slice of Life   \n",
       "1  Slice of Life, Comedy, Supernatural, Drama, Romance, Shoujo   \n",
       "5                                                Fantasy, Game   \n",
       "3                                                 Drama, Music   \n",
       "7                         Action, Historical, Military, Sci-Fi   \n",
       "0                                                       Comedy   \n",
       "2                                                  Kids, Music   \n",
       "4                                                 Kids, Sports   \n",
       "9                                Slice of Life, Comedy, School   \n",
       "\n",
       "                                                                                                                                                                                                                                                                                                                                                                                                                                                                                                                                                                                                                                                                                                                                                                                                                                                                                                                                                                                                                                                                                                                                                                                                                        sypnopsis  \n",
       "8                                                                                                                                                                                                                                                                                                                                                                                                                                                                                                                                                                                                                                                                                                                                                                                                                                                                                                               story about love, friendship, and effort that cockroaches and their friends put into living behind a refrigerator in an ordinary salaryman's family home. Cockroaches who are hated by all humans strive every day to be liked by everyone in the family; will the day when they are accepted by the family come?  \n",
       "6                                                                                                                                                                                                                                                                                                                                                                                                                                                                                                                                                                                                                                                                                                                                                                                                                                                                                                                                                                                                                                                                                                                     No synopsis information has been added to this title. Help improve our database by adding a synopsis here .  \n",
       "1  ar has passed since Tooru Honda began living in the Souma residence, and she has since created stronger relationships with its inhabitants Shigure, Kyou, and Yuki. She has also grown closer to the rest of the Souma family and has become familiar with their ancestral secret, having helped them with many of their personal issues. The closer Tooru gets, however, the more she begins to realize that their secret holds a darker truth than she first presumed. Summer is approaching and Tooru is invited to spend her days with the Soumas, mainly Kyou and Yuki. Tooru wishes for an easy-going vacation, but her close relationships with the two boys and the rest of the Soumas may prove to cause trouble. As they grow more intimate, their carefree time together is hindered by older hardships and feelings from the past that begin to resurface. The Eternal Banquet also dawns on the members of the zodiac, and they must tend to their duties alongside the unnerving head of the family, Akito Souma. With the banquet approaching and a plethora of feelings to be solved, will Tooru's life with the Soumas remain peaceful, or will she find herself in a situation from which she cannot escape?  \n",
       "5                                                                                                                                                                                                                                                                                                                                                                                                                                                                                                                                                                                                                                                                                                                                                                                                                                                                                                                                                                                                                                                                                         The animated opening for Square Enix's Grand Marche no Meikyuu RPG mobile game which launched for Android and iOS on September 8, 2016.  \n",
       "3                                                                                                                                                                                                                                                                                                                                                                                                                                                                                                                                                                                                                                                                                                                                                                                                                                                                                                                                                                                                                                     usic video for the song Kimi wo Matsu by Aimer that was on her third album \"DAWN\". It was included on DVD with the first press release of the CD. The video was directed by Gaku Kinoshita.  \n",
       "7                                                                                                                                                                                                                                                                                                                                                                                                                                                                                                                                                                                                                                                                                                                                                                                                                                                                                                                                                                                          This fictional story took place in Europe around 1943. At that time Nazi secretly plotted a plan called Urda. Two agents, Janet and Erna received a task to investigate and prevent the completion of the secret plan. (Source: AniDB)  \n",
       "0                                                                                                                                                                                                                                                                                                                                                                                                                                                                                                                                                                                                                                                                                                                                                                                                                                                                                                                                                                                              During a concert in the forest, the big bad wolf begins to annoy the other animals with his foul smoking, noisy interruptions and destruction of the grounds. The other animals band together and eject the wolf for poor manners.  \n",
       "2                                                                                                                                                                                                                                                                                                                                                                                                                                                                                                                                                                                                                                                                                                                                                                                                                                                                                                                                                                usic video for Shonan Chor Grün's performance of Soushunfu that was featured on NHK's Minna no Uta program. The song was originally written and composed in 1913 by Kazumasa Yoshimaru and Akira Nakata respectively. The video was animated by Seiichi Hayashi.  \n",
       "4                                                                                                                                                                                                                                                                                                                                                                                                                                                                                                                                                                                                                                                                                                                                                                                                                                                                                                                                                                                                                                                                                                                     No synopsis information has been added to this title. Help improve our database by adding a synopsis here .  \n",
       "9                                                                                                                                                                                                                                                                                                                                                                                                                                                                                                                                                               Tennomifune Academy is an elite institution for the best and the brightest, with the exception of Class 1-7, the so-called \"Happiness Class.\" Each member of the classroom copes with personal misfortunes, and the special class is geared to help them move past their issues and find true happiness. After being accepted into the academy, An Hanakoizumi, Ruri Hibarigaoka, and Botan Kumegawa find themselves placed into the Happiness Class, plagued by dreadful luck, love problems, and bad health respectively. Alongside their classmates, they do their best to overcome the difficulties they are faced with in pursuit of a life filled with joy.  "
      ]
     },
     "execution_count": 52,
     "metadata": {},
     "output_type": "execute_result"
    }
   ],
   "source": [
    "Predicted_rankings_recommender(random_user=17)"
   ]
  },
  {
   "cell_type": "markdown",
   "id": "6f38d6d8",
   "metadata": {
    "papermill": {
     "duration": 0.751644,
     "end_time": "2022-09-20T01:19:24.977463",
     "exception": false,
     "start_time": "2022-09-20T01:19:24.225819",
     "status": "completed"
    },
    "tags": []
   },
   "source": [
    "# 8. Saving Model\n",
    "Further plans to use this model to create a Recommendation app and deploy it on Heroku."
   ]
  },
  {
   "cell_type": "code",
   "execution_count": 53,
   "id": "a4708705",
   "metadata": {
    "execution": {
     "iopub.execute_input": "2022-09-20T01:19:26.487087Z",
     "iopub.status.busy": "2022-09-20T01:19:26.485064Z",
     "iopub.status.idle": "2022-09-20T01:19:27.252390Z",
     "shell.execute_reply": "2022-09-20T01:19:27.252940Z",
     "shell.execute_reply.started": "2022-09-20T00:55:53.494135Z"
    },
    "papermill": {
     "duration": 1.524786,
     "end_time": "2022-09-20T01:19:27.253166",
     "exception": false,
     "start_time": "2022-09-20T01:19:25.728380",
     "status": "completed"
    },
    "tags": []
   },
   "outputs": [
    {
     "data": {
      "text/html": [
       "<a href='./anime_model.h5' target='_blank'>./anime_model.h5</a><br>"
      ],
      "text/plain": [
       "/kaggle/working/anime_model.h5"
      ]
     },
     "execution_count": 53,
     "metadata": {},
     "output_type": "execute_result"
    }
   ],
   "source": [
    "model.save('anime_model.h5')\n",
    "FileLink(r'./anime_model.h5')"
   ]
  },
  {
   "cell_type": "code",
   "execution_count": null,
   "id": "36ab0625",
   "metadata": {
    "papermill": {
     "duration": 0.746499,
     "end_time": "2022-09-20T01:19:28.755382",
     "exception": false,
     "start_time": "2022-09-20T01:19:28.008883",
     "status": "completed"
    },
    "tags": []
   },
   "outputs": [],
   "source": []
  }
 ],
 "metadata": {
  "kernelspec": {
   "display_name": "Python 3",
   "language": "python",
   "name": "python3"
  },
  "language_info": {
   "codemirror_mode": {
    "name": "ipython",
    "version": 3
   },
   "file_extension": ".py",
   "mimetype": "text/x-python",
   "name": "python",
   "nbconvert_exporter": "python",
   "pygments_lexer": "ipython3",
   "version": "3.7.10"
  },
  "papermill": {
   "default_parameters": {},
   "duration": 439.711027,
   "end_time": "2022-09-20T01:19:32.877891",
   "environment_variables": {},
   "exception": null,
   "input_path": "__notebook__.ipynb",
   "output_path": "__notebook__.ipynb",
   "parameters": {},
   "start_time": "2022-09-20T01:12:13.166864",
   "version": "2.3.3"
  }
 },
 "nbformat": 4,
 "nbformat_minor": 5
}
